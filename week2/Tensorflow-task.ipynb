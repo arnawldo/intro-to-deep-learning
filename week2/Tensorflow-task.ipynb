{
 "cells": [
  {
   "cell_type": "markdown",
   "metadata": {
    "slideshow": {
     "slide_type": "slide"
    }
   },
   "source": [
    "# Going deeper with Tensorflow\n",
    "\n",
    "In this video, we're going to study the tools you'll use to build deep learning models. Namely, [Tensorflow](https://www.tensorflow.org/).\n",
    "\n",
    "If you're running this notebook outside the course environment, you'll need to install tensorflow:\n",
    "* `pip install tensorflow` should install cpu-only TF on Linux & Mac OS\n",
    "* If you want GPU support from offset, see [TF install page](https://www.tensorflow.org/install/)"
   ]
  },
  {
   "cell_type": "code",
   "execution_count": 1,
   "metadata": {},
   "outputs": [],
   "source": [
    "import sys\n",
    "sys.path.append(\"..\")\n",
    "import grading"
   ]
  },
  {
   "cell_type": "markdown",
   "metadata": {},
   "source": [
    "# Visualization"
   ]
  },
  {
   "cell_type": "markdown",
   "metadata": {},
   "source": [
    "Plase note that if you are running on the Coursera platform, you won't be able to access the tensorboard instance due to the network setup there. If you run the notebook locally, you should be able to access TensorBoard on http://127.0.0.1:7007/"
   ]
  },
  {
   "cell_type": "code",
   "execution_count": 2,
   "metadata": {},
   "outputs": [
    {
     "name": "stdout",
     "output_type": "stream",
     "text": [
      "No matching processes belonging to you were found\n"
     ]
    }
   ],
   "source": [
    "! killall tensorboard\n",
    "import os\n",
    "os.system(\"tensorboard --logdir=/tmp/tboard --port=7007 &\");"
   ]
  },
  {
   "cell_type": "code",
   "execution_count": 3,
   "metadata": {},
   "outputs": [
    {
     "name": "stderr",
     "output_type": "stream",
     "text": [
      "/Users/arnoldo/anaconda3/lib/python3.6/site-packages/h5py/__init__.py:36: FutureWarning: Conversion of the second argument of issubdtype from `float` to `np.floating` is deprecated. In future, it will be treated as `np.float64 == np.dtype(float).type`.\n",
      "  from ._conv import register_converters as _register_converters\n"
     ]
    }
   ],
   "source": [
    "import tensorflow as tf\n",
    "s = tf.InteractiveSession()"
   ]
  },
  {
   "cell_type": "markdown",
   "metadata": {},
   "source": [
    "# Warming up\n",
    "For starters, let's implement a python function that computes the sum of squares of numbers from 0 to N-1."
   ]
  },
  {
   "cell_type": "code",
   "execution_count": 4,
   "metadata": {},
   "outputs": [],
   "source": [
    "import numpy as np\n",
    "def sum_sin(N):\n",
    "    return np.sum(np.arange(N)**2)"
   ]
  },
  {
   "cell_type": "code",
   "execution_count": 5,
   "metadata": {},
   "outputs": [
    {
     "name": "stdout",
     "output_type": "stream",
     "text": [
      "CPU times: user 536 ms, sys: 563 ms, total: 1.1 s\n",
      "Wall time: 1.13 s\n"
     ]
    },
    {
     "data": {
      "text/plain": [
       "662921401752298880"
      ]
     },
     "execution_count": 5,
     "metadata": {},
     "output_type": "execute_result"
    }
   ],
   "source": [
    "%%time\n",
    "sum_sin(10**8)"
   ]
  },
  {
   "cell_type": "markdown",
   "metadata": {},
   "source": [
    "# Tensoflow teaser\n",
    "\n",
    "Doing the very same thing"
   ]
  },
  {
   "cell_type": "code",
   "execution_count": 6,
   "metadata": {},
   "outputs": [],
   "source": [
    "# An integer parameter\n",
    "N = tf.placeholder('int64', name=\"input_to_your_function\")\n",
    "\n",
    "# A recipe on how to produce the same result\n",
    "result = tf.reduce_sum(tf.range(N)**2)"
   ]
  },
  {
   "cell_type": "code",
   "execution_count": 7,
   "metadata": {},
   "outputs": [
    {
     "data": {
      "text/plain": [
       "<tf.Tensor 'Sum:0' shape=() dtype=int64>"
      ]
     },
     "execution_count": 7,
     "metadata": {},
     "output_type": "execute_result"
    }
   ],
   "source": [
    "result"
   ]
  },
  {
   "cell_type": "code",
   "execution_count": 8,
   "metadata": {},
   "outputs": [
    {
     "name": "stdout",
     "output_type": "stream",
     "text": [
      "CPU times: user 564 ms, sys: 254 ms, total: 818 ms\n",
      "Wall time: 550 ms\n"
     ]
    },
    {
     "data": {
      "text/plain": [
       "662921401752298880"
      ]
     },
     "execution_count": 8,
     "metadata": {},
     "output_type": "execute_result"
    }
   ],
   "source": [
    "%%time\n",
    "result.eval({N: 10**8})"
   ]
  },
  {
   "cell_type": "code",
   "execution_count": 9,
   "metadata": {},
   "outputs": [],
   "source": [
    "writer = tf.summary.FileWriter(\"/tmp/tboard\", graph=s.graph)"
   ]
  },
  {
   "cell_type": "markdown",
   "metadata": {},
   "source": [
    "# How does it work?\n",
    "1. Define placeholders where you'll send inputs\n",
    "2. Make symbolic graph: a recipe for mathematical transformation of those placeholders\n",
    "3. Compute outputs of your graph with particular values for each placeholder\n",
    "  * `output.eval({placeholder:value})`\n",
    "  * `s.run(output, {placeholder:value})`\n",
    "\n",
    "So far there are two main entities: \"placeholder\" and \"transformation\"\n",
    "* Both can be numbers, vectors, matrices, tensors, etc.\n",
    "* Both can be int32/64, floats, booleans (uint8) of various size.\n",
    "\n",
    "* You can define new transformations as an arbitrary operation on placeholders and other transformations\n",
    " * `tf.reduce_sum(tf.arange(N)**2)` are 3 sequential transformations of placeholder `N`\n",
    " * There's a tensorflow symbolic version for every numpy function\n",
    "   * `a+b, a/b, a**b, ...` behave just like in numpy\n",
    "   * `np.mean` -> `tf.reduce_mean`\n",
    "   * `np.arange` -> `tf.range`\n",
    "   * `np.cumsum` -> `tf.cumsum`\n",
    "   * If if you can't find the op you need, see the [docs](https://www.tensorflow.org/api_docs/python).\n",
    "   \n",
    "`tf.contrib` has many high-level features, may be worth a look."
   ]
  },
  {
   "cell_type": "code",
   "execution_count": 10,
   "metadata": {},
   "outputs": [],
   "source": [
    "with tf.name_scope(\"Placeholders_examples\"):\n",
    "    # Default placeholder that can be arbitrary float32\n",
    "    # scalar, vertor, matrix, etc.\n",
    "    arbitrary_input = tf.placeholder('float32')\n",
    "\n",
    "    # Input vector of arbitrary length\n",
    "    input_vector = tf.placeholder('float32', shape=(None,))\n",
    "\n",
    "    # Input vector that _must_ have 10 elements and integer type\n",
    "    fixed_vector = tf.placeholder('int32', shape=(10,))\n",
    "\n",
    "    # Matrix of arbitrary n_rows and 15 columns\n",
    "    # (e.g. a minibatch your data table)\n",
    "    input_matrix = tf.placeholder('float32', shape=(None, 15))\n",
    "    \n",
    "    # You can generally use None whenever you don't need a specific shape\n",
    "    input1 = tf.placeholder('float64', shape=(None, 100, None))\n",
    "    input2 = tf.placeholder('int32', shape=(None, None, 3, 224, 224))\n",
    "\n",
    "    # elementwise multiplication\n",
    "    double_the_vector = input_vector*2\n",
    "\n",
    "    # elementwise cosine\n",
    "    elementwise_cosine = tf.cos(input_vector)\n",
    "\n",
    "    # difference between squared vector and vector itself plus one\n",
    "    vector_squares = input_vector**2 - input_vector + 1"
   ]
  },
  {
   "cell_type": "code",
   "execution_count": 11,
   "metadata": {},
   "outputs": [],
   "source": [
    "my_vector =  tf.placeholder('float32', shape=(None,), name=\"VECTOR_1\")\n",
    "my_vector2 = tf.placeholder('float32', shape=(None,))\n",
    "my_transformation = my_vector * my_vector2 / (tf.sin(my_vector) + 1)"
   ]
  },
  {
   "cell_type": "code",
   "execution_count": 12,
   "metadata": {},
   "outputs": [
    {
     "name": "stdout",
     "output_type": "stream",
     "text": [
      "Tensor(\"truediv:0\", shape=(?,), dtype=float32)\n"
     ]
    }
   ],
   "source": [
    "print(my_transformation)"
   ]
  },
  {
   "cell_type": "code",
   "execution_count": 13,
   "metadata": {},
   "outputs": [
    {
     "name": "stdout",
     "output_type": "stream",
     "text": [
      "[0. 1. 2. 3. 4.]\n"
     ]
    },
    {
     "data": {
      "text/plain": [
       "array([0.       , 1.6291324, 2.0950115, 2.6289961, 0.       ],\n",
       "      dtype=float32)"
      ]
     },
     "execution_count": 13,
     "metadata": {},
     "output_type": "execute_result"
    }
   ],
   "source": [
    "dummy = np.arange(5).astype('float32')\n",
    "print(dummy)\n",
    "my_transformation.eval({my_vector:dummy, my_vector2:dummy[::-1]})"
   ]
  },
  {
   "cell_type": "code",
   "execution_count": 14,
   "metadata": {},
   "outputs": [],
   "source": [
    "writer.add_graph(my_transformation.graph)\n",
    "writer.flush()"
   ]
  },
  {
   "cell_type": "markdown",
   "metadata": {},
   "source": [
    "TensorBoard allows writing scalars, images, audio, histogram. You can read more on tensorboard usage [here](https://www.tensorflow.org/get_started/graph_viz)."
   ]
  },
  {
   "cell_type": "markdown",
   "metadata": {},
   "source": [
    "# Summary\n",
    "* Tensorflow is based on computation graphs\n",
    "* The graphs consist of placehlders and transformations"
   ]
  },
  {
   "cell_type": "markdown",
   "metadata": {},
   "source": [
    "# Mean squared error\n",
    "\n",
    "Your assignment is to implement mean squared error in tensorflow."
   ]
  },
  {
   "cell_type": "code",
   "execution_count": 15,
   "metadata": {
    "collapsed": true
   },
   "outputs": [],
   "source": [
    "with tf.name_scope(\"MSE\"):\n",
    "    y_true = tf.placeholder(\"float32\", shape=(None,), name=\"y_true\")\n",
    "    y_predicted = tf.placeholder(\"float32\", shape=(None,), name=\"y_predicted\")\n",
    "    # Your code goes here\n",
    "    # You want to use tf.reduce_mean\n",
    "    # mse = tf.<...>\n",
    "    mse = tf.reduce_mean((y_predicted - y_true)**2)\n",
    "    \n",
    "def compute_mse(vector1, vector2):\n",
    "    return mse.eval({y_true: vector1, y_predicted: vector2})"
   ]
  },
  {
   "cell_type": "code",
   "execution_count": 16,
   "metadata": {
    "collapsed": true
   },
   "outputs": [],
   "source": [
    "writer.add_graph(mse.graph)\n",
    "writer.flush()"
   ]
  },
  {
   "cell_type": "markdown",
   "metadata": {},
   "source": [
    "Tests and result submission. Please use the credentials obtained from the Coursera assignment page."
   ]
  },
  {
   "cell_type": "code",
   "execution_count": 17,
   "metadata": {
    "collapsed": true
   },
   "outputs": [],
   "source": [
    "import submit"
   ]
  },
  {
   "cell_type": "code",
   "execution_count": 18,
   "metadata": {},
   "outputs": [
    {
     "name": "stdout",
     "output_type": "stream",
     "text": [
      "Submitted to Coursera platform. See results on assignment page!\n"
     ]
    }
   ],
   "source": [
    "submit.submit_mse(compute_mse, 'taremwaarnold@gmail.com', 'gPMtZ36pMgZg6ZkJ')"
   ]
  },
  {
   "cell_type": "markdown",
   "metadata": {},
   "source": [
    "# Variables\n",
    "\n",
    "The inputs and transformations have no value outside function call. This isn't too comfortable if you want your model to have parameters (e.g. network weights) that are always present, but can change their value over time.\n",
    "\n",
    "Tensorflow solves this with `tf.Variable` objects.\n",
    "* You can assign variable a value at any time in your graph\n",
    "* Unlike placeholders, there's no need to explicitly pass values to variables when `s.run(...)`-ing\n",
    "* You can use variables the same way you use transformations \n",
    " "
   ]
  },
  {
   "cell_type": "code",
   "execution_count": 19,
   "metadata": {},
   "outputs": [],
   "source": [
    "# Creating a shared variable\n",
    "shared_vector_1 = tf.Variable(initial_value=np.ones(5),\n",
    "                              name=\"example_variable\")"
   ]
  },
  {
   "cell_type": "code",
   "execution_count": 20,
   "metadata": {},
   "outputs": [
    {
     "name": "stdout",
     "output_type": "stream",
     "text": [
      "Initial value [1. 1. 1. 1. 1.]\n"
     ]
    }
   ],
   "source": [
    "# Initialize variable(s) with initial values\n",
    "s.run(tf.global_variables_initializer())\n",
    "\n",
    "# Evaluating shared variable (outside symbolic graph)\n",
    "print(\"Initial value\", s.run(shared_vector_1))\n",
    "\n",
    "# Within symbolic graph you use them just\n",
    "# as any other inout or transformation, not \"get value\" needed"
   ]
  },
  {
   "cell_type": "code",
   "execution_count": 21,
   "metadata": {},
   "outputs": [
    {
     "name": "stdout",
     "output_type": "stream",
     "text": [
      "New value [0. 1. 2. 3. 4.]\n"
     ]
    }
   ],
   "source": [
    "# Setting a new value\n",
    "s.run(shared_vector_1.assign(np.arange(5)))\n",
    "\n",
    "# Getting that new value\n",
    "print(\"New value\", s.run(shared_vector_1))"
   ]
  },
  {
   "cell_type": "markdown",
   "metadata": {},
   "source": [
    "# tf.gradients - why graphs matter\n",
    "* Tensorflow can compute derivatives and gradients automatically using the computation graph\n",
    "* True to its name it can manage matrix derivatives\n",
    "* Gradients are computed as a product of elementary derivatives via the chain rule:\n",
    "\n",
    "$$ {\\partial f(g(x)) \\over \\partial x} = {\\partial f(g(x)) \\over \\partial g(x)}\\cdot {\\partial g(x) \\over \\partial x} $$\n",
    "\n",
    "It can get you the derivative of any graph as long as it knows how to differentiate elementary operations"
   ]
  },
  {
   "cell_type": "code",
   "execution_count": 22,
   "metadata": {},
   "outputs": [],
   "source": [
    "my_scalar = tf.placeholder('float32')\n",
    "\n",
    "scalar_squared = my_scalar**2\n",
    "\n",
    "# A derivative of scalar_squared by my_scalar\n",
    "derivative = tf.gradients(scalar_squared, [my_scalar, ])"
   ]
  },
  {
   "cell_type": "code",
   "execution_count": 23,
   "metadata": {},
   "outputs": [
    {
     "data": {
      "text/plain": [
       "[<tf.Tensor 'gradients/pow_1_grad/Reshape:0' shape=<unknown> dtype=float32>]"
      ]
     },
     "execution_count": 23,
     "metadata": {},
     "output_type": "execute_result"
    }
   ],
   "source": [
    "derivative"
   ]
  },
  {
   "cell_type": "code",
   "execution_count": 24,
   "metadata": {},
   "outputs": [
    {
     "data": {
      "image/png": "[encoded data removed]",
      "text/plain": [
       "<matplotlib.figure.Figure at 0x1a1d35a710>"
      ]
     },
     "metadata": {},
     "output_type": "display_data"
    }
   ],
   "source": [
    "import matplotlib.pyplot as plt\n",
    "%matplotlib inline\n",
    "\n",
    "x = np.linspace(-3, 3)\n",
    "x_squared, x_squared_der = s.run([scalar_squared, derivative[0]],\n",
    "                                 {my_scalar:x})\n",
    "\n",
    "plt.plot(x, x_squared,label=\"$x^2$\")\n",
    "plt.plot(x, x_squared_der, label=r\"$\\frac{dx^2}{dx}$\")\n",
    "plt.legend();"
   ]
  },
  {
   "cell_type": "markdown",
   "metadata": {},
   "source": [
    "# Why that rocks"
   ]
  },
  {
   "cell_type": "code",
   "execution_count": 25,
   "metadata": {},
   "outputs": [],
   "source": [
    "my_vector = tf.placeholder('float32', [None])\n",
    "# Compute the gradient of the next weird function over my_scalar and my_vector\n",
    "# Warning! Trying to understand the meaning of that function may result in permanent brain damage\n",
    "weird_psychotic_function = tf.reduce_mean(\n",
    "    (my_vector+my_scalar)**(1+tf.nn.moments(my_vector,[0])[1]) + \n",
    "    1./ tf.atan(my_scalar))/(my_scalar**2 + 1) + 0.01*tf.sin(\n",
    "    2*my_scalar**1.5)*(tf.reduce_sum(my_vector)* my_scalar**2\n",
    "                      )*tf.exp((my_scalar-4)**2)/(\n",
    "    1+tf.exp((my_scalar-4)**2))*(1.-(tf.exp(-(my_scalar-4)**2)\n",
    "                                    )/(1+tf.exp(-(my_scalar-4)**2)))**2\n",
    "\n",
    "der_by_scalar = tf.gradients(weird_psychotic_function, my_scalar)\n",
    "der_by_vector = tf.gradients(weird_psychotic_function, my_vector)"
   ]
  },
  {
   "cell_type": "code",
   "execution_count": 26,
   "metadata": {},
   "outputs": [
    {
     "data": {
      "image/png": "[encoded data removed]",
      "text/plain": [
       "<matplotlib.figure.Figure at 0x181ccabbe0>"
      ]
     },
     "metadata": {},
     "output_type": "display_data"
    }
   ],
   "source": [
    "# Plotting the derivative\n",
    "scalar_space = np.linspace(1, 7, 100)\n",
    "\n",
    "y = [s.run(weird_psychotic_function, {my_scalar:x, my_vector:[1, 2, 3]})\n",
    "     for x in scalar_space]\n",
    "\n",
    "plt.plot(scalar_space, y, label='function')\n",
    "\n",
    "y_der_by_scalar = [s.run(der_by_scalar,\n",
    "                         {my_scalar:x, my_vector:[1, 2, 3]})\n",
    "                   for x in scalar_space]\n",
    "\n",
    "plt.plot(scalar_space, y_der_by_scalar, label='derivative')\n",
    "plt.grid()\n",
    "plt.legend();"
   ]
  },
  {
   "cell_type": "markdown",
   "metadata": {},
   "source": [
    "# Almost done - optimizers\n",
    "\n",
    "While you can perform gradient descent by hand with automatic grads from above, tensorflow also has some optimization methods implemented for you. Recall momentum & rmsprop?"
   ]
  },
  {
   "cell_type": "code",
   "execution_count": 27,
   "metadata": {},
   "outputs": [],
   "source": [
    "y_guess = tf.Variable(np.zeros(2, dtype='float32'))\n",
    "y_true = tf.range(1, 3, dtype='float32')\n",
    "loss = tf.reduce_mean((y_guess - y_true + tf.random_normal([2]))**2) \n",
    "#loss = tf.reduce_mean((y_guess - y_true)**2) \n",
    "optimizer = tf.train.MomentumOptimizer(0.01, 0.5).minimize(\n",
    "    loss, var_list=y_guess)"
   ]
  },
  {
   "cell_type": "code",
   "execution_count": 28,
   "metadata": {},
   "outputs": [
    {
     "data": {
      "image/png": "[encoded data removed]",
      "text/plain": [
       "<matplotlib.figure.Figure at 0x1a287de978>"
      ]
     },
     "metadata": {},
     "output_type": "display_data"
    }
   ],
   "source": [
    "from matplotlib import animation, rc\n",
    "import matplotlib_utils\n",
    "from IPython.display import HTML, display_html\n",
    "\n",
    "fig, ax = plt.subplots()\n",
    "y_true_value = s.run(y_true)\n",
    "level_x = np.arange(0, 2, 0.02)\n",
    "level_y = np.arange(0, 3, 0.02)\n",
    "X, Y = np.meshgrid(level_x, level_y)\n",
    "Z = (X - y_true_value[0])**2 + (Y - y_true_value[1])**2\n",
    "ax.set_xlim(-0.02, 2)\n",
    "ax.set_ylim(-0.02, 3)\n",
    "s.run(tf.global_variables_initializer())\n",
    "ax.scatter(*s.run(y_true), c='red')\n",
    "contour = ax.contour(X, Y, Z, 10)\n",
    "ax.clabel(contour, inline=1, fontsize=10)\n",
    "line, = ax.plot([], [], lw=2)\n",
    "\n",
    "def init():\n",
    "    line.set_data([], [])\n",
    "    return (line,)\n",
    "\n",
    "guesses = [s.run(y_guess)]\n",
    "\n",
    "def animate(i):\n",
    "    s.run(optimizer)\n",
    "    guesses.append(s.run(y_guess))\n",
    "    line.set_data(*zip(*guesses))\n",
    "    return (line,)\n",
    "\n",
    "anim = animation.FuncAnimation(fig, animate, init_func=init,\n",
    "                               frames=400, interval=20, blit=True)"
   ]
  },
  {
   "cell_type": "code",
   "execution_count": 29,
   "metadata": {},
   "outputs": [
    {
     "data": {
      "text/html": [
       "<video width=\"432\" height=\"288\" controls autoplay loop>\n",
       "  <source type=\"video/mp4\" src=\"data:video/mp4;base64,AAAAHGZ0eXBNNFYgAAACAGlzb21pc28yYXZjMQAAAAhmcmVlAAC5kG1kYXQAAAKuBgX//6rcRem9\n",
       "5tlIt5Ys2CDZI+7veDI2NCAtIGNvcmUgMTUyIHIyODU0IGU5YTU5MDMgLSBILjI2NC9NUEVHLTQg\n",
       "QVZDIGNvZGVjIC0gQ29weWxlZnQgMjAwMy0yMDE3IC0gaHR0cDovL3d3dy52aWRlb2xhbi5vcmcv\n",
       "eDI2NC5odG1sIC0gb3B0aW9uczogY2FiYWM9MSByZWY9MyBkZWJsb2NrPTE6MDowIGFuYWx5c2U9\n",
       "MHgzOjB4MTEzIG1lPWhleCBzdWJtZT03IHBzeT0xIHBzeV9yZD0xLjAwOjAuMDAgbWl4ZWRfcmVm\n",
       "PTEgbWVfcmFuZ2U9MTYgY2hyb21hX21lPTEgdHJlbGxpcz0xIDh4OGRjdD0xIGNxbT0wIGRlYWR6\n",
       "b25lPTIxLDExIGZhc3RfcHNraXA9MSBjaHJvbWFfcXBfb2Zmc2V0PS0yIHRocmVhZHM9NiBsb29r\n",
       "YWhlYWRfdGhyZWFkcz0xIHNsaWNlZF90aHJlYWRzPTAgbnI9MCBkZWNpbWF0ZT0xIGludGVybGFj\n",
       "ZWQ9MCBibHVyYXlfY29tcGF0PTAgY29uc3RyYWluZWRfaW50cmE9MCBiZnJhbWVzPTMgYl9weXJh\n",
       "bWlkPTIgYl9hZGFwdD0xIGJfYmlhcz0wIGRpcmVjdD0xIHdlaWdodGI9MSBvcGVuX2dvcD0wIHdl\n",
       "aWdodHA9MiBrZXlpbnQ9MjUwIGtleWludF9taW49MjUgc2NlbmVjdXQ9NDAgaW50cmFfcmVmcmVz\n",
       "aD0wIHJjX2xvb2thaGVhZD00MCByYz1jcmYgbWJ0cmVlPTEgY3JmPTIzLjAgcWNvbXA9MC42MCBx\n",
       "cG1pbj0wIHFwbWF4PTY5IHFwc3RlcD00IGlwX3JhdGlvPTEuNDAgYXE9MToxLjAwAIAAADJMZYiE\n",
       "AC///vau/MsrRwuVLh1Ze7NR8uhJcv2IMH1oAAADAADVayF8oYJVUBjg5Cl8UC950wnQObmxLpMS\n",
       "eTd2N1o7ZvU7nZLqidQWs9IRqH4qZFuUNOvgrgAArGB7WlETloPe/JP4T9cYmW8XOcea2PNfdAfD\n",
       "fd6Iz/LDNKQmyT4UtqyM9VpZ4KW4uKMcNNP2NwTR824pPid9OGlJeuy3yaveIX6TYaJhi3+GxsUl\n",
       "gbdD7wi6WJ8qZSi0PaSn2s4FhcA/XBehncfXRTTznwpqU6eKyFdeuHcy8ZSuHOb76LAZfI9CLqoi\n",
       "rhqAnYx1QmNUdKYgN2Ghp59bZ1F75OEV4hsJWbD4MVPa9dxGgZnyICgNdrvPzXjyiDEJ/sLUA0io\n",
       "jEvnr9yAAEtqpv0e6/hhyHlCpU10mTMbXmfRj8bYGy26WfmWfnj/Ylpn3Ey+mVffWnXaCd29q0w/\n",
       "xD5oiqs7ysEzxEpQzqNukNafCsOpRaMygcotK1tvNtBQ1aKv20FvT0/TclkK72aoqB7PLJjmNRbE\n",
       "gTR9pmLAUP9RRBbTPdpYtp8yDTEgW04qybJag2mqSoeyypGkWX19vHjijtrAg3NogpiR0ZjvMQkS\n",
       "SfYwv6gP3n9JhZnLtx04NKokoPiIPYsnFiXDElwiX3pg65X4X1PEQtKgva9vZDnkZZdKeIt8qYuh\n",
       "Rh+rHc6kk3NOd4xhvZfsDQ4MzkPijfgR6lfJfbf/UdpNLspZbSUfaDZ2ksTG8XwytDPclrX4fzDx\n",
       "D522DhRHjX58DYsPxADFD7XlCS47a/6bzwCP8M4i+lX7sAh7IPQITvL3O437Pb5v38F3JSdQjuQD\n",
       "+T7axFzALehH2dUgzCu+rJhFjqANRbbcH47qEhEPOt31QcgJT9EwXcGHQy88ymlV9ep8qQn+/JIN\n",
       "T61pdnnKLnTxPi3x+daYBkOMiN6A478nJZ+bSIL+EjKpDVhypYQHKgZu7DauGJGOdlNS+aVX630f\n",
       "RiZ3ysf57mjpYZYtQ3BE1OMNMU3x2dprgw951hsyq7bZfM0KeS2XRtDD9U6hLLKiFe86LoZ+mpDb\n",
       "9Cqa3KZ0xaqbD0jHMOma/8H7T8m6SJfCULFvPFu/47/pV1lmezlVg1eF1c+hAhsanhYOY9LBPJxA\n",
       "3hra6xayeb5eFfTXnpbxNPIxCPyLiQddLNgiy8WHGyr5bhwD1HiDCKBf9cxLYbLsWBEwVTpVS4UZ\n",
       "/eyWboayyIzgk0ezmIpqTG7iH/91MDUEENFsRh2hZ8oTfjECf8QsbNWbxO9DlbpNisSWr8jluSaE\n",
       "j6PZ5JnwzJkvMUqzKVJqc0j/ABAL90oAddvFcaeRn7eXq1QDeh+gLL9mIgP+PEnW2SvKJ31ELbRY\n",
       "HqFQfBZ/vPH7e32Wta9i/dFARRVpTTgTAWKjH2YRu8EIU+7fMpHSoHlt+DTsSljAZvSjOu8CJ8QS\n",
       "Tcv+7YlXePYBnm7bbY3iilr4obCVmrKXsMcxpCYfkBBa1aulDndBbkBNFXuHUgNuhW3VBpkXofKX\n",
       "NSdr20071MGav6zPV5yI1EkduEsmNVMMFtsFEP/VXVD8P3AT86Ck9AC72waRrb+n6GRWDW5Wk7IY\n",
       "eW/u8pN+oDcJyLYU1TTrwylwSDD2XvNoZBzTl4imF60ScaE8OUNj1P1/MfFGPjQDlPF+YjKbTi0l\n",
       "a//Fsu+SMi2oeIA0Z6UQoSN1B9LAABNGW4tdtghh6m2shAVZ7sKvHHY0hLuqTW43R8hwyMoNCBxl\n",
       "lBDLb8RM2rz9l5SFotdiisL/yyA3viBzPmGXr5sVBn7ujN+Bsn5H+EQMYOFHstjS5re9ctPUFgUg\n",
       "UrWEmZP374wo6N2qzrdQpKQPyRTU/7vY2EpTwD3v8Sx58jfDTeCMG6eCWp7hGRW+LPTyNsuiN0Ir\n",
       "Kdlv0WV2gxF6I6yUdVVXlvEC7IZcABEpPFJJCNr1WLBai4cF2aEIU/EYCrc9W0O+oui8QTutq2jN\n",
       "j9P/uOTwUQ5YwFTFHV5fx9mSCSce0diHEcz/by7MM6CeXbePpnYaER/lhVRg6gPyPx9fpYgPjgb5\n",
       "42U7xAj+qA/o7fGMbyZQPtJUNQfLmtZ2BKAgfwoI3FjqCpj6yYyf/mXSrjmZv2gjIBJRmzudcZmz\n",
       "O5YjkTfv7L9idZB22J8ihMCjlJLkr7AK99GLy5zFEzV1+fVZDqN3cvnnt3+LWfae/XgMFvGcpi8I\n",
       "biO9jjJItfXA6aTF4FNtQCgseohSKL2a1h0LI76rGrPc/02WxSsq2WwtRxUQCa3sISDbb93eQLvz\n",
       "FZzeie8wPKym2i6rcZAgCOPuTqobO7VwHc3hXIyIVJyzMOJoED7NcrjBf9q5MWLE666trpoSPFJC\n",
       "HGIyU7zeMY3bGYW37b8mDgd+mMt/hwRYKnA7eBOY1Ut9vTQ3R+DIb3vephh2NBXdPZRmMPGY5Bt9\n",
       "3JogQQ+QJjvo9M2CNQOzBKb5jx+OFIwnXhhzg3nM+wiVP6P7zmuyWXeeeThH1P+qmOLiz/+cd5Gi\n",
       "5l+pOrGwyIIgGtKtTpRKcpMVxD6rl/P2yNxryIQ0ZQJc+1NywIEjBmzadJtqhn6xBm0+YmRrFslt\n",
       "FWZ26+AzlF0shrTqGofIGotDREg3JEJAYDaX+AfafPRqSckhW1DzSGQKvDCGSwkglXtwdIJMpHnQ\n",
       "2azg14mmTO73uXLem6VNyOqQx9i4oqb5pugid+j+M335cuzbNvLS77uYelu4KFTjyx6hkVuXEGKX\n",
       "T3x7Es51xVJXOGP4AxB/x0TBDF38EXZ9xc75cwI/lmWO5Jo2zl7JiC/dD10dTB0bI1Dp3xlAZRhX\n",
       "ML7qukur59HEeIDV21WrZUSnS0QQSymGLbhbsECIrqm8H12hCJ9enH0XKfiTZb5TsiAi23g2YhHm\n",
       "bXq5+75O0DuY6YM8Bg+kb8B/trqQFSwUFygdPDOIzzQ/fBovR9VH2V7ibcyXIWvZVw2YVyWI68Yh\n",
       "0DsQbaTQYwY6wDhHtSllJrbEXKX3SS4yhXfnAk9+C2eTMq0kvZJVjInGxKM1kYmPNV8qefsifuGZ\n",
       "c56ZrwGrpAHONyAHotefGw1D7HCF4dZWumrTCONSzw6IdMwDzO1Lo3CG2VYB3dRzPNSgtFmPnK8R\n",
       "y+l0FNwbWLimPAv5hMa4P+M+UQSGse4MPB152hnO2HQYjKgnOOsJNI7N+EzrxSfQ1cUsndSkWQEk\n",
       "/I65nxhaOPBhQ1TJZxQVExmZ7pwmLuvC69EiL+mdBYBVv3G0/DMqnR/Cg5iAxKxdJDgyrdYmJ9f/\n",
       "r8ltmgIHjbrwX3IKO9K/Ijq4piJrN+IbTxRVGw79U5AyhMNfXCxbUTz5qmp106qjx1LidoDBizr3\n",
       "ZnzfiQqtLWTUVKbJjRfpcarJmaL93jb8vecYEJCUCbQ7Ih3X41eg+R6caCgH6b/fuXwDs2fe32W1\n",
       "V3cMuiM5+xhl+YWQqrmshSVEGOun6kxSfyscxekQdajWie7Qe1kXS/x9dK2fwKrMhvQo3fWRI5bt\n",
       "+eQ+roFx7u+F4ZXnSkncW2wVXJi8G41nSPa7tCvtJ7pZ/4i8VIB+8rAALkZmYua07V2WqW0rnap3\n",
       "t3OrgcW2gX6mL2u6OENX7xLGLpsNutWnoCarN+PS6Nrkoa0QnGNwCQ73uUDQsinywd6+4hBv1b27\n",
       "qvraWMeciBVeXPx3QKakWi1GsZ30ipkjAAAQRgUqkZkoWebrQHvhBjAecF8wxjlfs5hyUowbATJc\n",
       "/i+XIyzszCFUhVd27rLMfB9ARdnJ20c53g+acU40s9i9/DTAb08Pf+tL4Bn1I4oNvkiAn23u6mss\n",
       "SlFtJjNJ8vWN/OJF+qOyaepcel5KjqMwpSZm9P173Os4gTcXTChgxtLeYXUBUyeyyrKIT5UFQ8xR\n",
       "oTpK+7JUxyMQdKytd+zb3aljk1qJMau64PfXO+An0vbY2Nu5q/HHE6ewKo5k7FR1wkK/I11Qre90\n",
       "QKWw/ubm49wZdbxwphqRgPtcct4Sj3nLXmM4d+uHz197NGpJ5RhkAZokiTHS0Tu5agJwh6oaxB+K\n",
       "cLYOuBERhtYP0TF1A5ZFK8N1npGLcRIlFYv8RteA+OlTgOMERZDY2bCcCk3yLyD2H8C4U/mEl18V\n",
       "0j19i2SUVe+WbZ4ROnYJGL1fsdwZ0Th5NyNvLfjG8u71olhFYmEeJpA8ki2KWboDatGNs1Va1+aE\n",
       "36iH3yaNGJ2UdPiKKCrImb8ANB1l00M8zCTUwp3jbgaVL0LtChi3SIT9QK1ImZY6a1GCdeAv01n7\n",
       "MnUmHOyezaKt01XQYC0cSKLrLp1nzldo6QIByUmmKwoyi7VWYKjnwcVd6eOEyZKPkKerbuybQF+x\n",
       "eFSbwqREDAxS+qli2sofPozVuUnRruSgZlUoZuAg/Hn/ywiBY+0BlfVofIAsQRvz3PnM17dePj9W\n",
       "CLtOT5x9fegJJ/MccIgqxiCluxDEh3QJPDVCwQqEnK5vvvdL4MoPVY4TJcYxdYEcWkdNw0uoCb6Z\n",
       "WIjzZOXJ07TJE/8hSAzNIDf8w45nKUY6/ckoy8Y6aOaGJkmj6Gd9j4wF5c8kyR3UjnZ+Q0Suyh0r\n",
       "hnzCdzDurqL7XnWq5DgqcnLnd1i7cgU4UPc+wVOEPjseTeE9tfkw9Q1skbPiTD9sdC3hzAVtO8oy\n",
       "vafJmdR5+7eoQTsu6QpbYdZZSDcO7zQU9orauc7vIWme/I5vGAeBtzx/1ILE13sfKSxcRyHWdN9J\n",
       "8Qbku3R9wo3h0cOSUgzlSRBAnAULuJwdnyfQNWq3np/PltHgqR8S4T8HFWVEq7Y+p8u91Ubt+gLf\n",
       "iTT8ZJLor9DP5oiQBdp8bSF+WA+YnOEpXHnTIasD/Hk2EedB1LJ84OOS0KxQhLXNxjo8q9OkVlMX\n",
       "hQZKtuFqXk6Mp873yJq8o0r6bJ/SetmX3t2EweF4Dlj7xdGnDsOJRDydxfsQB2aa4rD5C1zEJLVq\n",
       "TSW/Hx6gKmP/4tonBnQ3hm2YLOgMgDxKu0dFjGp17s2bbM0oGC4Vr0bh3gGO99JinRU2Up95CLbL\n",
       "1sZ74zanVqxx0k+5F/qAZ2/8mQKXy9iopgsUzvfOS1D0P6vRCXKSomHeFl1A/V+fPhblM2ODUrZg\n",
       "1GDA/H3rqw6doIhBbW8Px06vgS0MmTWXXfWZuvRyJ1oawOMjAH+E5BfEiYtLH49gMxi0V/u80Ppg\n",
       "QRhAlCTiT7ClaQcSwa5OWKku7lZA6wx9FPHEKXPq5GHUvmW05/qcnKumFCRKGTaaP+taqlXvBQ5V\n",
       "oUHy8TTqCp9L0Kg0kNRqdGP85uh8AJbNoYhO7EQncKRUpzVhKIMFHm0p0fwSOBFSy+14BCuj9W80\n",
       "pqfIAdY+xAkRBRTdA+TPBO4ROIFl2yEr4JOSNN4ArovUtlBEz96yyR6WobGm6zYIJva4NeJDVzzP\n",
       "NBprLmiPbTJaRtK3WZv+X7apOAswxMok/D4PdlOP3PCuJm/mtxofZaIYMU+UgMswtQRjBgmQX4FZ\n",
       "D1u088OuBVoNweIKMqTUTlLQXyeR2dsVQVwiP8od7huQTwAJoFjRQB0njVYWKXVuEIQn/WmUl4/U\n",
       "Mr53YebYFHTJSMlkvpT24SE8i1pYFs8gkTz+7RmxPiF0ZkVrtDFOkbmYQDdATGoK4+hly4+zQkdu\n",
       "lTY6xXUr9/qIr6kHICZG/CxJwEEvMDQxs/ndoJsx5ecAVgT9bDXC1bM2AnzFjC1rTg4bLsyLdACm\n",
       "vZrQj4W9SRFdMdk7Vs2GZCblnO+EVl6/yyZQMxgc80+Np8Zef5jCclGGxGbHW93Zo/SBBptdblCZ\n",
       "SXgkYe3dsFPEyRlEetQqGfNAd2++1l3JPaQmAIbMo39oAZH9QNMcja0IIQ0EctdvAX5vKS9I8EBX\n",
       "Lr3WXus2DHFJokTlShurdpmxRbp6HplQic+XLdJwR/IUbt67LFsfbgilsQEOZ6KH3+n74h2Z6us3\n",
       "+bAzOYBdw8+n/BNMVyKZJXLUqpucW3RFVBo/IMHc0xQHq3cWhSMAGvI+21SlemMlX+H7jCFBXG3B\n",
       "tTR9phNygtiCz54uz/zGFVJaD3EEzs72MmHTuXieQMLgTiHvj48Is6rKOHWXW9Fteoyn+nrJkyc1\n",
       "j6DYKuLs4Guc06hFjj3M651J0h6n4rlDQ4uuouh28sTuOostjuqBNNWlnyC6kLgOa1yFz7aqP1YU\n",
       "UJMxiia4/KyDiCbSnu8xhSepLIWiEnLeODou88C9nargpJFeDW3bvKJZqFTlqj7hbMuC9bF0ehht\n",
       "EdlH3TSdJJP63aooqHa4cwL//KTNFmwVrR5zCLbNyv5mDDX12dzXk11/rKTXGgkoIbyp08LOze9p\n",
       "z/YsfKk4V7s34ORq8uXVIjwHR8w6puXZO6pZXvOf4j/8+S/UmvWCZJ93oz/ErPzc3U3ORXwavIe4\n",
       "bypcp5tA+DVQonpQ7YTYRxc/eA09plSmBa3rvzqykPkUOQc764Y3SNzFGwoITRyTCLgVurnC3kvi\n",
       "hAlI23YLMLa/YqGIh/C6Y5gQ5hM+KB4ipgb+PRJ/PIBbn97ap8fJ9WG61JmBrbRxgljzRuz7s9os\n",
       "8fuMsu2crfxndkN7r58cmEoiSfCCLsDvxjr+02wxDoWbFfOiDuxCL7ZCoRpxeAdvcNpBQ/ahKEfA\n",
       "hP1lWusLTD2O50aE8QZc3FDAb94JNnMwQcxXjJBUcboMVtQ0nJvZwgVS51HvembsKZbCLmyUYgMD\n",
       "qaFXbpRYTqbMkT6axjw3N33ZHk2Yzi7ZETe1yXvCrW/yBDNFVBpxm+3UpF0JMlgBhvWNp47cSfTt\n",
       "bvRLvXBKtkei6Wr5XNo7c71kQjCdSaTNiVtv+FIYMhtBqI44tGhimBgqOe6/cOYW2C9TG5NbeDfp\n",
       "xHSNR2b2fG+NtuulZUxEyQx/YGMiPtoQ75lSNB5NhQjVM0BG2b4NCU4Ja2fGLzuqM1zfssJWopBt\n",
       "GuS0YgHSPpSVUte3tBQ8B6YIxjDbkbmexyOC1K54D2IL06kg45RwwLIvdTrliOnMQlddtC9r+Is5\n",
       "m9T219Jz0NyVoBlmAbMGk4636FbxofCU/8DByLxCuV0MKOBDG6mAQighvpZs4U5l82t4E6/LGOBC\n",
       "CwhEHiwg83IZiQbf86Q2EmAVXxnAycCitXdXtmZSP5vfsN99+BHlQsfXL9gxUKEvtkXELdObVnQs\n",
       "J73/PQBbhB5FihVTSX+6wCzmQdK/Hj0ZeTiq4MxowHoUpw1zmOdVRoLZwZhSafjK4VBvf/kG9jr2\n",
       "maPkvoPezL4GLftR4w0gOHIgtNqsM6uNAxFcmglTd4irE5qd12ty+bMjrOAaJyWLSTVeH2gGuFTg\n",
       "NMC7IQl+g0xSVmaJOLvky8a9UrAd/BnVWMiViAo+2rDKSdM0uN7LIvcFf4JAhDaPT7Xu5aymh0Y2\n",
       "sp6yfaf62GYb8jbLm6+wYraMW7ASvl8ObQ9E+e9TybBTGrqLi2/2DEwAun0d6TMGRlIKz+gCY8f6\n",
       "iRQYDrdwT+QLVz/njY0COC6hbTaQFQjK2cMCizS7Bk1KyLmgkio+e2A1rLaP8V8zKAPrJpvZMN6e\n",
       "iFYCBhZszTlV1z6r8sgYzN3ZEeTYDKPhA3Eu9rkUK3rGOQaKXRYxsdaHvar6geLrbTos7G1VqUXl\n",
       "7uLsMEwdC9FdBjgQOPx7R511z78jBtA9HRxCigVfiknzrk30mxYZxoz0xlBycENFlKTBl7XjavmN\n",
       "Q9qQZcm/Mdsvct3Fltc1rDTHDNLXni/zWnbNlZfhC64LZLRo0+k+oYRUOHMpCMTLlbG32xmxub7q\n",
       "nEp+TV9/W0IaUgzS9u8uxbSz8tSyAioKF5kQZ8iW3FJ36jwzg/+OTiwAmN/tQphF+e8uEf4mPmR/\n",
       "p0rN+JM7AudtW9moL3+YYF/cyKn28rA3X3ugZKbFl3wJRCelfuBK/OPOGeYF4rOgqnA39OUc4G+o\n",
       "lvsFJo4MmAy7ld5qDC1eIkJ+qPVuG9LGZBYH12Upc1egUuZepvmSh+RISkwSyFXgK/RxIeNrqxFm\n",
       "G2LklEIfHMzYtXdu9azZslI5MJkQZXCBUS5qvxvdzdMYMrCFAYTBgRqgKLl7O5CxgfNy2+JeQZpz\n",
       "ZbNJx6R6W3W/SjfnC7QTgEXXKZKJ4qSIGgY1PptUu5JkqYI2w6ZPEfG4H/s2fVhdLSLQk0yrobcH\n",
       "D1y96lXFBqsGqYxmB2Cvb2tHt40aSF1dLTEvOfdp0Wetl2Nibi5Gn9HaAPSmbkCaZZgrDTdkPrRO\n",
       "J0QjVk+wkxrQYhVrWtFASGWq6bc+xNFzvPYFehHrGjLFvcRvYZivjUYjIsppeeE9q2ShzXdjbYmS\n",
       "+ZRptZuCSyl8GngxREGCPY2LD+an9fC1Bfuom7G66wgWJ0NEpoeu1BkQXBwkEI3FJxr4EorYv1Nz\n",
       "ofKT5wL9HR+ZjWGqcsl96P03V7RInMNOs7KofOwjVEDBInMNEJrLoUQs4gUsthFuf8vDr2sL3/VA\n",
       "UYFN2DjbN3ecY4ntk6FteLWXjA/cZOhPMzaR06BIPnbx3TDzkbG6zYauZdIkfk5P727T5yK/HJ6v\n",
       "thzsULQ5eU88XWhY558BVpZ16I9D5j6gYRoAJwc5S0FYdAmlDVHqRf2rtUd8Mzzzawk/lyG8ds4t\n",
       "l/RSbgtXix219+6rJWJoBTPAnWJ3+D/wnN0YMGKZWpPHNssIrcs6/ZpQfAFMMGI+BvuF6mbeWb/j\n",
       "bMOjm+BcENfLdqpSW75FDWS+iFuaJUy0qxZ15T0yun9ExXXnXl6DZlO6veFo728McputHySaNZHB\n",
       "6PQxPKLyGfSsk8kLJW7Pgm3cG9J6hjtjIZ64YdbCl4mSgGlX5zNB7OmC4TWzU2w3/Z/io9JLbzNq\n",
       "U3ObTaBnMeC9Am69n76xMlEQDDDm/MJYVuTTcaC0OKT9HZ9z8UuipuudSi/+LX4vMCVAqFcctJjo\n",
       "pwLTvXrdF/FxCm7bf8pbwp5fTjMDpHZDrv1G4FD8lQwInJl5LbRktSwzXEAqyQ9rkAVs5tqKPxgb\n",
       "nYHKUM03wblD8uBoJgNo1nTXImB2HULoCOSuMwUCUCeJKhY0n2DmFi9Pa/FAfj4KlFTt7yxOEkeb\n",
       "MlzcBrXfZMERWAKNrg5rfODppFqAMz7z4Mv7nMy3rObeiUddJlHwUqGQXQNaV584kDy4xG5J4/fu\n",
       "jrb/d1JyRLDJiA0Qw1+gJKfJM9rwnWwenp5elyaJ4v3Lk0290CsawxjBQj3Z3e0wB5JJfeNqxumF\n",
       "0Cm3qlhkLsH1AZwcvucHSGnL334Men9C64NcURP/CXKCfwNRLR+cGaUpyeetmaf1HAuTDObrFr2j\n",
       "5j2fboeIAUa04ooQO1JkI1MVmcnkSQqEMvekPpUVHqIJqWIylaXqZ+kZU9xIK0qNXer507Q1f2Pp\n",
       "nkbxvitiRZx89Hn0oO2kUNcRb6Kv0SY4DrlDyxRdswy02YNbTFv/ZQU9c0OngC2H6wQxNR3SFUPN\n",
       "0Rt+muA1FklFvWooHVfVhTUzmdmsBHfaAPNfi7l+9l6QrFQfZjNWJSJUqQHDERzKBInFZNVbNZt2\n",
       "lQVPbsg63FElQLem7+nYi6yz8u+CieUl8UhNVH9j3y8N0+/B0E6P8paUh3UCgcyyAW/LUQVvRUps\n",
       "99k+/Z2IonnyP3oNM2KCEQiGJPTHRx6owiv1SOZsLoyCmIAKkT+mip564GpqqMDt6luAYX568q1H\n",
       "+FkpfXvT0DHyHdcnuXuUaWSH59iZva/JCIhq91dTcFlbVrSeVxOz/GAfOTwnQ4YfhONmbVM5LICp\n",
       "Yiwq7QIwI+BfP88UFVaPxzBbPMy+yk+VMyftzQ2XD3XMX6PvS6pzfy/YU5RuhVEJ5SovmDLNy3sn\n",
       "/MNMMBsye7HIzX3S/hUzaolTKYzbbEPd+s2KuprMH4Vl24N/vKjwqAerevFssCFc9xXYLke1+NgT\n",
       "O1g15WEwKOw94fBlLaJSFV+BTJZUjDDvkT8pvSwgUW5vDq75xXuR1WdtxZV0IuMmzH+spKheHAcq\n",
       "SpsSrWrb78r7fc5J3onz2Wt9uVDKBFkqBIPdWQYN/DAC9IGRrADhpOkDvlDn/cXOrkfI4+QlyreQ\n",
       "spkoo7A+Ln6dQ/+zjaL4JH8w8MsY3IyZJOFywZf5p62gNXqZLHdHcBexstsZkZrHKMhqzN6LRkwN\n",
       "X/0KTnjqnEjp+8iNTCI9GAhrMdCfmqwIougfK+3ayw2GPtNckBqNTUxGBPB6tZUZ8YoLgiOHRIU9\n",
       "7590XxzXPxwIJbXp7+ZmJEoMeGNvsqkNK/7OUidy1yA+XZFXHUl1M/IQ9z+OJXckaxwrfdNPg47G\n",
       "iQ9Nu0H7f1fKJV2vvva4VBXT/88A3z8BvivPEuGM8WIvuWw+rP+cTmdsAI+EzvBFU8UHxuFMo/Hx\n",
       "hETUfoxlgzT9z+rzLlvkad/GgheeN+B8vvURChEOYBOPtsm7TYO1Cwm75hxnPtYx8yVnZnbnrnqe\n",
       "Tew171ofNF3fH80G5BeaAia/ZdD0h9ptpRcQWO/GiDnPYNzWi72/oRu7SpQTylQu2RO61N4sguB7\n",
       "oC9Z1vWUouoXTaEym3npVEtZpPesqab3xB3DYVrCl0ZBH20Q2VmnRksfLNpmGrV+4PPHHdydgiTj\n",
       "qj68FOVafNHd8ljJLjWF7G16/GJNS3WArcwljYoF2x3ltsRTx3Kuojzcc3djBqX/x8Vbe0fFKltu\n",
       "KypKUwR/yI8jIr9eciad9lR3Z8TcTTubawudUiizOElCNgPJRCzSScQQSlasr2iZc4kzOnAaX/Qg\n",
       "hNuWku98BcGX4kkKUrh64U6ZM1GFdWa9NxoWmHFOPW0xi1MFtLgK4L2ZOPsYL6kMHvG79yE+hFVR\n",
       "m3lKCIqMPqq1DPG81z0CYYY7XxM1ZY2HFmkuOHFiroAaC2IX/w7X8/5/MlDx0G6X5/tdyySTmMUt\n",
       "4VlQ9YzP7Mu2+yjBNp9pkt2TvUDIgBFVnGqZnQ3D3mOA3g66mbGGt8RVsGvrl81pICrkKZ8dBN1S\n",
       "oUwPaxmia/lUXC4wvat4pvulyigqZcrZAvgpC5PFr+etNK8A1kvx3NdlIMib9Dw124zgFDFQAIj9\n",
       "HEUnV5Bxhm2TLi+Cy0Je/pKK+82EYGhDQdTF/k3Jq5sAZkbr3ePX5togo0lqZmI2H17vkPGR0DaJ\n",
       "x8Xsw1Yx/OLOtvnDPWULn97SXQv4WGw5/P5uGUXkxbvO75FLZGSMH6eGqLdeS4QdHn27QNMS3uae\n",
       "zwkMJr+Lr7iW/u0lu3CVDEXaS2FPPrxw7vY6SaIi9dkaia8O6oznv4W9TxVuL8VXKubqnaNE0edM\n",
       "mA3bBznrQlriCESw/W2szDobath2ZHObpeImV5xNP295nUfusLLsh2QRLu5j5Z+7HtJbLSpZtdpo\n",
       "ML/j+Ahd9jqmBl/9it1FGsilTE8yyxdnyGhkjKWwSSAuxofnP+smbLPdHIsUBeXCeAOOTQcS8Cjb\n",
       "+I3amfpaT65UEg1JCUp0ymWIxRYob9tqOq7LP5HpsWM8lKRghwohlc4r4DadERnTKXM2TzIfDof+\n",
       "atjOkr5ZosCC6PYu1uE2ssDgBvLMuNVlz1Wnfa8SGLXD44Z8G7cm7a1aY/2MBPd6GCdya/E1MqnP\n",
       "zAlI8Dup6f5dZw2xKppyErPU16FeZtON2OjGaKGBjsCgmzY2FDmpVV0mBiQcHrph+bq1cOHPROxk\n",
       "9p2IzGm43UrkssExhqNRknWbbProXoNVYfQeu1+txPgGip8J1OFzluHBuPRg0eGpmkvDvTKXMb7T\n",
       "vs9WkWQGXJx1j373g72glKJYGEJkVNKG8sk/zOiprPYJpR9kEKlvlm8n9NsGm8VwHEn/uLp2QsP0\n",
       "dMLdkwJjpi2q/vbNWcD39kGLLWfNR8zcG092PB+FKLlY7qCCuCiiVtnTp8BlsFY3Imp9oNj55zbl\n",
       "S7mPsHBMO372kwu1NxcN36otwGxXF/G9PRqdfSYYxbLyRBr3YnGDKOga5GZ89wZM3+HAWZyDTrej\n",
       "4D8ogHMWeOhH9wqjITRK7ZdRGCwqcde0vkL2aXI1zTSruG5/PtifACnYfUkuaNO4CJg1CeGIL7Bh\n",
       "750X9/vM83AVnBnMl6ZaaYVu32hsvknvxiDQC6MDIXcpe6mjOQeNxwuL08DgzkU/OHzL4BI9RTiw\n",
       "EmYUv5aTbp8lzUBbXXuFwtrzegoqyxrMY7Sb92K4gUEQSPzW+Q3RIc6JtdAIxyrnSeg5qKTT/d3K\n",
       "ojgVJ8Fed37c+LfiLw2CIuInthDDSoq7PqVn8dzSccrjmgZVqyOSAuclTE6/BCEDrtbxeZ8ODmpT\n",
       "LMerj8PI2NcAf9bPh/2a9XujXfymXm6RatkD2MI/zvyB9UmamM/XCOO7upY0vAd8rve8oBI9InGk\n",
       "dIVizgGEySxK1gwBNsQv3aZFCDnDeZJXBgLu3a7bC8jEnrKBLtr/g88jcPb9OBq0QgnhA63TxkYt\n",
       "Te5ybUFi+HKnStk0+Ge61OEszBmuBwpVzIzS50F3aP1yHdvDe2A9dNK8KAylvldoVYYDPmpN/Sqj\n",
       "F/w/vgL/Yjqmvdb/Rbth7MtfAfSxRKWuxfXA22H6JBQ7L0Sw+I/Ttw32xqPLF1uti1KvnkxrBoBR\n",
       "VeIsVLtVZuDCaErNRW7hnoATWmDcfs603AO2GVWeOVJcpNBhJ4+Ld+QIERAoNduuoUGrS1TpJLdX\n",
       "MBTSxA/HCdbCJu3gCIZbMf8pclnsgMdB1EEqV4wzwrfQs6hggWuoEE2Peiobn7hGuVFi8vQxQSLz\n",
       "WLXGWaDAuswZ3CFjOcyatOLorviCqaGr2Dbi1UXhqZKfhLd1wPwZdWOjTBToeshJoaPFkm/V747+\n",
       "Ji9Z5F/qf/TARphbcO6O4+iGynik/qv/2IurIM0iu+VjAM92CMY21cwnJ8UUr8/jyTCSntpoY0fn\n",
       "ZgpnBuQoW4T9Ac3vOa8/9iTzE64IID73/5kMScWgAd0pgzQZXxEqbUfjpItGbhLdtDaXZgKuISRe\n",
       "lizZEaqWwh2yY1B2TlqoUzjbP9KBTx34RvX5fP+zXRON2wt6ZU95r7YU3Zwzz7nllgjdTPjgIeSv\n",
       "7lhi/kEiJV5j8K5AWeNiwTLPJuul14q6/0Rup151dP7K/SDjhOlTWK4GTcrDzi5QkycPPs3hQpzm\n",
       "pOBMbzFit4RJKCQEqQAgjMklM/gqigJGH0d//TSU7zvMWH0uauwwyGqHmLdD3ek44BagxulvFcMx\n",
       "TnHqvHjsVdrlMdAT3rH5cp6IQeKngBNBamHFqSIJKJzzDd/ZouXDEYNBtKjnPQK49CmC4e2xKAB9\n",
       "X5uVRkSrkK0v33RGFHjK4GEEX0KP1DKBHOvAzh4lz5R6Ax98MJmcAapcBSWrqhMaIg9njU53HZxy\n",
       "9jahTGdNFDqMv0zsq3cubPP2g/obx3pI0WcReOhQZGnlk6hsGP45Jb1kCLhG7Z8q/hpA0NjldlqY\n",
       "HM2s4kn2dgY2KHA2XnjPqspEH1Tw3PVkD1Rb6wFfW2RX+CpxJnOwTLpnwGlLiGEo/2uGJBbYcm+B\n",
       "q5XBktve2njdoTUChF/YyZWh5Rm5YnqyipNUZYknIF+mqjtHX9WFw5bdcmF56ly9rtFIHDIhgGkJ\n",
       "RE/txW/oobtPQ8kGlPWemeunV49gDhOpJY7At8xbtiOgtwFaQ9M2GwuMHLi+vuMRi3Y/5qcV8tTU\n",
       "vBHcVl3zmvvBbAebBkQDuaYeN2fPZ645FMreD29Rtm0fT+s5vl3P+HEGZXYQ6sZpKH+o4I5lZt59\n",
       "YPLfY7FVOyGHj0JWtFanhh7Ytzi6RDM9hNCka95sbPcn6qcGRHINP+/eZrebKXb/eSCfb/8sW7D4\n",
       "ns67Vj3AFikuwEdh9tjee6kbqQnOrju99/98czlWTG7Z/Ldf3tgcm320zwkVr1avRYGexeDk5iFj\n",
       "Q9pAg/Oep2lPwl5TjyurRVTljpQ4NP3TWWSAVMF19MgFD7/fqkzdzAcGGxzRnSK/bNz/o0+n0d0n\n",
       "PESPixZ9nlB6MvKl2XOz122+kEhy+RzbLBxxL//h/kQE3e3yUJ3SsqhP0VNGPrsWt3gcJK1vHSVg\n",
       "9OgAq0/eSizoJDeVdUFi81qsUppRqNvc9p5dKmC2CFhI1kuThJL0+r4yubZAwV0HL141mv+/sBVG\n",
       "XIq3kNgeIeEEx5ilOAYJtK1FAAy1AZEQUW4RT6kc8/XDWjMvrqnlgzd3xdpp6T+eqWMaZpT8/if5\n",
       "GwVNZAJijUJY2GBRyTwIa63R57b5xowGMl5C/duJHRz34zlOlVUjCIp6Qj8E83Su17YLy2Mlq0T7\n",
       "r6hTCm65GzVm7L/M0ueeKIAUyjo8wgOvcRvgJWD5kB8Q5tyPkPS0WEs7oRjnK30c//tgeqnYAy8d\n",
       "v9Poj0XrYpa6N745z2aQVRN0AY/A8bz9YOBpjeJ3lqfNaJuox7G7ZlxvzcIsdz4UPJ9ju6aPHAT+\n",
       "m4IKhdaPFEzNdO1isuWgJMCVjvCmrnOAjSU2yT1ULhaua3Em8B89M2rd7aaIQD96ujFjX12WwCnY\n",
       "qIVajN4Y1F9O76Viu7z9mPIfQIYVQaw8GXRFcIcnNDLD3bc7D2zZ6lmg2UL7SBaXyypg/7wqvRAo\n",
       "JIEePBHfFiUisUpkCe6z9f/OW9oDJk1JDr1tTpQnu2GSjl3UrSYS5FR8npW2wHceuGvkVdEHQrQo\n",
       "ZNMXqYQTPbnpXCQLYwdH+tA/Px6BUKA5QvAaYuzoC1VSmnLm97277Raji0Ny8WbOILwa4e0RC+1n\n",
       "QwvPkqM6fMR2EkMccg1tIQ3qnBAhfuNEF6rtuDWqu6YWQSDxTfuY041Hjhu77u+eTllCfwhQIWTP\n",
       "Hdtrjl4Ayb/wAhf4pf/bMOfO96bFBiGxGghxox3KwfObRWCr7b+m3rp+AoY8uPjL4F6Xltzb6n3W\n",
       "zP7ZcrrN+9zIJO5HjAmoMUOtO6RwdiTYf/ynTRb+4rON8VNokCcneoPEyynD+OCDWiBxg+rLt/zt\n",
       "Ew4L2BQVqvPyzloJRo/pfBp3HdQS4vafFoaX2zESw1SKNrn0+gLngi/ZlggDJ725ZzNlbJ+TZyH6\n",
       "5NX1UPLQsyJlIhfCu3XNCss+1UAi/ilHsNxEb9Mma2V5DUJ2r0O+fWohiYghKt0Nynpcv2VhFbOi\n",
       "dQ55If+cGRfcSsjVLHr0EMhA90oSyltWc0rHMlhwvgjv7n4GpUVeB+aMXJ8siTh9EijkeVCGTaK1\n",
       "jPQSZqVwuetivcHeZx3cTWfkHgrrJfb2bVMFMdSaOF82lCjInQ0ZYGxUYWX+ZIvgm9Hjq9kejSAY\n",
       "SOWs/zJv54Z+bwlNyTave3hYj0gt0SLzP6yWw290WK6/O/WVMY6kmhi40lkZseBDLPK7pRiwlJO0\n",
       "W6v03y4wKsnu8Ccfc21GUFNCIlDbaEpC7D5Igh/Y8r8hM/eqZcX5I0eHnExak2sbB7+JMJFq/0Ud\n",
       "FfOsxycRE9NZDvSzjMIcNcgyySzuZglcpSJSqLCT9JM2Tm6dyamZlDIiKG/GIKGHC/8NQO9STrOu\n",
       "olRK5sEL2W3ZO039WGunKPvVDOSioloR3xc5k2cUyJi9AWUeLN8zbo19+Q28ugcyvYrrioV2S2hA\n",
       "Wyy26A/cLiyH8kBxQew5XeQf1w2dzauVhjmgg0+Zr0AhVRoKbHQkfnKgqyMXbGZ9sTGJYE1BRVDJ\n",
       "F/cLXg9O8CZ6j+vc4pU6kDB76SucoB31+ZorCuOAMNsBz0QYMVEssYRW1krPDLoRm23dxSdgEBr+\n",
       "mCAzmTxaB5QUwULgeBW7b7b0W8rpowk4HjvpwxLk66OELs3ujeCy3V+a4LDj8ToHO4s/ucqWRQcI\n",
       "iqIg8LoKkpH4C0Z9GHVWiKtLhLsasVH9EbmFU8f6qIaD83VMoeg0oKUW4UMlEvGKtzyXdwWWgj2Y\n",
       "K3VFb6ADeU2GkCQh+PHJOf+xfHmetbnHtYr8orKLVfUeto0oEIStaF8qyO+uak7YVaZ08pMbBzF6\n",
       "NEsEPJsmqcnY48dqbAUQWnfHAn4US5WauwB8hlnRxuROEWyv/zAtkBATcJJcAXDkQZDRTHRqxw2s\n",
       "QTIe/SSPXlV3NtuEiNlBQlk0qMSb1M6GxbQ3CnaG+DRwj6RWfs0nQ6zjxAo1+aqYbad0xT5EsMT1\n",
       "iYBpyxtdpKGxqqDE9PsWK4wXEGNCEcj7aJSk97Yabvh+iVDpiiolubBcifaMxnMWXZ/r47gMtude\n",
       "jC4dWbj3chHcpRMBQUp1KSVZ+rJkfa/TYWxRq4HFR5xl508aE44Sgsoi9AFneQhSD4S2/Uom/Tlu\n",
       "I4bzuLQYg1GslYyWZ8DnDcwtCPUYD/SRksHNQqQDJWapW2ZkyttpZaXvSWeonR8+miuWb6hjU/nz\n",
       "RS3vgZbzqegQ1BYBuGtoOcVaYk5ZMJSvmW4qvC4QZr10ACUKP43zbwoy9/wvFcuj8uJnzfhP3PiL\n",
       "0nqaT/yp2KWYcxNrRvprxBI8ZwqWVK21GX7fm2LrHy2abr8YHyEP14D4F3CyHoIbgIF9sxirv3Bf\n",
       "hOARH2FNaCjllXB6D6juhpXMBTnPpwumuiiPXytFUGwEdys9ydp3sa4azS+6+bWJMlauykjqUa5f\n",
       "UVayF/UwH0zb2saBSR6ckped6wYHsP2Gh5aZ3Gr4KaWs8/IMQUSaF7K/MnELkMuj/Eoy9SP+MPEu\n",
       "wmzqsYb4juw/+qpcIwqQ9t9vZUA2Z/LJf6S2lNw1tLbkdGvyiUR0gsehp9K2wZLRY3i4vrmXwDi9\n",
       "2pt1muxdygkJOsgL+FXw3Enjpuqg02cQkS6MRj4p7NUmYqtZ9HSRfNNG3sf2nXXs2af1Qpg96hQY\n",
       "F4mr8J609NPrzrLc49bIw4gVeESccrHqcgV09PMR0EcWhNJoOHV4r6vi2wChUqKav8Oj+eyXeWHU\n",
       "TyHPsDLFy5JWLtPklMiprxpOVrmf5dOCf5ipFzC2mIwzm5skvoGi4MDEn4WZW3wJFApmK3Wwwrcg\n",
       "9NsL8p5f+x7j9DuRoSLHvXNN/+j7ClXnjN4Mn7tbBii3JngHFwunu0HnzvxKQ8ki9fTBp/HTgbJv\n",
       "z8IYGxzoLh53jCXsNLpfeZNnvrK6vfFxedcQuzbub6/nazqwF43LY5bTZh9kU65z7mHRn+v7Pos5\n",
       "czcwoJgkvSIufhFr3CCsAE1M5w1WIe9g4lTFkaX8S5advD5tVZb3ELHkX3r4l3kyAYIgwLlmc24+\n",
       "yjS3Vfnu3y+qWmPpXOB49u2NgJHzR2O/6PQJmw1A/pyE9UUAAECBBgWAAACYgB/hAAACwkGaI2xC\n",
       "//6MsAsXP7YVAoCgFiSF/C5GrIwjZ8DStReoce0sNCv78x5XgzCpaGa3ag1VBot1pNFvqZXPDEC9\n",
       "j/y1KRj1UUyKbnOpM6OKEw9nCSX+X0pdLWaIlefkfIlhXQVbCI0RfaAkg+R8L7P23jwWyVQukEO1\n",
       "RUBGWbGSuWtFtfs/92kELI7oJIM/sLIvldTkDylV4n5LYSV5yPyO254aP4TM4ABL+v5duWBax6qO\n",
       "Ume8/7JhLMrl/Ox+ZxAdtF7wdsP5RM1mbL+mPi1dOF2kpYX7orqs56sNnxEN2a1YXY91sAWL/13l\n",
       "5RleAbsnnb0qzafQPWjhp7bVDK7CsapXHTRkNUSMxw+nsR4Ndrgp4h2VxAKWRL8RQvgh4W4cRl7Y\n",
       "2iSkzFjOJzHCvNlxJfEF7BrO10YHE4fw/XzMA3qYCv+WQaabXwAbGq6yaH0ZW0B2V+csW3NZgK0p\n",
       "0Gw6Zun7uiprTjtelHgP1Id5dbOBTLl1EBIqzne0cF0qyL3fWDpq6NWmmdqAvIL1utgbbMDnZmrf\n",
       "Vx9iUTC0JBGaQ4lVexkcwogudWii6iv/EGvL++ZUsgE7AQ6fITNBQBVh4sMAezJPwC6nwG7JWntw\n",
       "DkCHREtVoid6QF7P5OzkPaC3dJWqcaS5nOyrPh/UM8gXJYwic0IGCceiigP8zAw1vUdq9PacN990\n",
       "ITqI6pt/HFrWog9WJsyhrE8QfM/qXnbdwYEW/ODsXJclq+5IMUBd72G/oCvkVRvfDrpP0B5FcJgF\n",
       "Anacuyx0OuwfXMtbqcFHqjZ+6ZN85FwOCY3zbiO7/VRyMm4m2kD9UiccKrAPDKPazBblivSbOz11\n",
       "eNWI2HKX7hU8I4BxUDYStbQrkYjq2EgsLQmDo5Dj1qEmkTxGG8EBRdwPLm+/eXWVdrOhRLTgXe8p\n",
       "1wee++cZefGulfDRQEYaAT8AAABZQZ5BeIR/BH3Yt3praNsXmffXiPYgFYJ+o+wMjrcP3LRhc1FA\n",
       "SFw7mF38nVH1rclLHGyS4+I9vf9tABOsIFzeyerjnZZArGftbb0IRqBlcA+ZaPJz23e4JWEAAAAu\n",
       "AZ5iakf/B+o0ppRczrDuV56ifYckCuiaq7L7zW7oQAJxms5kYJm+eHDnmiAngAAAAINBmmVJqEFo\n",
       "mUwU8L/+jLBsa3bnuIcBT3Oa0KCrZG0yb2W9c292ecmT2p0awwyAQjxpD1HqQdbtCPTR10U92gUx\n",
       "gkXRQp4OwsR+I9k58t54DCZLbc4+YsbCTEjYAzfwPRkAtOhrg7Sj0StJWQZ30aa5dQvOwnD4YuWb\n",
       "qHUMqM5XNWw04QAAADQBnoRqR/8H7bRSmUn1ANkYXyW0pw7Th+2oPXPFBG7pRkxtEAC0toAUd9rZ\n",
       "b4RF6s+5h92BAAAAkUGaiUnhClJlMCF//oywDK8TnB4PkNU3yMApJ64S3sR4/wnG3nK09Em2pWxd\n",
       "+aIz5OO/0AWhtURVvunbW4531rGqPgNgiL/HrBKd7TLY2HvTZAbT1iNaJZplu+oNh2G32I5ybtKc\n",
       "RuFlqk1yBNqkctBPC4lYKsrh7H5AS7sXNlarM84RMZhkIFavYHdLLzHMVBEAAAA1QZ6nRTRMI/8F\n",
       "M95rJ0GJlqvl4wYQJO51s0AMCEABc+ORc4VTUiSYLQeq/n6XibiXmiFMnpEAAAAiAZ7GdEf/B+KU\n",
       "j4Fjm2qOyokmABLITpdBO5nNBuNZ50+F3AAAACwBnshqR/8H6kF3lGsZ26iV6AGkdABMrv/hjbv7\n",
       "yB0z2e3a/kzL+3yg4oZhUwAAAFRBmsxJqEFomUwIX//+jLAAAM89OgAl9J1UHoTtMxiJ+YfUdWuS\n",
       "m3xJLcSIk0TmkYaCUpDv1CjyyDWVY0X9JYBe5qEFx/5t8sx2nVrsPeJYbO9UWSEAAAAvQZ7qRREs\n",
       "I/8FWvBJZf1RpY2EscLoXZ16AAugctBmcnjSi0NwovdIUQ0V6TUn2EAAAAAhAZ8Lakf/B+pBd5Rr\n",
       "GdulJDkwALg33XaW6UIIvclkkZOQAAAAgkGbEEmoQWyZTAhf//6MsAAAzwV6UlrrTwAoA3P+OoyZ\n",
       "z30vfhDsQkNHn560nK/eqEPJ+hUmUkQ45AMZeONskHfvyQ04ofq90NgfktHXPArmhRTf0Lhwr5y8\n",
       "oRQ8Y8TeJtqQEgv6AX6H/71RGvPMGI6wpCW+jhOGu8OAnLRxW4Yf64EAAAAsQZ8uRRUsI/8FWvBJ\n",
       "Zf1RpY2EscLoUtINqhBAATpfDMmtZInXgkIps6OLoc0AAAAgAZ9NdEf/B+KUj4Fjm2rUc/gACdug\n",
       "2HKkoG9YfTfJ8TkAAAAeAZ9Pakf/B+pBd5RrGduj5HMACR9t4ytYgETaJ8TkAAAAUEGbUkmoQWyZ\n",
       "TBRML//+jLAAAM9VYUMhANGZEM/FIddbRhP4SEU6016Ffve2R5k4Ovgi//VLHQcMARQU1NBb5j0+\n",
       "K4pvfPbPxFe+olwk/7x4AAAAIgGfcWpH/wftvD0cMCNLKwrshi/eDQWwAPqo7orughuCuEEAAAB1\n",
       "QZt2SeEKUmUwIX/+jLAAAZQQRgX6AIR6hj1XpZWSDKBqR0HGGhkmZgwNNYyJzVgmo4nJYGtZaUOs\n",
       "GZjn4RY4QSnw4jIfRfZIagpz173OQNN+g634UHIaF/na+zvEtXAgf69Au/KrhqJNmMJZWr4LJgCH\n",
       "9c24AAAAM0GflEU0TCP/BVnzqOxfVGXkId/piSX0ARIObCETp6ODdXJxwDJ3pwi/CnRVc9WZ2XRn\n",
       "dgAAACEBn7N0R/8H4pSPgWOba1eTgMAAuZCQQCJNiyuUjzzp8TkAAAAiAZ+1akf/B+pBd5RrGdv2\n",
       "1gWoAJxnqcJau5xDd/qTMr87oAAAAHBBm7pJqEFomUwIV//+OEAAC+tAwAFAKgIt9JtslywWDALq\n",
       "h8g9M9nkCGEB1+uuJHQX6SaRs7YACEAGUAlgadIxTlHx1oOR5ZZ/Z5ry8vHLCE5U/ul8pDaJPm6m\n",
       "q0gi0yIWwps9uM3GYAQ8c6jYOcEPAAAAK0Gf2EURLCP/BVrwSWX9UaWNhLawJunqgIACdV/Ha4Ly\n",
       "MMOKhb9BB//vFzkAAAAXAZ/3dEf/B+KUj4Fjm2tYvAO3ofR/O6AAAAAgAZ/5akf/B+pBd5RrGdzp\n",
       "YlxGAAXFVBZU35BqSySMnIEAAAAqQZv7SahBbJlMCF///oywAAMUDPll3jzADoGhW3labMh19w88\n",
       "RGYUjtrAAAAATUGaHknhClJlMCF//oywAAMVugcAHSJzmTFUwGDkiey66+5262qGGKIeTbfw2Mhn\n",
       "HnUYpiJ5anRvK1smuusJ3nJV6lQieI6FLyjTF1lRAAAALEGePEU0TCP/BVnzqOxfVGXkIeCYuTZz\n",
       "gBHAjftVIYKifgPbLFGgKM427VRLAAAAIQGeXWpH/wfqQXeUaxnc5wGoALUTT6XKdLTDlUAibRPi\n",
       "cgAAAD1Bml9JqEFomUwIX//+jLAAAxQNqGfABK9YtbDY85hrjol7/T2nsw9QCUF/WVPxL2TUy/fc\n",
       "0FpnjjsqMOtgAAAATEGaY0nhClJlMCF//oywAAYp2ZABHaq0yoP5XvbZ2W0WnryCW+f+8c1xYWB6\n",
       "ilL7VfBlDm8vW8U7cx62p6jX/ZPBgKsasCpvcUM/y2cAAAAqQZ6BRTRMI/8FWfOo7F9UZeSij2PC\n",
       "l8AASQx9VyqwQUxRbHbYZsGz69iAAAAAIAGeoHRH/wfilI+BY5ts+5dAATBHmSTBV84T0A8+yfE5\n",
       "AAAAFgGeompH/wfqQXeUa14vZVoXdT2XNRwAAAA7QZqnSahBaJlMCFf//jhAABfw63/MegC8xOHJ\n",
       "0XegvQp+5SesXDM+rRCeYgIfdjvIvWhjYkcR8AlHaMEAAAAsQZ7FRREsI/8FWvBJZf1RpZBAQ5VY\n",
       "6gAS0spg6ufu4S6swkiKPicwQf8WyEEAAAAZAZ7kdEf/B+KUj4Fj73zbpgIsHiN4CDxOQQAAACEB\n",
       "nuZqR/8H6kF3lGtdGSgATLNUtHTdGkksqdrCAUyvzukAAAA/QZroSahBbJlMCF///oywAAYtkq0A\n",
       "Dn0zPdV2NfCifnIfmjYTvdGPUQEIEukTWO8/NdZtJ03xEbpk5eoC7hvGAAAAOEGbCUnhClJlMCF/\n",
       "/oywAAYqGkgAKDbUQ844BnrCRLAsa5jUcbpGk0nEcW6uM8KsmsOiIRJzhDVsAAAAdkGbLUnhDomU\n",
       "wIX//oywAAxT06ACg21EizL3w6x3PYnFhBVl3i9p8Lh/jctJKArGvCYeARNFlHtegF4dqIzmzkk0\n",
       "kCECm6GFGk/BYnIRRt8aKoCt3JIng6ExUF/b3liFPYTnxP0HJsKPA5Hy99Oa9Oczb3e/MqEAAAAn\n",
       "QZ9LRRE8I/8FWfOo7F9UZeclDdCzQAfiT/gBpDlBT1geAqcvZFZOAAAAIQGfanRH/wfilI+BY/BO\n",
       "QSACZBWtytm5cS7KXn959lMHzAAAABgBn2xqR/8H6kF3lGy4CAd2tbAoS+JAj9EAAAA/QZtuSahB\n",
       "aJlMCGf//p4QAAxDB/7wR4BNJgH/l0hXTutrHJSXgVKQzop7J2VE2Bny+/1RW8zdc0WEJWLF2awJ\n",
       "AAAAckGbkknhClJlMCGf/p4QAAw76DwCa+TCfM6dn8PjibnXgR0C4woOBUTPRc2SdALu+UklYhZH\n",
       "dLQ5DQj8uHPjSHEv3/jOOY4pH3TrAVl0yVdZT2/hydLZ1iaZPwZ84xTefH1PWAQp/0SEfl+peDhw\n",
       "tkkk4QAAACtBn7BFNEwj/wVZ86jsX1Rl5yDIJVVgAtnbJXDIm1BokUD28qNNgVobOAXpAAAAFwGf\n",
       "z3RH/wfilI+BZeAHBRgHucnY2uogAAAAIAGf0WpH/wfqQXeUbJ908oAFz6tw2XPVrcySQXtkkjMR\n",
       "AAAAcEGb1kmoQWiZTAhf//6MsAAMA/m8ANe01t5YJm+8nuQyTdMLWdp3UEUfj/Tvg5pjz7IcJYUt\n",
       "zBf72hnHRuuwvO43W0Kx4yb4yg/PdaX5JNz9klwuqNKGW7S4ksbFuZLlLwvW5a774uQzJSOuYURo\n",
       "0zAAAAAsQZ/0RREsI/8FWvBJZf1RpZ+lfwzQAkhiv+6UNibVeUjrj4tgG6kLjx+AMcAAAAAUAZ4T\n",
       "dEf/B+KUj4Flt1xMbNsuuokAAAAeAZ4Vakf/B+pBd5RsjXchoAJq5ot+N5i2PnJmWCP0AAAARUGa\n",
       "GkmoQWyZTAhf//6MsAALtrSQAEvln4DopvzbwzEiLRW7e0SzYrsjxo/4NW9H4TzbGLJQMaOudrkG\n",
       "Q/tX5p8geNGnYQAAAB1BnjhFFSwj/wVa8Ell/VGlg8oTv4fyPr2qxkRfwQAAABQBnld0R/8H4pSP\n",
       "gWWxxqKKgHfKDAAAABIBnllqR/8H6kF3lGoFdsOt/3kAAAA7QZpdSahBbJlMCF///oywABdtsKYA\n",
       "BozGn3rMMUS3ipC/QE4qVjE/oNjiKYthZ1gaw3kN3+j9PXAeNSAAAAAmQZ57RRUsI/8FWvBJZf1R\n",
       "pb5aCQAR2Za2Z+4ENYqsOKUGme4mljEAAAAQAZ6cakf/B+pBd5RvKcfhUwAAAFFBmoFJqEFsmUwI\n",
       "X//+jLAAGAd22AS++52lyFH0jufFVLCU1UPyOzjV19XFWy5K4dPwv4uUDsWmUyU692eZfiKKseuh\n",
       "aY5uMP3QlJHlWBgxRqQAAAApQZ6/RRUsI/8FWvBJZf1Rpb934S8ABxX/BvGeclL3mAmnJpslA8m9\n",
       "8nAAAAAfAZ7edEf/B+KUj4FpcyBgAcXEtHfz580Bje27AmCP0QAAAB8BnsBqR/8H6kF3lG9W6cAC\n",
       "b+3MXe1iFsY2P+5lgj9AAAAAT0GaxUmoQWyZTAhf//6MsAAYB2ZACAO8Js7//xK9nuS1OwGQ0eDL\n",
       "ViYHjdY8ncnxQfB8LdICJhwzPNs0dgzLr7P7mNWz2RFOH7ASTeZoyZkAAAAnQZ7jRRUsI/8FWvBJ\n",
       "Zf1Rpb9K+IsACwMBiwqAea/aOsDwTeuKwrJwAAAAFAGfAnRH/wfilI+BaW64jGzbLrqJAAAAIAGf\n",
       "BGpH/wfqQXeUbzM+YAEhpEd5LyE9YeGNTxNon7MRAAAAP0GbB0moQWyZTBRML//+jLAAF2ynQATW\n",
       "3UPYkQ/WAgeWEkQCZNDVM+E7AKSC1OSmAjl2zUqYH7x1s5lOcPIl4QAAAB4BnyZqR/8H7bw9HDAj\n",
       "S4ux+m5AM3CQ1sP+dtOsVEEAAABWQZsqSeEKUmUwIX/+jLAAF2x22AaNrhLw17GCSAJIwUbtCkbr\n",
       "DcNdVewSDh7djP9IjicOf3E7gbA+jIu3EcQ4llnNoChWt/qMpyPPw1bUfhdX1l13mBAAAAAkQZ9I\n",
       "RTRMI/8FWfOo7F9UZeudX4DbH1J0U6paP+cxDM83+mzAAAAAIAGfaWpH/wfqQXeUbvVrng2vkb8A\n",
       "AN5vl498R4Ix36yBAAAAO0GbbEmoQWiZTBTwz/6eEAAWtj5XR4BNKU+gSt6Ivgg4KNJ2wA9J06rP\n",
       "Z62rIiqqADkF/e+cUxIJ0nEfAAAAGwGfi2pH/wftvD0cMCNLiANZggW5uoS4Xf5g8AAAAHpBm5BJ\n",
       "4QpSZTAhn/6eEAAsOVa4BaTeC0jfp3ZNKMlY9qQRxzPQZJ22Cd8s1sXh3JDqsNs7Aa8wSSueRb8a\n",
       "zZDUJrhyBK3w77GhZGB2GAMksHf5XJlwWndR6PB32uCbSSfhYGJXGcaz81Z3gmcMRBtzMTjTJM2y\n",
       "KpsNOQAAACxBn65FNEwj/wVZ86jsX1Rl9Cj0SqZfVlWMoANhCdrMuE/u/647U5PW+uCLoQAAABkB\n",
       "n810R/8H4pSPgXAtgdGz+RNKuKwpyMnJAAAAHwGfz2pH/wfqQXeUc9JRG7mABqghkOgWtsU8dnGz\n",
       "9mIAAABDQZvUSahBaJlMCF///oywACyUfA80ARIaSyKBcRNIdnS8v2N+1W4ICikMQd8sEogejpLu\n",
       "bEGgLdqSiXjdjj+sHtdZwAAAACZBn/JFESwj/wVa8Ell/VGl9kDSEgBBxKiyXNml3HURNQCN4Fbv\n",
       "/QAAABcBnhF0R/8H4pSPgXAnA86bJbrCUbVYUAAAABYBnhNqR/8H6kF3lG7lCScwJavEgK2QAAAA\n",
       "Q0GaF0moQWyZTAhn//6eEAAsNPTnADiKcSTzt1bERNHqNrInG9vHmoaASgvY0F2jGc7i8ZRluY+U\n",
       "QyxtjsZj0oLv0S8AAAAfQZ41RRUsI/8FWvBJZf1RpfYwbm9XXfNNQJeqtp8gIAAAABsBnlZqR/8H\n",
       "6kF3lHOtCIQAHG6B2/jzZZ6WUw0AAAA4QZpbSahBbJlMCGf//p4QACxMbR0djAEPjarDzzVCqxTF\n",
       "jyi24EIOcGbSxJ/+CG/qlfZii6uk4ScAAAAoQZ55RRUsI/8FWvBJZf1RpfSsrYPTAA249FfkSNpQ\n",
       "5pkmsp8bfD5WwAAAABwBnph0R/8H4pSPgXAXP5HwASwGmGg0PzkskkZjAAAAEgGemmpH/wfqQXeU\n",
       "agPLc42vuwAAADhBmp9JqEFsmUwIZ//+nhAALEcxKYAh7ugUVaSAfPptot/iKSGCvRaLr25cvLzk\n",
       "bfSSoqZ9MZOEnQAAACFBnr1FFSwj/wVa8Ell/VGl9K5Br5hkYJo+sDbzqtp8gIEAAAATAZ7cdEf/\n",
       "B+KUj4FwILUSTG2wIwAAABwBnt5qR/8H6kF3lHPWMoAFqUIDdDS4/MKSfLnAAAAAMUGaw0moQWyZ\n",
       "TAhn//6eEAAsZbAgd04AiAJ2ViBC/sgSBrqoapsFGbWZbuKEvmSYgtsAAAAdQZ7hRRUsI/8FWvBJ\n",
       "Zf1RpfUYkEg8oznMcRuxy9kAAAAVAZ8AdEf/B+KUj4FwGfR5QiSp0fIDAAAAFAGfAmpH/wfqQXeU\n",
       "c5JRH2B4WuIoAAAAQkGbB0moQWyZTAhf//6MsAAsmebwAVzhQI+XzZFtN+IknP1HL7/N6Uz8C0Bv\n",
       "89JL+3m92Tz6myiSxLsznV4zyZoccQAAAC5BnyVFFSwj/wVa8Ell/VGn8G6HcYASl4eJHsj0TKSi\n",
       "dNVlvmk/ZsWpf9aNbZgRAAAAJAGfRHRH/wfilI+BflrVnzAAfzoaroA9sXpUthPZfcMXW7uxbwAA\n",
       "ABsBn0ZqR/8H6kF3lH2kp/16jqqiTM+faZ7YyoEAAABIQZtKSahBbJlMCGf//p4QACx4pNlgCPeu\n",
       "97tw41/9k9r9WWP4hRjlbfEm9ZQhA7PKpQalpUsIED5BaPjUQAWGVX2o+XMQsNSAAAAAIkGfaEUV\n",
       "LCP/BVrwSWX9UaX2uC4AE6kEM1V5QNMtdgK7I4AAAAAgAZ+Jakf/B+pBd5RzwkyNQAS1MRWiKYTV\n",
       "XlRFyZlgj9EAAAA5QZuOSahBbJlMCGf//p4QACwwODOqVlgCNWq12daUa7V+4eKbPQp6YdP4U65N\n",
       "4OW59WKx9IkMLDUgAAAAIkGfrEUVLCP/BVrwSWX9UafQrLFnDL5hkYxo+6dcOqvpyAgAAAAWAZ/L\n",
       "dEf/B+KUj4F+QVzjJ1bkLQ9tfQAAABQBn81qR/8H6kF3lH2dtQktJyoAoQAAAEdBm9JJqEFsmUwI\n",
       "X//+jLAALJnm8AG7OQZhvLHdlT9t9aoaj3UHoV1RHsYbBt0I1/8c3xhJs3uyO9d2qGQRulqExZq/\n",
       "o0YpoQAAAChBn/BFFSwj/wVa8Ell/VGn8400sqBPGAEghwKjD/b15s/Ox8Td6DLgAAAAFAGeD3RH\n",
       "/wfilI+BfkFqDQ/vLrqIAAAAHwGeEWpH/wfqQXeUfZ201TAAfd6KBiH+cOp7Psn514EAAAA4QZoW\n",
       "SahBbJlMCF///oywAFd6adv1bwMc3pHKAa5hX6LSE2KlPawxufojx85hMzx9VoUkJ90CJOAAAAAk\n",
       "QZ40RRUsI/8FWvBJZf1Rp/N/cO+ZNxiINPou1tYtAPSrRHI2AAAAFwGeU3RH/wfilI+BfkDZGsPN\n",
       "PZEKoHGjAAAAFAGeVWpH/wfqQXeUfZ21CS0nKgCgAAAAIkGaWkmoQWyZTAhf//6MsAAsmdqwAqNz\n",
       "1JmkRS2PTH58hQUAAAAeQZ54RRUsI/8FWvBJZf1Rp/ONN/fRmbbxXMQH3rWhAAAAEwGel3RH/wfi\n",
       "lI+BfkFqEkxtsCMAAAAVAZ6Zakf/B+pBd5R9nbEvmSSZ2LFBAAAAP0GanEmoQWyZTBRML//+jLAA\n",
       "WTHbYBqVeT738B0Mh8cDw3XVW6mS6n2Wa5UGDPc3MX7kI/n/on+SGtGyZtKiFgAAABoBnrtqR/8H\n",
       "7bw9HDAjT/gfcGNvpo5HYB7zJwAAAFJBmr9J4QpSZTAhf/6MsABZUycaaqgAdAmlSlxnnalGJIW2\n",
       "JyCOxCSJYe9K/NHgTrloJouzmtKas3vf1/ThbXY8WMVfT1e7Ee5hQx0BCsEDisDjAAAAKUGe3UU0\n",
       "TCP/BVnzqOxfVGY9S5vg+QAOM8t2WCz77l5cPWuDTIyvoN3AAAAAFgGe/mpH/wfqQXeUfYlidREn\n",
       "uk2XXUQAAABFQZrhSahBaJlMFPC//oywAFkynQAOWKjIw0duiwJasgdUcTjaMgLeeVUvlm15BZxn\n",
       "n1h8DqAF9sTxyD1Fkt1DWX/D0CHhAAAAJgGfAGpH/wftvD0cMCNPv/gVVAALn9bXiEn0E1k5Dyso\n",
       "obq1iQFZAAAAVkGbBUnhClJlMCF//oywAFmdCzwAndKMesc9kYvgSsb+MfcgXznFtEf3tlbVOACa\n",
       "vSys1r/L/nCFzosImiye3da1KvvN8hQo4axcWyXsSsuR3onTXyE3AAAALEGfI0U0TCP/BVnzqOxf\n",
       "VGY9YX+ZLACWvdK/6QTQLX1NAsSYsHq2fv6fQQtzAAAAFwGfQnRH/wfilI+BffhZIP1cy/jy66iB\n",
       "AAAAFAGfRGpH/wfqQXeUfZQkavJvyRmJAAAAMEGbSUmoQWiZTAhf//6MsABZMdtgEmyjHtndifkQ\n",
       "alnUXv6zE5L1CB1LdY2n7tyCgwAAACNBn2dFESwj/wVa8Ell/VGn6m9AAlPmbThBDkyUfnyRIbLJ\n",
       "2QAAABIBn4Z0R/8H4pSPgWIFnu7kjvYAAAAUAZ+Iakf/B+pBd5R9lCRq8m/JGYgAAAAyQZuLSahB\n",
       "bJlMFEwv//6MsABZP1YABr2uEvRAOYXTsLb3JZznKl7zd+CSJfHXv5hgwIEAAAAfAZ+qakf/B+28\n",
       "PRwwI1AFG4AJlY9YwELfbOBPJ5kuIAAAAC1Bm69J4QpSZTAhf/6MsABZMbAQC43kBym9Ahopn3Yf\n",
       "JlAetLll+xCL/Big44AAAAAnQZ/NRTRMI/8FWfOo7F9UZj9An0+ABp5gn6YBDwqjtxM1iVdLSARN\n",
       "AAAAEgGf7HRH/wfilI+BfkD1+ZAtoQAAABEBn+5qR/8H6kF3lH0cbTgW0QAAACZBm/BJqEFomUwI\n",
       "Z//+nhAAVisp0lACSL+OTO93YwzEt4FS/gsC7gAAADZBmhRJ4QpSZTAhn/6eEABWajjzvSGADTHL\n",
       "uUUWFBeXWzozluCN++r/uBeo4CksAN7ArdyIF3AAAAAhQZ4yRTRMI/8FWfOo7F9UZjOt/ZWw9LMD\n",
       "YagXvBVaGI9JAAAAFgGeUXRH/wfilI+BfYofO/2EtUW7xFAAAAAUAZ5Takf/B+pBd5R9FCRviCdY\n",
       "GcAAAAA9QZpYSahBaJlMCGf//p4QAFZPQwwAcDJ/ndsmqcpWfj25PHkH/srrOwxjLgEwU02/kqq3\n",
       "BhmmDKm/wIWBdwAAACRBnnZFESwj/wVa8Ell/VGnqvgrKeQAJZ+yho48EvBptbz0csAAAAAVAZ6V\n",
       "dEf/B+KUj4F9hnKMT9edIEfpAAAAEgGel2pH/wfqQXeUagPLc42vuwAAADxBmpxJqEFsmUwIX//+\n",
       "jLAAVw8QbYApkqNyB/R7iRra89ozlr7KqpbCPC25BN7TnQXOL0C+4HaxbGswg4AAAAAnQZ66RRUs\n",
       "I/8FWvBJZf1Rp8MIiAFuDfxJjg30sQr0pQOKwpqAE/I1AAAAHQGe2XRH/wfilI+BfbyBgAP0xhuq\n",
       "pV0ya9N8n7MQAAAAHgGe22pH/wfqQXeUfRYoQAE7c2iwJvMJ+hHJmWCP0QAAADFBmsBJqEFsmUwI\n",
       "X//+jLAAVvKdAA6R3viUdmxjPhmDBGZWig/JRYTFRoCi+lkryCkhAAAAI0Ge/kUVLCP/BVrwSWX9\n",
       "UafCloAD90RKtrw4JeD4sG02rc7XAAAAFAGfHXRH/wfilI+BfVN0Qav3xtdRAAAAEgGfH2pH/wfq\n",
       "QXeUagPLc42vuwAAADhBmwJJqEFsmUwUTDP//p4QAFZrHLncAKlrVV+of6vsM9wxKEmt0dQFS9tr\n",
       "l5T3dqqi1kxfuqLBswAAACABnyFqR/8H7bw9HDAjT5WJgAe9kdETN5XhwTMFFnmS4wAAADFBmyZJ\n",
       "4QpSZTAhn/6eEABWHWojKveAK36pfatXNG3dLAIlWpqwJXvFwvmpYqlBYF3AAAAAI0GfREU0TCP/\n",
       "BVnzqOxfVGY3SUSUjlvJy132CeNp5FVtPkBBAAAAFQGfY3RH/wfilI+BfXvbvZK2//UGTwAAABIB\n",
       "n2VqR/8H6kF3lGoFdsOt/3kAAABDQZtqSahBaJlMCGf//p4QAK17v3omSQBXOcBMHgTH07RaB++R\n",
       "b761HmnROYs64kvwGHkMP4PXQZg5U98tagIxapDGgQAAACNBn4hFESwj/wVa8Ell/VGnwpaABJ+d\n",
       "WFZ40LD971N0Sf5ImAAAABQBn6d0R/8H4pSPgX2WpGs/Dy66iAAAABUBn6lqR/8H6kF3lH0TzlPL\n",
       "gViQI/UAAABKQZuuSahBbJlMCGf//p4QAFYxuOAOKLImG5iuW50S3v7TPNJ0zi47rrtSFxCz4c+y\n",
       "RXg2a+jDBZoMwPyqdqXCtSBTxL0re5q0LyAAAAAgQZ/MRRUsI/8FWvBJZf1Rp7SuDVMy3k52T9Sw\n",
       "qtp8gIAAAAAUAZ/rdEf/B+KUj4F9rDRve+LYQYEAAAAUAZ/takf/B+pBd5R8lCRv4CdYGcEAAAAr\n",
       "QZvySahBbJlMCGf//p4QAFYxegAOV2fSUbbnrV+b5kaoFpVpxLnz+eTBQQAAABxBnhBFFSwj/wVa\n",
       "8Ell/VGntK4NUzLeTnUDsFdAAAAAFAGeL3RH/wfilI+BfZakb3wh1/OAAAAAEgGeMWpH/wfqQXeU\n",
       "agV2w63/eQAAACVBmjZJqEFsmUwIZ//+nhAAVjG44A20F6ZAG/F+tYwZVYZ/KRgwAAAAHEGeVEUV\n",
       "LCP/BVrwSWX9UaeOxEhvV13zS8fsGhAAAAASAZ5zdEf/B+KUj4FiB8BtL/hhAAAAEgGedWpH/wfq\n",
       "QXeUagV2w63/eAAAAEtBmnpJqEFsmUwIZ//+nhAAVjOPcAOkfbviKu2w5ZCrs2juNSyzMrqWl0jk\n",
       "eEyT2fwvU2oG9h/R8BN20mFqlhVEBvdlxDu6qkOfBD0AAAAlQZ6YRRUsI/8FWvBJZf1Rp8NlAAH8\n",
       "50PFdPTuP3vWjvmlwamqOQAAABIBnrd0R/8H4pSPgWIFnu7kjvYAAAAgAZ65akf/B+pBd5R9E9PI\n",
       "6AE0uawgADboJtSYTfJ+zEEAAAB1QZq+SahBbJlMCGf//p4QAFP1NMACw+q1lomjazS0r/lVb8Wr\n",
       "D0eeWUjL06o7fA5oDabmwMTHRJ2wYyTi+7OotRJUdhNHOUEW/YORtb2L+vE0+qYb+EiVZbKbAiy6\n",
       "58TnNOIa1BGLe9xud/ULJkVl+4N8/BxwAAAAIUGe3EUVLCP/BVrwSWX9UaeGgpi+7A4cCGCZpSzP\n",
       "N/pswQAAACABnvt0R/8H4pSPgXys0xmumAACaYZtS8I+/iCu1Qv7WQAAABQBnv1qR/8H6kF3lHwd\n",
       "tQnzFOpwwAAAAEBBmuJJqEFsmUwIZ//+nhAAUhtXsjgDb1r898Aykekfjc4V68rgKoaFiBElVnuc\n",
       "6wnARpFbBMbox/tmft4bFoEXAAAAHUGfAEUVLCP/BVrwSWX9UadXUitqnzXvkxaJkNCBAAAAEwGf\n",
       "P3RH/wfilI+BfFakcExtsCMAAAAdAZ8hakf/B+pBd5R8FihAAXFaEuoiKG+CfLW+HMkAAABGQZsm\n",
       "SahBbJlMCF///oywAFKRoK0AGCwqJ1dXoCSq3S4FFmZs3KAPtVKrB5PVZ5Jl4CwyvJVnPom1r3ST\n",
       "Zy2Cfhl1TnyCtgAAACBBn0RFFSwj/wVa8Ell/VGnYX00ABWtfao+KZkoTBg9IQAAABQBn2N0R/8H\n",
       "4pSPgW82GjvM2y66iQAAABQBn2VqR/8H6kF3lHMSUR6GTCQI/QAAAHVBm2lJqEFsmUwIZ//+nhAA\n",
       "U/G44ArVKnq5Byn6YqmwZG0wcZbxxDcJTASTWusV1mNdCSe25376+LTQ8O+QB1WZ4Ju6fctCekWE\n",
       "ciuA2n6gGIUc8ozhlAAuDfBbJI1jl7W9rJS4cSKT8g/63lYDJo57pE0SgDEAAAAmQZ+HRRUsI/8F\n",
       "WvBJZf1Rp4wSV+/eDuTv5a31gGaCPjcF9V2fkBAAAAAgAZ+oakf/B+pBd5R8rKsAAnV0TR8veR1a\n",
       "L+1i7naIsWcAAABVQZutSahBbJlMCGf//p4QAFPydGAK36pJw0un19mwg/cYGZZjeqlEU4FR9bqC\n",
       "piRK+Rl+To79EjPYR7weXYRgx+gxtkLvijyDyoI2bk36RNUe9ONDewAAACpBn8tFFSwj/wVa8Ell\n",
       "/VGnhq1s2v3jpIAM2a+lWWo1MFAaIIyZW3dUU8AAAAAhAZ/qdEf/B+KUj4F89pZVIOgCrUJSNN2G\n",
       "bRrbCvNoEjMQAAAAHgGf7GpH/wfqQXeUc1f2kADZM7m5MuuO4FmmPT9mIQAAAC5Bm/FJqEFsmUwI\n",
       "Z//+nhAAKyyTcLwAsgsT4WMFUimgebWHmFI4ceoJ6iUKcETdAAAAIUGeD0UVLCP/BVrwSWX9UaXz\n",
       "Hm8dWpseSJJyN9NRVcH5GwAAABUBni50R/8H4pSPgW/Gz7US1JJvwUAAAAAUAZ4wakf/B+pBd5Rz\n",
       "DtqJ8xTqcMAAAABOQZo1SahBbJlMCF///oywACprO3kAA2+hHXmK1htQS50/5N28r84bbFSUZzsC\n",
       "NhxEehxd4R0YPsgnGbtHGoLVxnpMMhPA/ZaYFxQuGGVBAAAAJUGeU0UVLCP/BVrwSWX9UaXwuqug\n",
       "AlkWwM7Y//kHejdwaTc3GekAAAAUAZ5ydEf/B+KUj4Fvhho7hGsuuogAAAAfAZ50akf/B+pBd5Rz\n",
       "LReGgAt4r+szoj7XnTX9skkZiQAAADxBmnhJqEFsmUwIZ//+nhAAKfmg8ARIa9tlcAjd4OkS5Aio\n",
       "jlnc/ambr8jOfWVXGWlkm3pNCpYwXkCw3oAAAAAnQZ6WRRUsI/8FWvBJZf1RpfE4LgAQ+II8DNgY\n",
       "TdARlVBpeTOoOss7AAAAFgGet2pH/wfqQXeUc0n3+t68rmkCP0EAAABJQZq8SahBbJlMCGf//p4Q\n",
       "ACsZx7gDb9eCgKmQsc1r39Q9DsQWihrss7L/AQnyi+TcyKlN5PudqJ7wjBtWbGb7CnZe18MG5KhG\n",
       "/AAAAClBntpFFSwj/wVa8Ell/VGl828ks0AH7dtze/CdHSm7jITO1VmgiGUQ4QAAABgBnvl0R/8H\n",
       "4pSPgW8PoMl35QSeh9oLQOoAAAAUAZ77akf/B+pBd5RzShI7gm/JGYkAAABFQZrgSahBbJlMCGf/\n",
       "/p4QACsZveAIVbtVmUP5480oVJ4EMIvunJ/pAXk4P6MFsOllJ6j2X0vtfW5lacwOxRhiTIJKhG/B\n",
       "AAAAJEGfHkUVLCP/BVrwSWX9UaXzFcgUyHN/yKmtnd8xdLTHvPPpswAAABcBnz10R/8H4pSPgW/L\n",
       "n9ZCP2zDNiWoYAAAABIBnz9qR/8H6kF3lGoFdsOt/3kAAAAlQZskSahBbJlMCF///oywACpazWwB\n",
       "HvAam6rSca7GWjyJziGGVAAAABxBn0JFFSwj/wVa8Ell/VGl8Fi9z5aUdpraWWUhAAAAFAGfYXRH\n",
       "/wfilI+Bb4YaP9Pi2EGAAAAAEgGfY2pH/wfqQXeUagV2w63/eQAAAChBm2hJqEFsmUwIX//+jLAA\n",
       "Klnr+gCmVh22Z7rsMe2YsiCQBQzqfIVNAAAAHEGfhkUVLCP/BVrwSWX9UaXwsG7vV13zTUD8FdEA\n",
       "AAASAZ+ldEf/B+KUj4FiB8BtL/hhAAAAFAGfp2pH/wfqQXeUc07aia0nKgCgAAAAL0GbrEmoQWyZ\n",
       "TAhf//6MsAAqjmAhyAEeypxl0FNSrverPF/JtY0eeuP3LlL3dB0wAAAAHkGfykUVLCP/BVrwSWX9\n",
       "UaXvLTe+d/ge8yGEzuBtgQAAABMBn+l0R/8H4pSPgW8rUkBMbbAjAAAAFQGf62pH/wfqQXeUc0nn\n",
       "KfBZdJiTgAAAADNBm+9JqEFsmUwIX//+jLAAKkzKWjzfgAsBWkMQK94lC2vNIBUJG+Uvz2g7+9op\n",
       "C0B7MQ8AAAAeQZ4NRRUsI/8FWvBJZf1RpfCveXOJPReqlK+FAyWBAAAAFgGeLmpH/wfqQXeUc0YC\n",
       "RtVE9Wj2ROEAAAA3QZowSahBbJlMCGf//p4QACnutwsxgsAVvisV06J2Go/GpTpU7Vmgu+B3sbZ/\n",
       "BqpWsri6LyYUkAAAAEtBmlRJ4QpSZTAhn/6eEAArGb3gBaz7haPDAXzx9jb65CtATPrjaLnwaEXm\n",
       "tAT6bbtsxUn+mAOz6GxH/F1Hivxo3PktWkOdlCSoRvwAAAApQZ5yRTRMI/8FWfOo7F9UZfOosgjU\n",
       "AITkSRVnjbSIQvRls1PMnqJZejcAAAAWAZ6RdEf/B+KUj4FvdnjfuTQ365IzEAAAABYBnpNqR/8H\n",
       "6kF3lHOPCLlX1AzEfzugAAAAHkGamEmoQWiZTAhn//6eEAAp+s3AAI9DPORCfRBgQQAAABxBnrZF\n",
       "ESwj/wVa8Ell/VGlg8oTv4hKj7i8hekFAAAAEgGe1XRH/wfilI+BYgfAbS/4YQAAABIBntdqR/8H\n",
       "6kF3lGoFdsOt/3kAAAASQZrZSahBbJlMCP/8hAAAAwGzAABBjmWIggAP//73aJ8Cm1pDeoDklcUl\n",
       "20+B/6tncHyP6QMAAAMAAK6tMz+8WNhqAgRcU8lfHXXwyWY3uENgj4HKn3y1OBgSeNPqs5Cmenz7\n",
       "pT3KXZhvzA6t59jnr5fISbkfIAATVGWsXGojV/bNtQ4lRBKjTdC/J2eCDvirdJA4JlMLIRhkkD0c\n",
       "N/qk4bBHqbfrUHg3MGevqSmqTUvt2zrPYkGYfWZ7KnuZAhtpL4QK8s6/6NyDHpkOmMfrzmtr2DRF\n",
       "ogNHEG9QJFrQBnuNH4uUA4d1j7eBOsrPlgmHT/aFTK5+Mv8sAF+/TjL5bPsUVITAwqA+fcoAHOgB\n",
       "xFCp9zRwTh4GF4pYni0K8BFvuOnt9U9XrxR6fwVLjCp/VTA6K49v3r4wrI617mfid/3ZPoHYY/dg\n",
       "C5bthkCHvLmU6pCpp6qAtPa5L+rzHPWFMJ5AyKRdi35f4WaTuSKJ8jp/0yG4iwM57n0gxVYF2/at\n",
       "YcMMl4bCTFmabFSSokQkyOtpc8dRFg2FNvag2CSP5DbnGs+H2xMw+2PSc/DKDdnjYhCa6pN4vCw9\n",
       "B3S4CdSGfGefVGG9kubhadt6nH7EAGE5wzZ4Fry+f4JuUkPxPfTPxh2Bo5Y4bjAV4bpfGPAq8u7o\n",
       "YjURGWjJTAAyjF+50NJseMk9/bt2v1CDswRGTF1mrrIAwD+9BY5xSsY2ssAJNwQ8C7k0HCT/XUd4\n",
       "ZiTCw8iLgdO8EWQO4QSKZ5aHoR3jxlK/YAH1gNd6heIdoGQcc016O+M6XAWy/nJZaMBxQgA5i/o5\n",
       "eFMxzNyS7kyGvgQKHcTxRdUWIIgTfbkaMa2J0nGPISBhRZf9uat1C68IjZEPZlJnoQWWnSqVRSzy\n",
       "w4yqqvVU7r38piJ2gldq+Xk+wBwL5sIOgmtC0ZX8u+IuPOzNHLicNHGboQoYlDmo/5Tp3KziFCr5\n",
       "BqLMDCnM03kjgYao0Pgo5dkL1pnOzDyN1i10SABxXcyQbrTCwctLuoIEd1HKWF+m9HzcxMLfCip1\n",
       "xu+rfs4DrWsmj5y0AAb4Nkk0ktUbd2YjH3Bvywi8KDBc8A5rLyCGllL7gFRfe51UO4tRVHb+UZVV\n",
       "MK/+RDxRtJD1N38nYMDwY1buZ+kpTSgPKi0jyKPCmnMSqYAR6S93aSinW2NuzxQP1xqYIv+BbQbU\n",
       "zOo3EJdrjjEvRD0A9Zj1DAhk72NLLg0LdW9wNRYX2W3Q4ONeH7CecZogOVzVMUFy8AaE3qp2Rwf8\n",
       "ZqnAxigX8xLMlZC34mPCJRKu1TxRTO4DZP9AOI3EJ/sJ/TlpULQ8dFtHqg7bPb/eatXvkZBu+RJy\n",
       "j0kKe0orgWTafYUcK2/EVsjQmqzPmOReei3pEz2xSQ/9U7C4zzYX65xW/CpxofhDtwWP+GSas12Q\n",
       "WFxsEdRLPox5PlrVvy2KUWF3jCrI0ijbyjbZu5hQykyQgLZ6SoEcwPM6zA5U4wkJLbjg4AvidjII\n",
       "Tgb2b6qRezIEIAn1DsFRJf7RQ901GZm2eFmxcsEOgmGxG0lgqtmFooiZv4fBh8EWC1jgd/6IIlUd\n",
       "04cKAZKO0q8c2W8u5XLSsJdWSUtrOONC+gqtz7d8FG4FrxezfzLzglhBxXe5h55ceG5uWKDCYU8R\n",
       "3hDmMKlBfSSb6DtbWZDSQKnC/36OsOHjLIaa9voHe41pNwWl3Yb5v1ecyPl4az7A+Nb+I/wUN1By\n",
       "A+HeYf9LADLcxmeWCK26U7L+VxGOqZoK951UGSZDM6Y712NAzbNq6yg5P8i8fI5V7Rz7qgbvfbaE\n",
       "pCeB17s/VzrqJDWfxGVY4BaBKGP1du6FO+Fk900lOycdO92oKrGI2hBP2aIvuVfDVLknfRRGwX8m\n",
       "dytMRHcQZKZcEo+CD9+wKKTEHOp7/Nrx5H56e4eBrW6HpLNa0OH4Uf11F2Es0ZbS/sXRt6CZZvGf\n",
       "HcRwhuZbjAic9WAa6EsOJGt1GXMKsi/wUa3AWYfn2hEqPQmPd1HL6m8sDRGQvjoFbaCLeBVh7uID\n",
       "OGY6fp7i+MpqAr5qF7YrUeiRh2wCQoHFWgXmhV5iCPmb077UL4BngeA/jfjTSgYtVDsBtqRR28IN\n",
       "CVkz9WHfoGYtnXyPlZFt6pITMGN7P8VeGXTnZIJAqGMLIsDQv4ui07QvEzOC4yJBF4otEPeT3dfb\n",
       "HTb+qq0+gugEu6GJLBn4tA3E1GV29TNkxGyxfWMgmDjKUBk7bYK8AyFVKUGL0QzMaZxeltnHrAJm\n",
       "OdZ3mA4vQcFxsA7ap9G13GZgNmywENx7DS7VT8b+v5KPs3+5NjIAbhIlMeigKnFZEWzIvtMSp+QV\n",
       "hSK2OflDQjZtBAuIuIIrOrD2u+Hr8bS7Arf2B3k/Ky6r8BnpCXSh7RDdOXVx5psTWKpEfF6h1MZj\n",
       "V549Ua/5fie3S8verfRzOBYHVHUDlC9SdX3IYPLxKu0aCrblKZf35XzK7otNOZ5WnnoozRzuvMnY\n",
       "Q/ojn5Uvxqgzj3gYFvvvvmdT7FrrKKz1bxqF7XBn73PIHqpvAvUgsluA56s74XFMZT5ViGXWvAWI\n",
       "tHUEkpH/sJaEhifgrTzQFWuSITQvP11e+Ja81mrKd3Xakaq2WhssmI5KiS0iyWU6Mrj/1jiJFpIN\n",
       "b1WWaR12u1UiKlx2FM6S8xmDY7VJEKESnUveLaKFhU5+uKKGQWzCHBPUl3pJxDcxLurcrvwP8Cmq\n",
       "YzADPZt4Cdu4vnLe9QNOrCwcdqp6zPryVzmZr/2YdJ5rxLjRtvHtyCQb28kNPf1PivZNsv0TQPWP\n",
       "vc1ewpOhx2od84sk6UiiTdZNa4ZzYoFTzbNo7JQ5peUsFXGpTPi/h+351oRiYTpWGyeYPfpkWx2h\n",
       "olOUwHqrvAzpUrQt2Zo7UWxUHuOQ0n5iDZp5IcPGhNvOrhtINubajdtmvUnzTUlRUBVd8TY+jjeY\n",
       "OTl9v8sugHzQhIibvLkP24N0Sbiif5VAr5arLlCd8es36kt4AIB7vFrKtLjHRQxdALzmfY/1SkBE\n",
       "hI2KugLpU/wQ1YoRhpgPRbOxZBmvEiG1G1dqwD2eawELW69KmckNFF2rNXBCoMiKq7GMtrJTm4G9\n",
       "5tWXitQ5cxQCpev1jvS2dYaxPiPNW0kNO4HoJtKItwpu2H9eKGzGAPtHAI4Kb6rD98tK3hY1gJNj\n",
       "fSnDA2M9wWlMG03hSXR+zTwy4TyJU3AYV6BzPQDxxQweTeQPxZ4r5vpbeJISsE1P3smJr1FQ3EGJ\n",
       "ARbRUe66gRx60mfwbJkgAI3W2ejyRzLGjz0pVKC+hFwpjA0V+l6zVYNjJ6H6786oMVNTy295tl0Q\n",
       "iZ5MjM0Quf0FShwuYSLmAfzSJp/BwRRi8Sl5FB5woCULA2tfw8uXYLE3/PkOccUDruGGCkszX8Xw\n",
       "MkWKalnub3JlXGasIYYIed9A1ik9esleq2mm1W4IGeBNraFDwVkfJr/xdefVtNw3BFNNFLkTIUmU\n",
       "qaXodLVdFqh29EDorDJbjhjMSy3a+pn7XWEENLnqUH38p6SJeMHVBGfjOBzVTx4kBVe+FjTbH51p\n",
       "bMY+pH/ZzfAl5GKvzyFF52f+nFuuK+z6Tr+9ue+KcFX6gQDAUOXQK42HXuxTeFz7HPwOWNaQYGMP\n",
       "VfGU9vNseXmNqWixe5fV4LCo3mj89ndKDiDOCbfLtV7BWrjZHZ8Yiencd95TGIvj5t5OmrThccPL\n",
       "QHS1dDnxe7EE8b98Mtf1hnauYw6iVixYDsOO1zKuSXAu6sLii1fKH5tVBCTrNrtZDD1YwG78mT0z\n",
       "n3YHswv7wU0Ko9EX5x6g1dth/4rmfOaJ8BHP4XzaXrh3f4WLkeB1CnKR1OXElJJ5K4sXzsvVqWFO\n",
       "xjal2D6jK1OgQWbpgp/Eckh+tUULN03WFtVb7HPt45mET64VVicskVMFtlCTPogjQFvzubC3RkkH\n",
       "aI3xpjZRioQ2TmNKUGE5RV7H5obGiU311qnFXCB5vXLtSpoh4q2YfLTDvgWYW+H3eQrlNmFWegHN\n",
       "vFqGqnisa3P0GNj5iScuhaBlZJYK69KkGPg7Y0AMlCwbLh9aaYUpfOQaKZTMnXptoMRTGOnIVu9n\n",
       "DC8jz9T4OFwXmPq5Uv9CXUgaFaTBqW1ZgTg1mX3UndQn0xKSmg+rbs6hbiQ2C6DNdRXhuiDseOyc\n",
       "Xi/dAG87TIzjVOVPTXfdLrH2jTpMx1elBr/kDOlzqFWbwOMcOCXhA1uPQ7HGINKDOuyKQX6Lug2A\n",
       "lDCd83MaU6eMpbcxgLJ+K7NCaN13AW+q5d4H97VJVgXfp3QLe7eSVVuvVhy5AJmpsZNF88iYuwtG\n",
       "rUaQs6ThTylrpngpIgVDWJJolk0rb0i+Beiaxv4H97dAEccNOzWsG5dglGODOfM9fDmmd2Ojio83\n",
       "ubNOP3VD2SgJYk0koDxwPBesjzVAOo1+s1zB645r3//PTTLKOYKy2FU+Z2NT+J77c625uEV8AmyU\n",
       "RJPR3cmA1zFRhJN3bQefXkstjoUQcsygtDiAiMpA+g7fkp0su20X3pyYU4HxuOyySoYRafP8TQ3G\n",
       "ee+MCKSV8Wx7BTaw91zArvEZYOlJF0inxB8TYZ5PvKxRtlBvUGM22VKbPuM+AedJ7ax/H5JXMv88\n",
       "Lo88X1IjOL/gYNmE7T82c76CQRvZbyxuX92TYwH7MAMrn3ZgbUnh/zu5qTKntCX/Gw5c4uEx3/IZ\n",
       "vFGctEdyO6H6+4DBTOUc0yYM6Pe2UMhx77rBSYsp/GcJPNhlSuPjfYmnZ+n8hYGJStumPrPP/eL+\n",
       "n64T000cW28ohqwDNZ2R8X79QXoldX8eQeyQASnOFjQXrbb5TRy0JW+nwDwxCDj2S4NSJTQv1YiN\n",
       "1lbn3S7sVCM7MT0ZyTcIa6KoWEOuWLPyG0bj9PGN+mKsGoMkzSi+QduwyxTN3CcUKIKqg+jdz1jS\n",
       "IQCEe+AvfvgcdQJuT5PcC0CIO5Z2KaXtym1Kc5Sd/5f4sS8h15POWzgXT0NIJmsTHICM/oHbF7Qp\n",
       "OZA4CQ1GAMK+RYcduaUQ5jSIFae5eGuxmDyNX9X9RufZrteKyVLksY/DYd154rVBgdoTerEpNvcu\n",
       "/+myYh69zpntqvvh4t0ojx/vnjDsSx6fau9uNcECk9Ta9cAs3ahS3CtkVO+N1ZF+EYx0Lj574ZCl\n",
       "kKuAUEJHllCo5a7OX5xepbU6fObC4/RvJrbhFX6BRA6IzN4lMeyTye4j0zsyJJs5F7s1/r8kXNfr\n",
       "1yBhQgShGkL8fxregn9hvBGQYM8ATbYPWbLuT6INqV5BVdBObUb69dYulCLXq6E/HE0/8dMcFtjm\n",
       "87LVbktjlDtQoR+NP/Wc4kpjiOOIqeTFX9cuZhXuzFDcSaA7ZE05TnVM5+o7tki4QvG7HlGhjJsJ\n",
       "n1L6fp20HIiyTEj6ogxwhxqxemRrp7PpjEX3gcyGklMelwYOtD+Yu8D6w0p9OSyon2IWJMFARlu+\n",
       "6eSZWvXPeeIsi4Uge07RjPfPD8caoxLkYXD4aI572bH+uXhwhomAd3YFIfY3UXrlSRuP+hI19BdV\n",
       "0kSFqFBeVYCF7h2AeGC2UQkwuuIPl2UYgwTmpiNWrZap4wXJAqQy6MBSJWK23oSVMJJLW9q3bKPF\n",
       "7x90tahatgZstNlG4M9f/+HCeqI+Wp9j5PnjoifMWPVMFSCWT/LU6CXWxnyEaGvdfvET2s0rHVPX\n",
       "TXQCqjQtwSTCmw63/Z45MoVDVfxJQz85tKbDu6zqNC4aljlnMIlCEsc4doP9wZDdx4RIP9D8wx0q\n",
       "ALC0UMkO8oAQHSz/7VDN2oLRJ8l9Ks1szwvJXRXSXzYApyjthPDMUiq57qzrEUFk1j/6Yz81UUO4\n",
       "tU//MeuKAoLqp5x3AzjUxKX+tNjqegloo+Sr2pRgmutmOq8bZpFDvwc24lWCbA4YR/TR7DrB1taX\n",
       "EFgEtoQAvYV4hJzVro2XX6seOw7ECFwWB1hhl+QgRbEKW+MpbL/Fi3pVdQ50+kMtQBzBf+2lH2U+\n",
       "TzAeCLZqxHvLhKhswz2qiWFqnvGjmhG8J4ccarlPKZZ+DzYSbe9pt8tqZzoZFkkmIw/UQGPmI9V3\n",
       "EtmDJD7vRW4r+CCJNhPw3cggcIy/qNRMKl7WUk+3LJzBVAUsbmNvzPCG2dWFdiecUyCeFP2EJczd\n",
       "J2WJkqvpnUeyRA1nZ3fKqRYXZbz+ucIKpQkfoH7arKH6C0wbb9XkvHjFwIEHJcErdTfIWI0NAMZW\n",
       "S8TEhQiBVWe0iaaNxu9IC4n7MfRgzGSRCUjBvEcypQvGbVbShcNy9YDTu+O760QXwU+Rg+rnHfUK\n",
       "tqXiWOVLXHlbhqTKPGUh90Memvj28byLVPpAAZGd4xhIwnHK/rf1w1B9j62snsG7YjCX0RC15uwm\n",
       "KQ6/0okxmWEFxhCUF8TqfNvgsciye8hx/+GDSNIhgEKwkEdV4J5P41j77pR0LVcR2qIxwNr/Nj86\n",
       "lAxZzrXj+amAJkBU7IIvB/MQAttvfkI26/BNtE7Hvt2Oa3wRNhUKGs7VidaLxLo6LNSrHvoudXJT\n",
       "5mGGZ5E4gR6hj2IYmpuZV6reaAp6xX6QIlINlTFpz90SSbbC70q5HCVD0n6dTN6/54tl6jSgYy3X\n",
       "YqyCkPAF4BR8SwXzOrbkev1FWUH69riuY2Qn+eqpcprn5CApHoGbaNA/VvDSODz4nM/4h8jcpgNr\n",
       "g8D5xxn8dIHLqQrF2mYb4fWwJOoEjkCqqyneSgdhrPnJsrdr9xZXe3cI9PqBJQPjIX8X1bVOfjwp\n",
       "CfXhiV97wM9DV+bZULN+/CBFxV7YkNLBmz/d1/vff3lZJY40ygMWvLYWmkQxCbE9lCoQKU1W0u5g\n",
       "XvHBX76cABOdWeygbA0uc3Mot6hU7p07I38GVcCOW4s7yeiJoKSYyAKKjmG3zUOQAl2XDEKbbGEm\n",
       "Goy2ne8bB2vJmzlL491mAaWj3x65ALaCeARDZShnueBWskULjQgavtWKWv9Z29HK4um/bJhdZsdD\n",
       "b9s/ieEt/AHJTxhf9E9oGrfI9m7kNkbu+kHvxLql86JvJcyRqvH++ogBZX7kzU/i8j4uEBD2nORY\n",
       "QmzKmgb3jnI3BPwswR1oUS9pLQM6IYIL9ZC+SCVxqzdaz9hdFSxepjOQCCoJcJQpOBbErhehoz7E\n",
       "2M90zhplRmhW6+TO8jwB5j8zbYasvkTjDjZnsn3H/GelnnLSa4BhLRoTv3N0OjgQtAN5Ysi/dcvO\n",
       "n1+xbnFAHs/NDyv/o77YxQlbM9bYzO9IT3el1BzqtiORaUcQFeUXlzlvw+Zm7SdaBgNSIII8u/nU\n",
       "qkv8CO+8dcYYIspgHG8ZCLvRy4vR4AXiu16vzwL/Xw7P5o4LDIBCSUPpe3uILcSvvJqvGBEuQDi1\n",
       "BPSPYzvW6UY/AI6KGGEaK8niR+Q0P/KqCJZqCfCMS8OKij+neUczz7X9A2CR7G/SZhLtu20I/T+v\n",
       "G8nNImuTuQ+p2E1dp6H4Ewe64NGZmdm9NrdmS7MipRsJDLUCbzio07UjjHPy5q3T+Srvts/3b8I/\n",
       "mC6tgbNJUIYMC5NdKqEGFF8lrP40S8TsXEhaBZWqMmuIvpSeW4NVpb67fsn8/eQu983jPTEmc3tn\n",
       "nFGsK/yMr5Ar2+B3l4yVbuzrEn08ILLS82MKOHqWF96WfdqiYzhFgLqIFDaNIeVdA89whU5vQpDI\n",
       "T3NoYNC7+AT7LNYHFM1KsB7UQ6kLynqSFuaQLjLQUhrmds578yX+0dgMas0C7sjvg1Lo+5j7Z3Jx\n",
       "J9QIW3mjADmXYAB2glSY6IehlORE4qhSPUKrMH80AdguZQvEvwWTADYruAN5+j4y4JOpOhMJxMaJ\n",
       "6f3l2Zyz7DaPuD6bsWtyqOdPRXtnqwZsrffEE4tc6lX6nlwX3R7iQ19f/Wjgu8rXuCDZcBwAvhI8\n",
       "+nOHg1j9oRLHvT7+GQDcrd7ND5dxowBpfZx/fjAf7FqqWoBAPTb0cFZ6uMmziH8iFLnCgQNvDZkh\n",
       "n4pbnI/uOorma/45LciIVrj+05n/Sla5VFdHO2wDbvlLxhO5ARjE7q11YRagZr6H197UDgNbcWqA\n",
       "AV67v2v2ITSBnvhqJprUKpPmkJXaLlY1HXQMv9TVf2DymHyCmnHrz8jcMG7dZjWKvcP4ltzXo7iv\n",
       "fic7rmzzmJl8FGRErq87ST3heqCNC8yTWmNccpxcA91UrTEhd3jcxQEAWgD1VVvCGBIbSvp9Af9u\n",
       "32rraAzNWj0BX3qj681rS3BWzSav0dQuKCtbJCQtv23Pni2pJLFTIk8Aw9ZQDM6dhtGCfBWAyGda\n",
       "ZRxCYLSPXR0Pk6+IVe4sZlgLhh3NQHwslBXCYHG0bDvv2gdzGqXMxE55J2Rn0v6kdqTMClURKFft\n",
       "HBoFEpE0VoXtW6p5JzALbkjUUY15p5JpRhNf5MJbWLRhf49iYEopbM59Qpt4wXZwmSiTqhTTdlvZ\n",
       "Zf0YbNRvMAcDB7bexHrsJnOPU34L0kupVKioUvxCAFr8bDXO1VsYkYeCtmkrGLg61Dht3gP0DLdW\n",
       "oE1m/Hcmt2/R6QO373C7nxUhn1NZu92v1WoXAJi0SGWNqVn+PLYr/LeSU5S7n7DhF1xscEw7VzCA\n",
       "9ausmB2XXr6jFwJ7S3pSE+xhWay298gwf1uZ3ckLPVAKpf2CMV0skdUaG1kT9TlX0/C28gTBWmKU\n",
       "jZYebAg1+oVkW3QZBU+uhlNlMfpxHamib7AoWiByK39ZxRCn2O0N73uk9X9pYt3kSs91NcqhiyJD\n",
       "NqeeR39+Lx/ik1emSc/kFmKkyhuylKYBMMpEcarLPP3MUrLIyzt+wJ9z+/YOYLIy54fd24qKIv7H\n",
       "giKD+6SxZBqqkg+OOteiuJgk5gp+7Z1o/EWb7B1Kmi1AMjajY0F9UNFJ+zltd2H6Cle+Ua2c1fMM\n",
       "GmrzWMExu3ZMYkTKpumhOoPrcILc//2qAvECZ3XvGRVHqsK/gVFMS2h/KorUvCkTZEs8n1u52/CG\n",
       "6RZ2Lt2qMITo9XtdAxfZnPeAuxbhJJXFqawAe1zYr60f7p3+3iwY9wdqbc4okEINGC9+A9U+Va0L\n",
       "XyHXPhgnvMgT26XD5vT+i3DvDz+4L98J+KoQnT9VXGYvOSOdEHSioy24CWJDuU9+upw8UbY0RqAj\n",
       "4ALICCJVvJCbvNoLZ8OTj1WWq1QtsYevde9MW2MAYMXYca9lfQhAGWoucYQtlI0lEMGnSdChgyHD\n",
       "04CCKWRGdbzxOLx7LGJpQam9OWBI6b7EU2Q0sIx2aZtfxIhw+3EcXWnqqJlFAuBrgTQzJi12Uqis\n",
       "s/ogqFj60wowqbVELvCNaYPRUSwj1pPyR0dldorNXsURxK5QKeEOHG/sjsn1a5fuJqZJ466bWyH1\n",
       "OC5NRX1HNU81R4TWri2+uidLrCwyTC2OVyn9hBEpSDtBbMok0HKQb4LvMmAweckBnjeHbY9zKofJ\n",
       "Jcj/99vFBuMYZGNVyAHn1V8FVOjkNnXDNBUKur1FLi38nyHs1v8USogQc3o4i8aiXOgYovVzHXUo\n",
       "qALvbDkFNSWPXwy2flfadABvChv0hbLv0rZueYB++jqJQnDse0AJLSxlQkkt3rM3VI78e1MO1k7k\n",
       "HHlxw1phyxU32APE3/7fnhxgm6m6VGupqAypM31bLf7fXR1PlHKzP/NB1uthTsv6hNvUfX69VJmQ\n",
       "gaUEl+Bfc3Obk3lwEAqzfb/Wi1qkzBZii9q2LQa8KE4RJIdHJZMjvn2xrUkYuHFOqKRoi0KZReFm\n",
       "PpFlglVJjmIxmfKjIjHXPJq+L/0lP3cYMF9/LZPlXwA1EM4Rlv8qe3Q/ImmhBkOWq55HhFj57Pqp\n",
       "lSs4jhm9F+gDMKX8nmvsO9+lr1mZUvuMiwFeIyqI0qmF4SNtP9ChNA310zvIwrhB4DjhPQ1Y3pwc\n",
       "RS6vNfw63OBv1K+iLfBqZTUsvN3g2mxmVC48J8c74z6d/aN4l6XD24bPvfm0pr4Npl92J2MkyMZK\n",
       "YLMtCgD0SG+6fg++5T6Eu0aApnk60lFDIfqzEgU5zdgG9CaAIPceUoOzPcgNnFAq8InpVIYyY/xf\n",
       "8hSO08uu0DdzmQ+0ilJ055oS32aGG9zlRSrpfMmoZFt0diIcXtT9Fna8XEjv9YnZLB9xSzM8NGUM\n",
       "6vb9801a8H4kQlmlzO2k1tiH6L7PWBQBCzcuEpj8vbkQyBYDqkUW93lnxYoGrXzHhSnEoro1zC4V\n",
       "rUgSc0EjpbnC1mNwIzH8nXbrpBd+Y3KyGiW7RvVPx8d4zeVcOkLbeDy20RHTR6tkILcVzK9R+ng6\n",
       "VQAHdk2xjQIMn+n1yTtjBVgEQWowyH89MBRm4xAzUcR1PzBeixrZChmYFea5mstvpcaCFllW0kKT\n",
       "xsRQvZo4urSGzccDVa99sHjNmxJS7UdITdrOWWnkVrB0Qb4iwT0n+MURHF4ZeFhQzAj3UOP4Mxte\n",
       "tjKHdD/UzseYyWHwi9b+IuCqAWsQhhkv82Z8h1BH+5ZbL0SJBC+5ChlSA1kATATqBsaRMP5hw+Pa\n",
       "/wFzXmQLA8P+KvGCBAJqfeDO592hoX0vWKsUnV93AmgQogQ7YCwlbkhwd9iu1rqWiDZEG7RlAktP\n",
       "mim8MyuA8JARUz2Roq3bgsrq1hUcrz8bVVW+WD+6Bm82s4zplCc0X/6V2Tt58+3g3CUXv5lIlDHH\n",
       "k6caAY7l5I1dDri0XHVUq6asGi532/53L43lqdd3sMiUbac6Kp83IpgkgeEHUQyg7T/muXYJBDQ7\n",
       "JCe5wCcXpYxS7dpxhR4efJ+ftyVur/9wW46JLCMMKE5DyAYaGK5PUXF+ZvR2HJzwQapXzB1nAukf\n",
       "uOUOkYrmxqQKkHnflhoMCD37cPOzuTiS0Zg71jvDasRWWAesID0TJtE3kSgxRmZFJQZM5mwg07mv\n",
       "J48VLgodjN0jDwvWOgY3ux8dGDG6jErhzwOsS1a5dfTTCWcWDlqq2xEtFY9qSYe56J3+2GehxAp0\n",
       "9KC+rMftLcaUuuYpSRKh+nSA+AYhFHSkorl9Hkj+ISMCMfy8EYSvhi7o6VYW09494MXBFqcwbJ8B\n",
       "BSQxolyObGF+cx8wLI5etRvQi7tEyjfC9HZFTYY7cLtB4ZggmsIyaz5gE6TVfgg2YhbxuvtZhXkr\n",
       "95DtlSAlsG5WxbVgb5BkRO5br7A9gwIuL8NmTH4NSrig1XW1ov/xhKxAShRYc0qukvU8qDKuzBdk\n",
       "4IfHCJbNi0x7UF8+bt/1Io09CvNvQT4dOayFM1g9QF2rZPOAOht1o7IcAXHjW2CKwegegjA2gIzW\n",
       "TBaHaz2lxdu9gdGtEG+uNPSDxpHhMrZHZCvpdOPEP7qqyyFh1gzMjdqvJr8b0xaMrCSsDYqF4Azc\n",
       "P7OtapqShtAUPFWtTXyiYwujF3jKE60wWPctN+1n3rSgEmU7M7NlH8M0Sx3K5/T+bf5p8OAwalxa\n",
       "pksBSzJlgMAWfBbyHA3Mt08SRqAkV3NHiowXSlKyqf/xS5/cysJvxF2UTOBcJNQZDWk5cEIHURnu\n",
       "9XGThfzFtLsuo0n668qFqBU4j8cjaTdWr3vV7jvL6S4wxQEtpEJrVRgAVjNt4HIrEwxOOuOVjXfO\n",
       "HtRR+VYuebz7ue68uUxeBrvFwjXhIocKWUl28dhOzMjGYnEiU7z9vqefpf0nWdQx49lD/XsIwig8\n",
       "lJRQW2pXuryB2rSf+WX+iIxTXV9989dOGwpFIebg+BMBvtSzqbFd/72jqejYhj31g8Wr83/YFqEM\n",
       "CEZQGnXmuw7FPxfZCXUpf571A6rV/WJlT73uBnSu9OQM9JZxul0nTE22IWWaXI5z+H7RVNc61ryr\n",
       "bnZXg3ueNHzRwxRGqOrJVniVM1Gn7vcDEf1EjNBIt8D5SH1rzNU5OS1ix3RoxE/ptN98e/XmYRSt\n",
       "WBDb5JFzsQPrwKc1Cy6uPqO2umOz0eFeJfoLjZLaZRya7jFt/LfARhRY3XR4MKgrEvZs8TwQvM1i\n",
       "RhR5NYKbjtdVqGy2d5NxGnF/wrGjHt+5kM0BAH7BbEUIATLCp91QPqWRjHmJp2T7zPj4KiGb7zuT\n",
       "E1pd0eTnXK4jQEXbEbSn0cd/0W9g0jAGDMULhcsrg1Ovstnd7qBTb/+546SCMeoRvcAAi5F6poti\n",
       "U081UDRvhyend81yNyLdfV5+B4AGKN2cmaIY99FVxjy0QHZdeksBG/jQuUl7qHT6FJoXEY8f+5jo\n",
       "+OV/fhgR4KvSlUUdReMwmVhIPv42F6Gpai8JV8K8l7JNv2OdISf2njUrCNTw0FZH4yOYvFWDZqBW\n",
       "xzBaAmFluiNnd7NRqGDvBP6XzbMtyKmpjFja7CMzDpNUMwM4AHyHy4ZeOa5EbIBS4k9V/kyLX8NO\n",
       "lZ7FPehx1FC3wSDARdMlTmtQmJ32Kw9PaNgrwzUp9tm8zZmSyFmp533KpzbR3Ppw5PfwO4fz/m7+\n",
       "P+KVtJJUEgKkOyhhVrySMd1mxWMh+us9SsA6SfTQAmY0x9S8GpJYQowmjgK+bfiE+iw44J/GFmVB\n",
       "79Bs8+Vl7ZOnmv8Psp/JA82RAXi80HWuX/nOAQdqDZb3xL1AzHKTukSCPGp+pV3VX5rLCn3nW2XY\n",
       "Ug2GnaVONBI7Lbrev2QyZx0IP9Xpz0zBI+jLaCcBRVTmLV3IeR/ifvePVWTcCDRwMmjLn89Vq/n5\n",
       "7zPGlUHiaP6AM6nUEc/eyIpvKAMFTr58wtFzsN3loWBjKFVw/qJxcLHyjCJIgG2yyyhMswEzfxnf\n",
       "N9rBkmRsvHU4TSI/MDRF988O14WxOHO5vGNKycNotjX5U+j4NljJVnnt5sThSLC3hcP80Zku0rYy\n",
       "Ll4IVMcW7r1yp0jMeyLucln+0T/Qhs215IG6hKx1L3diAxuHd/p21I+6dSx7P0qKaqwtEl9aK/Od\n",
       "KZD2ZgtiB9KmLXqitzky37kZorpHcYcEfgbzWRtj8E9/fsG8w30NTP1AEHo1d93ctNAZk2bqq1Vt\n",
       "kx4GH2a5qKU4FQ4L6412pT0buQknBnB7d1XJ3it1mR2K92J0ZzQbEAsWLz6ZKg9R7IkTZAb94luq\n",
       "atvqBn5qo8eFyCxN9WKzZaaCzXDR1DFP26kHFy706R/zi7dQ8HSlUCHoTYeya2egU8/MgIk2lM2v\n",
       "CF1arBJ5HbeuiiaxHO90ncdfFsMabERfJE9MwuMrjNWTp4zkw6771wZIUo5bpcMIp92434Vnjvmu\n",
       "LG4xZ9cIt69bvuxMIheQawQi5v2/9NjK3Dl9HSY/QXJP3bW5xRVcotKzYKMdSJm6kKAzm1aWNI9f\n",
       "iQcqSLjhIEPdsRf+Udh91d5UnUvH+9zqNG+u9B2CVfNgdbwqVsfZQ7JPKkeguEzZrQ0cQ0qh25K+\n",
       "d7XNS5LGTRqvXC6b+TAZxib7noY/12CnPZ7D8msaKQ0gmZD53Vz1ZXmICSoa1iGP/gGRLaWFhRgn\n",
       "elUkLVtw8jTyH532mxOrXaUnlyMBf2rIgZe2d7PctfZR17EI8Ys9PQz+4kTZquvu1SdF315tPSCJ\n",
       "YtJbs9Hs4sHQL8bp3iv+/znSsRn2NXbwxrDSufA6a4tf7d9XHG7WWMuEr6FLkTG16W7B3JOep5Ua\n",
       "xkQAHAQTHr0uNniMZbEegzFmn7ilojji16C0P+fvt01oK06qPi7zfp8HlK9kqlaCMK39zcb1NIER\n",
       "93+UIDPgXAqKmg9f6yHq+1SWfaaZoVfohDAydcFwEAqhFfa1ee/0tmwN3UiSDGqPE3rDHKCTwIwf\n",
       "80z4J1yIZ5HQDPWBH4CwllVYaQvG3bXHbm68REi9H1+SMa/qaZmTJ/oUoC1MFN8YPVu8vOY7DYsn\n",
       "S6CdTevr8bhs/1iwQ17RCPlvC9fDcbin1P/An3dZzKMfJ9Q/HTvLeoTJ38kx16Po3NTDtoGCkYYM\n",
       "lXvhLfUfNP5d5BUuUwzNFExgiQZkQX11Uq6qEMv2Mt0vdvzMljLBHs2oHAFssIy46cpnXZPjbsJ5\n",
       "vR/k8Yup5+AvewoW733pgeOZYoDIPKFhniyoKgnMCLav9AN+N2arutDWb7Bh0S8MR2EqPWJ0zIYt\n",
       "gNumTu/TcrXMmJwPTOuLBQprXwM8bh1ViCchTNDZK27lVGFmf2YBWg41BLeyYBhe80HYEXUMABso\n",
       "xFwYzv8zqrzl4wc1gfKZ8KnG6bjFzwWSG0TvJW3wetfUivsDl/GsZBD5iDT04ksDmBQFyEaeJmu/\n",
       "xec/yzjo0WDhbtKcoY99r4MCtcZa+DpyZg0GGeuUEOop/pZlD5mf+2SXA+6mspxDixkKKX64M91e\n",
       "KxpHsXk9uZlhZu1ou6PLjwvEuX0WjpePzSzvFOJP7hkanGb0HTp4TX82K/H4lD3EhmY4vxIo0PT/\n",
       "maqdfGZswM/bzHYE5p2tm7k/E6xoh6R47ilOQ78uKxd2+bSg4iu11tfjOzoPCydMmfHFGoVdn5nM\n",
       "UPjvzU3aY9XlUaLK10yBZKlM7UnwfBzc1Os+eVymdU/b0CPzFaK5AioSA8zSboQ772DqtcC7A5J4\n",
       "O/dDINFPCNKejnAwGWQnxGn1zJjvxfmwozUNFyEFxaNlTfgkVpv7/sN6sgKtvcNxSaFDAV463dkK\n",
       "fG784FPSzmQKe1UfEOHMALeAgG12gdBI6rjzCtp1odN/uwox+FWY2dBRp1A7aaTUit3c4H9UN5oN\n",
       "7Ga98/gTU2ZRIq4u2JyrSLNB/IVuUqUowe+f4eLZVcg2mPfsGN0pbwiA7v2CepwVSeVZFqJILYYV\n",
       "mIQxSDzHzSYj4NYpXNPg0zdUmu/V2raWLAWJvVFEXQUTDuNYOO4eYd2kdT4a72eoNMWQKrsd80jg\n",
       "/4Kx0+bXfYVg/SQCnSAnTTBmB6PrKkWMSX+kFmhwRptBrbWhw1f/BHywJriu0TRbXBZCCTwkqi7+\n",
       "cJOPDk9IlQ/oxSmrE1Vg1K7DPPALRvZpJTywNGeX0FKKpk0Cp9eaYHGVtEKK947psFLJKjv9SR3f\n",
       "XJneYy3iFQxCYnFTfVsbQyB5oaOojCsE/AxvHZbw8yPvZb0sXWMwrXD0umkIdPiXfzpQ66yCK33H\n",
       "o4ATH+4Iboh4+4/TUhmQk2Nu6bspD8W/7Nfw1IL8lm/yG1R4V8m9t/HGU1l64JMZ80SoUIdJ3h5A\n",
       "3AUPnARD00B7N2n5Opp1vaAZMTAeEy6tg7NnZUyFNLOJt7/uXfNXrZM4dGTzUdj2DjACELcWZ0BT\n",
       "6BA34ArOjB2dVOmy55wKNJjyuqjrY89UhEvvyoBEwn7i4EEVokCCBUyvgfe9NYCD1oHEoA1zE039\n",
       "iM7liZjGyCASgUEGrSxoUXgTpsapdq2338y/fLH+mnuqJEUTMx9sKHmFR2MlyDlfgQASCXj45Mfz\n",
       "7wVM8tsrz6GuJORQjOEjvgMdEAWgd7Pa0DKeHb8aqHGpKjzN0JCOXvRzcei8D3mLJUptBYWVtZ4G\n",
       "fPZI6h+uNi74mF1rzgD4B6KwBnNmvZ02n/rPDYkTrWgV41eTFc/5VhRnIruuqNMM2m1Sci73lXcG\n",
       "Zs+xjnLIlXtBPFGLVzLwJkI3Gn6i7CDXZlGt30tqTqAuNMVTJmpZotSvVfutOwiX+g5MrWqH4cPX\n",
       "eCDldAsjy2JYU329ZsbkAYJFCDLvmE5GqGP9ZoxgOT62JHqij4zAud1yhoex6DjSla+AwIBvMEHb\n",
       "WH5d2d3cwY/RDY7/+5ZMMQrRprP3X2lPlah5nZTsoCUFc9mTZ4waKz6uxi709AksW1VtZamXkPNR\n",
       "3zLnR6htZgxxgK8eOGQyfRY+ulj2Sa9Yrb5VzbMp1gWl0ynq/c3WBcaP+PSEoACI6ET5qRkHNYJk\n",
       "7OEwSot1967WnLJlwQ3yyhrBfE0cg1ZxhO1xszcoRuWtlQ5+tuFD9bs5crF81xNcqSX2b1O/TcZI\n",
       "at9ypQw4GeGQSXgEO6gsfnUn4zFQOVfnkTxPFIyJj9KtDwhLOzTAKq71YnIGZUW/P+rEbMK29ec0\n",
       "sqj4r4jJao85LD898F77Sbe7gm3MAYcuak7kGgtrg58Zn3rbMlFiFjYjCqstRxPAkGqRHEGI3Zxh\n",
       "8bKNb62ZqimMMrad/f5g54nDyXn86nYohqFVT9aLP85FBhLrBvzXf4PZhH6FpDom4ro7AYHpG45J\n",
       "SRN7/fRhJ9BFA/8Z5bypxkNZ8+xSsr6tm7ADHSJxT3lJCA6DUumMdXuVXiu6sffxtEFzK04wcl5b\n",
       "qs1uW8n4au0XZbe3obUDKP54C0SuriqU9U8K14wCPAGDnYBf5nVIvtVwlRK2BfxuqOR9iL98Bb7e\n",
       "S8D73CULQUtVb9X1SGRbVNT1s/PANNyCKa7fHZvuJ4wz0N59RHLE6VeI0XhmOMD3V7qAy4m0N5fK\n",
       "iP8p2T2/JvJNH5dZ9uTEVcyu+tE6Mr0L2g6A/gyQ1duH7n85WSQtiX7mYjNMNENRzkbmOd9qOKDI\n",
       "a8QaJEvqjLe5TTrdDf6Hs05GwcqhpWzGnZHG6d6F9VVgkZBQQGFRrv77aPMf8Szx8LD3UjF1hOYU\n",
       "FNH3CeZVBjwL9SBk6B7CxJiJsuOlKvZcTECffMEhSfwXPr3z7c9gml+PZ7uUu5xT+yfFo+78YEAH\n",
       "nXrNFglx/iyRqCQnavM5uS9sJF7uU5NJFrjXR6JH9t3YhMuIEzMETSIy7xtU8CoqqXeEjXO3GCgu\n",
       "gsZlykVw9pTih6Bupwjaoc5dWJcMV2AndYWmYQMlONjxNv1aH76GVzD8pY8tiGh2MynuZATZFovU\n",
       "2Iinl1Ba5dwbcshrelpDwyYGkQ5oOk+T6USRvrFtf7ULq/AqLL/mgg27fg8Djuv9jBQdiatUe4Pr\n",
       "4zbc9c+hWk967FWqVVEjCE1ENDZONmFnsYMnouPqShUflgxKCl2xpDLl2DOUnmXKpkp67xKkjwOR\n",
       "mx7UuhorCihZ/xPtCnXVj+w1gxBF+GiudsGW4JSwaPwFtjEpvrpQ/NtQcfst6YrP11hMZjEvsejy\n",
       "TA6RGlM5RumqhuLvRD6eqLrud36JGZR6RhL+YhvOczve1g6Vso0/YmMGJUgp+Z6U5Wo9NfxJIuy0\n",
       "zl0JLuLqypDtyZuz0MZFr/g1K0t4Zof0w+ZGWVimJfoQG0iF5+XrT3o2XBjGPZJkqbZpABYQP6dW\n",
       "JT2ICuf0m487p/cR4HSY4jFpz2HZMHATdwxVEQyXREMWKPKF6jrIrZaH9qeDzUCqgFaJvAXuCFgl\n",
       "nziUUGX4yFQ9zhg5qjtCnzyCfy5l8FiNKNCzU/k+G6AYVh0wwuemR04OWaAMrnShRHsna0potQ+v\n",
       "hAMF76JGIuBXfF8jLVdBWVnpDVpt/Bua7n0XFnVSU6Pdiy8sKfy2LPDLOt+Kmk7Hnfenzb9YDx3z\n",
       "9RJtu5sj/FKoLI5y7hCw8Ujn9h8l7SNUOXLa1PFXmhb6fJnwIl+sxRQ+sartxfCTwoI0JcXQvx2/\n",
       "jOmuthO5Kuqw7mIxjJ3Y7gsuPMcnns5oO47NXmuGKnM8T7u2kSLk9AYv73dxEkfW/GDPlOsPWtJU\n",
       "Uenz44QS8m/oAZu68sepyn3D20zMkzpjHUHZWTDiXIHm+aKzwYe86a1Jc9fP24sV/o/+kuSld27H\n",
       "+fWFRBszVOAUd6UIgdOrDmx6iY5RMpldLQDbhyROoiEBSpopdewJSyV9Cq41pncLlswupuS2nOcK\n",
       "ogUdzgm3qHFuh1NW9V6wGc0pKJ0rJnfQKru2DktvqmtR9cY7ch26DH6oK6dmwo7dYAhuVTR4Q2ii\n",
       "Fmh87gpQRS6GoXQNdY1pjraTjgXK2xqH+SBLWLuDLd9gMyjP8Ljvnca6UjUpGgShwt5lODlwNQR9\n",
       "vznWrwcQRCHWxVCoC6x8B7GK5OTHT4P34L/NnkRvnhBQ8LuZSjus0Z9FZAetHZrHn5R6YM9OKbFS\n",
       "gRTAUOKr4O4G2FH7a7oonDVq51gJMJsgdMyIO9Up85uLPK6RlMezJA1S+aW9yxznJlm3Ffn9s6SI\n",
       "gaZ4q99G1XnocbK8iNqnEBmmUAunVNKH8zhX+TsIHftO64PPk1Jm5HlyzN0zfhqqrcuW7vbgaX5l\n",
       "t/EWhT82Q5oqXEujeNSves6jz9+y7WtNQKy7akrFX/qvwekKMPhRkNmVU+FDBHPe9GaL3TqunA4q\n",
       "5fBS6u5CqUtABlmPJt+BDGh9aT2BktzXUzx8pzsazfMUDfvOS+F1vfjctS+JFv0PihoVW4RAjvtd\n",
       "M+FQjU+lcxyR7rydXJG++24ZfvVD+7Qpn0eR83y70BTvc90aHeXCtgJyA+37biTZLwhpC89mytXS\n",
       "zI4voMhnC+NWSAfLyW4CV+tZGPWzEkaptxUq0sfXY3JbY7X45/stIsDIeJo8xyuK2w05Yoi0HCG9\n",
       "QmYJmYBR3PUgXvmQIqxhrUihQqQBBb0ASSwfSq7sALnaaj0maVS/n2vqPcDo0Mqf9El1v98IH8e8\n",
       "68LYGkuErx4NDWGzJnLn6LW3xv15vl03yCkEoDWnzn03XhsZfwOfH53uxy6b/w+84ZNtXSKGjoTy\n",
       "Pknuwbfn1khs31zt7tAF+OctahMKvyCIMfHR/GEHtFR6S9yHWbW7C3S/27X+orjpXDbU9CRXTLms\n",
       "C7tI6V3AyPCHyL0QO/a340hnluVKrdYYh7U4U0UoNLT6hKyGJUCsS4eCcOW2gXOucr32JFfkOGHH\n",
       "jcuani4WkbMz+06XEBFg4b2n4T6hwhPMvOWINy9D2GDij6NMCAfkgGQ3aqZYCSctBuTxlZMvSxiv\n",
       "D8n7dijIe8j44BCXI+QnK3hHQkSbliZwR4N4BJ7cOuvmCVOG/uoeQJWfIFmZARAiXyU9Cr6oVUZN\n",
       "kzbt86ipI+sYIzbYtIwEib9HuMWkrOQf7HqFVSsH5hM4P7FEL5bm8kMOfRjtm35/bfxq56l6eR1d\n",
       "pFXoAZOGyk+EPKmb0e21aQjcF3LRigZtrCdKJYC3mh9fi+CC6B32KgbN0Xo8dm9mpOD1Gm4DQxsW\n",
       "H9XLH3xAnejZbFZpGGHjISOq15vK/2FqRjjDdicLuRNEmW3pud/9Rudn4BWnGhqwwCW6rnWWvvTN\n",
       "97ByqsfpvsUO71oVicneop3I4qx5PV//Z6wOEbMVeBkuHzQm8znO8eXbR2luQBv1MIspBCRLZVdq\n",
       "5pxelS8R8aLoAxQ/OKUhiDLth0enx2IyXUGqy79NLlXaCb0OvLo4J026rB6ArB2kosaZ7hRdpFdk\n",
       "jaa8dZFy2fA/7jqGwfhfkyQmw7FD5KWBQaMjN/C71W/LfozTD/yrCFE6RBBtziQdlTL/1qTjDa5J\n",
       "NSl3gKc6KklOWOqZZliuvf85NF+rGC80fCOD2+1jotqBHPkIS+zGyFue/V4/NhsIyE9YmJAYJIbW\n",
       "R7/3rNlGqkwDtLFqPi63YNYDath3lKgbR8cTCNtzv7fURGlhzeDbnYdckei9/N8L7kTMlL0izLyt\n",
       "+BKOLtVb0gm7GFDvOPFk+pebm55141E3EM34jszodcugVj/7fkxi0UFA6V39kzI5pX6r26qEW66n\n",
       "W/aUPsGsGwx0ZOMJvwcWCRq8xps6wC+UHfYv9+hdwSDfqGzAW+t8Ytxm/SwSw4Xb4N4y5yw2odc8\n",
       "gxmkeBK+RGA6ubWMqEzPVLYfYu6HFsRbxjxBqqtbofJoQDTcBnbgi0ainnKfuGAYrOV8sVzKuhLX\n",
       "tqv+QBTh2HS/YGMuMhiJXrvLErVx71f+S8k8RjfLBFVdEpRIt4HZgeGB4/PII8lRcJBw5BompXFU\n",
       "PymDCLMgGbRXgb+11+kixUnG8Vq5L/H4kcGSTDOYlqldFCXH/zAIbqXjHPprnyJuv1031zqN7BcC\n",
       "6CWi2FirGx2kJmFGXnVzrbgV9e/8iH1aezf4eWupK+VeCW34gx6xOqq1Ej3ZFDBcZekmw5uEWY21\n",
       "rgbf0YAgan//wbFMFvxVesQV1Ry9r6+V5HywwcRusDnQ1v+pfv6dE2QZx4vVAqe2/9UWgP3Bmgi9\n",
       "WfSpwvudj08XC7RrkdW6vnDkHvNEJom2ZhlgIYYdQaDG6i7s+fvbPEdo0K72U4g/U5l0ex4DgYH6\n",
       "gy20Fcgkp4S5WBMN27UmGkh8/p2sREpAyZs0J7FX4XGz9tWrM09ac5ELy1g9OGiYrK/Vo3rLw+Qz\n",
       "iBCSXZleHkQfGDIi3slNJFXxM+UOqZt0SnUnoefYf3ctDZTHCb1U0bpZ9HdKpIT1yT4orjODJXFA\n",
       "Zj9KvBaYJLHSHF4O6+QLQHaHqKmWQSP5I8EvbbiBn2R4BazouojXDEYLFua+bcbwvuHMsU+su8P6\n",
       "9uEzTGMhbpvfApZG0Qz2sIFm+sk40KdCg6uA+kK8pDgdpQT1R1mHPgGgiqqzG2c7wfzOImIoK08j\n",
       "HNnAZbbE0dwLcoJdujWrl/2Q929qnX2zGSE9Ug4We4LuGO++Sy8tlpJrauCBM1mFJEbCol6owSG8\n",
       "TahvhSWQCH3idr36zRV+Ve5fqVUCD8Ldny1o3VgND9ZpXw1GCgwSFsogDQvOMjT2Snf8T9KVcN1I\n",
       "efBuCQIT41654B9VRo1LtsbmhLVIgNauG5QYtJ/TsJW6hK5yj8rwJ/DEuqByLil8xHWkq90riXf1\n",
       "wBgZJTzoN22XKMZodqgLrmOUEJUapzPZTW3CRppfHG83bEkQXRBKITzQz6pO1qVL1l//TRnAS5vS\n",
       "JOsAAv2nwagPeeATX22mI87w5QAZagbsgiAajT8oHufLHwCz6Fl8EcARXBbZTh1lT09DdN6DA0Gq\n",
       "vUlb41MkPQL6foLBT66Q8lW8nKb+YBpk1g3H8LiK1L3QPgq191mcy+px/9afU3mcPwfSMoTdPPPn\n",
       "dq1KBddvIyCpgEHgxBO4Wn74HoAfI8hosdw5/S8GYlt8Ihtnmh/AFF037I1RvSOChzNbLQgQ5P+I\n",
       "RXnKmcBDKoLL3Y1kM3y9fFsz9EQwy6pJcSQVyUDZXs+GC+PhMIXQaipr1rSXBsBKXm9czB91Q19g\n",
       "XPAJKrwZuLDAPP48+T+awXmMeYZb/3hz7uQB06NP9o2Nf/3wQ/eaxPLv2LYznth20fSFngQacn9I\n",
       "ia/NW4L+eGGZzx7LhZtevjfDJXKdJEXaUnb/Kc4TsTfjmXzE9ta3pNHsRfWcNfU/TRiCpValBW/H\n",
       "/prFzkiGoXTLHfQqTlF3JGHIG+q7CGx3s1o/WPchqOLjapbFAhwg7zlhHiki68yqDg9OyxBTLc17\n",
       "lup/FwSJklHvA5wJEzgQtFhqK/9NdCkeJv/SntZQkcHWWteLJC9oer5NXjTukEhhDHYAr/PrEIVz\n",
       "LTU9/+l9+r/HojOQL7GeQL5aQnW6ht2mZ4htcu0Ro8gnUOjsbGg01nQujmy/Lg5B3jz42cTc0E6q\n",
       "yu/ft2/yPSAhFQcKBMqw1zYJ4NcgQl0GpPrAGxHc6RhWVOIzTYlFJK7DDzU+pvAnDZUlspuSQgW0\n",
       "hA/FslghUKi0a77U/OMxPfqTkw+EKTYmd8QfDm0B16Wie5j5S7p+uPYAf56S0lhyR6jg3eR8x7TK\n",
       "MKbj6GYluAnO2vB76Qd5BrnVNoULD1hsXQU643T3bVt7DYiwQr3f/cteInFK+hJop7KHOJoRO0aG\n",
       "5ZF3DYupCGria6wh2GR39Wg+cGDW2ofhuuWQJV5ZZOxYKvOxpt8v02g1y2Us1gSJ4d1fOFWEkxsG\n",
       "eZQPITjp3ucdviit6vUxmaceZ7jq4rK6d0B1e0foQnV2+fv5c82j6bNKvRcNlCA5pkPXRBnD0qmm\n",
       "a4bPFBj5FB9vNpJfHeiHOW7Ncua+xt2wYor65XllgBFQrDnl377TwLwWVZ+Mx0zjilYS19pZgdIt\n",
       "K+6VoOZm0MR9PH3yjsVcMKrfAscELv/RLD1l7xF1I/kndXnz6fBE/ZmZ7WQZV80NGWvJl3IUTPd5\n",
       "X8Lr4NsO294MPALaapqjZeLMrYuCOARokXspHmFph9L7KMSFyqWCqtftzSbpL9QYmNBOIL0fea0L\n",
       "ouWPgUnMU/PzSulzPxMEnHZrWQuw2pMFhjGXNhktcTPi976uzbwgeEUFBBTAMk/uFvQDaEvGZuwe\n",
       "4S5JAG4nUbImqCkQ+VktMAwJZz6qSjUmYlER72brYX7u5KOyab5upYQgoBxiNjb614KtRYBpWhyA\n",
       "aU7I9XovqFsPc2IqMVDPxczG6ZtPOUxoQK6Honb4dh0HkK/q4Sp8Ya7kJ1AmR6aUDAOu3931sr+d\n",
       "wYOFtOTUTgUtJzwb50GCXsU04OfF2G5KJ/lh7IeoQQ7B6tMBlm2cQVR+dwSUX8C4iXNLr19v4Cpr\n",
       "8aD9XGQ1EUTp7FvGXJatWPfcDJgBPks8km3RF1j4f5mbxSy3wbLFCaWvCAZ4/+Wr+GBKrHziZuWn\n",
       "g3GkGsnu0hvfv8Ht3//y7eUbQy+FjMpw6MyfaVMbcCLC9KLOymcXBHAs0wA/LdaE7VaoIZ/r+wQh\n",
       "O8WI2XEWFGJXlo9F3+CCsSzBjkPV7U+zvQSTjbdYelsipVRYuYmKzQ0zjY8nZG53XAwrxbkdwH1t\n",
       "O8OVCJL93REKdhcfmnuF693S4wTNJmno4ZSBbAbPPQhYe1G8WUiHboTL3qdE4/luE3gQ/n1bRfjy\n",
       "d7IoxQAAAbtBmiRsQz/+nhADc+x4IKX8AbulzeU00Oi0tFxoOIpQmc0Hwn0LRPGN3jhi8vqsIFAx\n",
       "Z328vGM4TErgpDkrIZcRZ6b+LdD2JieYovCDqK6kauRLZYCUtS/NKP7q8kNpEgJAIQ7X+mNJ2ZyB\n",
       "+iuIAzDaNBCO3q4cvS4zUW3sIFNOBYMEUXicAUP8lFwkk9dYJtLx8Rodn//ZgJ6s4sooZ+rNtxUK\n",
       "F5mr/taDHbSjqj7/mFsfcZe2KONU8ALOVQS0dPgcYfXBCyQmL7NH5t86DgNVuKshqhW6ckW5hmcr\n",
       "MypelpH/2gb79ZIrU9J4K08DZe2vvHTad4dlvkA8FcBmM83/ZuwU764Ac9+VjrhqaX+Qv7E4lUj3\n",
       "0OWrj5dRDh866tGuFfIDDGp5pPEHwi8cKZFcXRkWrXf2krseAHlyE1yYnAYm0X3DhW78mjS/YjMf\n",
       "4i3YGvyqxWufCLO/xAR6i7ondEzgu4WD9bh9rJSp1XPW2WGHfZ/IPvjkaeR37ssJSr8S2p5JGYFZ\n",
       "7vIgF+DGVTHCBltdoZ0XlQ92pSmZY+iXxcVfZMa3stT6yOjeFEWyP2IePY89g6RUhk454AAAACxB\n",
       "nkJ4hH8BGlFQhp1ZypNyN1aTPiJ3ifEbcnAmx6kFXA65J/lKwI7Exb8N6QAAACQBnmF0R/8BxIo2\n",
       "gNgWe73mezrCvagAuCvOAWiBc64KB+zhUiEAAAAQAZ5jakf/AcWAAQOmz5F/CgAAAElBmmhJqEFo\n",
       "mUwIZ//+nhAAKfBB641wBTMluKS6mG4OE0DDxFxDbpn4ycpePlGrPythTVMrlVwuKqwc9iVqVQFB\n",
       "+1wRp375+HHAAAAAKEGehkURLCP/AR4qAbUn2gAlSBNFyhURm8st7OjsC4oLmEWe1DPKLCkAAAAh\n",
       "AZ6ldEf/AcSKaaN6HABM0poLR9tK9jeX9SP8pNqYy/O0AAAAIgGep2pH/wHFgAdT1EAAnGg2aRYK\n",
       "NMoj0A6JukjsbMZfnaEAAAA+QZqsSahBbJlMCGf//p4QACkaPf///+QuAINuSkiyKyUs+zWf5vM/\n",
       "icki8lxPv8SSLDW9iSGLHmHHqEpUQYsAAAAWQZ7KRRUsI/8BHioBphAoaV6jh+BWoQAAABABnul0\n",
       "R/8BxIppdL+0IHlJAAAAEAGe62pH/wHFgAcmyzw8dMEAAAArQZrwSahBbJlMCF///oywAClL8uQA\n",
       "Csur+NKhiToZm9zf3ErWxOG0I/IVsQAAABdBnw5FFSwj/wEeKgGqBt8iiLxwCppeNAAAAA8Bny10\n",
       "R/8BxIppcLO+ZUAAAAAOAZ8vakf/AcWABysxcdMAAAA+QZs0SahBbJlMCF///oywACk60kAA5YqL\n",
       "w0ZtTG305Hbj/FGV2WOfrtN3Aoru/Ikeco2Vgyn3KdW4HnIFNRYAAAAVQZ9SRRUsI/8BHioBoIH2\n",
       "d4hQbILaAAAADAGfcXRH/wHEimKBQwAAABEBn3NqR/8BxYAHKzF2DmKuWQAAAE9Bm3ZJqEFsmUwU\n",
       "TDP//p4QACjtxF0AAFA9g1IyQ/MQx6tCueiukd3fKmPtUTlEMscIiIGgs6qGEw9o0fCRcZ3Al9DL\n",
       "uVKhDdp7jn9c+EfBAAAAIQGflWpH/wHF73OV6iAATg3GBWz6H8VAmXNF6zMYZeTsoAAAADdBm5pJ\n",
       "4QpSZTAhn/6eEAAo2b3gAj3Q4WdgXuNPgukW/ymJWAOy50ZHngrtbdmBZN+IATVvHEXAAAAAHEGf\n",
       "uEU0TCP/AR4KcL6AfqIS4AAsBLwMYpVsEbUAAAASAZ/XdEf/AcSKaU6IJJpTdVXgAAAAEQGf2WpH\n",
       "/wHFgAcFXbknn1V4AAAAUEGb3kmoQWiZTAhn//6eEAAo2b3gAjV0l2WQLD+0A1+v6FgYERzGtjLl\n",
       "Eau4qZoGhtObOAbNMk5YuPi+QEf2Kcc2XoFEoTthf76UfM/l+XE/AAAAHUGf/EURLCP/AR4qAauT\n",
       "ZQXADXF9JRA7427OGjaAAAAAEgGeG3RH/wHEinAeUpk6JBONoQAAABABnh1qR/8BxYANBmRBlmlt\n",
       "AAAANkGaAkmoQWyZTAhn//6eEAAo7DJtgC2Cby5RWli/1vGGT92jlQdMSgMFPrKmRw/caVjvLFhx\n",
       "wAAAABZBniBFFSwj/wEeKgGrlW1kzj4fgVqBAAAADAGeX3RH/wHEimKBQwAAAAwBnkFqR/8BxYAB\n",
       "ARsAAAA6QZpGSahBbJlMCGf//p4QAFHYD2nIAbr1G13GQY1NISN15Q/bLgtWsWUSTk6b7kls1IS0\n",
       "zJSpJgDjgQAAABNBnmRFFSwj/wEeKgM2DDd9VY/gAAAADgGeg3RH/wHEinBuU3FJAAAADgGehWpH\n",
       "/wHFgAcrMXHTAAAAPUGaikmoQWyZTAhn//6eEABR269wQAHG9MdoHEQNqfMHfBu5wj/OBWuuH53P\n",
       "uHpJQAYZpApiOkziCxk0OOAAAAAXQZ6oRRUsI/8BHioDNAy68BNYVtiDri0AAAAOAZ7HdEf/AcSK\n",
       "aXJ1uUkAAAAWAZ7Jakf/AcWADWTpgAfrbpHWq1rDVwAAAEBBms5JqEFsmUwIZ//+nhAAUbG44AiO\n",
       "3T3ZDebbCejP4FuD8y3PaDL+vvP99AGLlZyEvd5Tk64S1PVCNsGFn4OnAAAAG0Ge7EUVLCP/AR4q\n",
       "AzYFySABRtuQibUxPRkbQQAAABwBnwt0R/8BxIpwaiW8AJq655UWMarOdVMTG/uXAAAAEwGfDWpH\n",
       "/wHFgA0Ao5UmlQpLarwAAABBQZsSSahBbJlMCGf//p4QAE/33+0tbulcAbeDt2cfNpmpnmfzZB4N\n",
       "AlMuHBXEW5vUoyc9pyIpHEO9h/pvx32Fg6YAAAAdQZ8wRRUsI/8BHioDIRjqgCHTahZmu+2N+Jwb\n",
       "H8EAAAASAZ9PdEf/AcSKcBN8To1aTKvAAAAADwGfUWpH/wHFgAHPKxL9wAAAACpBm1ZJqEFsmUwI\n",
       "Z//+nhAAT3LGlAIPS2cVDtjBmwUMNX6SWiCkWnuFgZUAAAAVQZ90RRUsI/8BHioDIgw4Hxq45uLb\n",
       "AAAADAGfk3RH/wHEimKBQwAAAAwBn5VqR/8BxYABARsAAAAyQZuaSahBbJlMCGf//p4QAFGxegAE\n",
       "7eu9hBYtR4P6lWUMp5+zCIbSRBNvKlxcSLPwdMAAAAATQZ+4RRUsI/8BHioDNyrCvnoW0QAAAAwB\n",
       "n9d0R/8BxIpigUMAAAAPAZ/Zakf/AcWADVwtcOmAAAAANkGb3kmoQWyZTAhn//6eEABRvgwwAXFu\n",
       "qi3SGEkOD5qs0HVQ9RAELhGg+cts9MnMCk5qXnBQQQAAABtBn/xFFSwj/wEeKgMy2434AJntEgvE\n",
       "kWCl4/gAAAAXAZ4bdEf/AcSKcG7VYAH8tR+3zOZrRWsAAAAPAZ4dakf/AcWAAc8rEv3BAAAARkGa\n",
       "AkmoQWyZTAhn//6eEABT8bjgCt5wGP2GDjVstgmHnrA6OtkUVgncZjhK8QHQChpnezlGQlZd+9qV\n",
       "rFiHy5maAG6tDBgAAAAdQZ4gRRUsI/8BHioDSyalGAAh7aXw2TcBSB4i5YEAAAASAZ5fdEf/AcSK\n",
       "cEBlshznrq1AAAAAEQGeQWpH/wHFgA2sLhfJvLaBAAAAVEGaRkmoQWyZTAhn//6eEABT8bjgCtOn\n",
       "n0Ue5kxCA+dhwUhzgZhhSi6NJYIkHs/dkbq412GW5oSDApjeqc/4aE1OOhDzZADg34+T/WKSkbBl\n",
       "k0WxXwAAABpBnmRFFSwj/wEeKgNLOpCAGkIJnUqSpUDwQAAAAA8BnoN0R/8BxIpjaa0u/cAAAAAY\n",
       "AZ6Fakf/AcWADawtX+QAJs4qZ9wmShctAAAAQEGaikmoQWyZTAhn//6eEABRsq1wA4xmLb+iAEV5\n",
       "3mTemR8Edcp2bEudMS3Duk16BoGMJLk2ir5hr3SZVoxlUYMAAAAYQZ6oRRUsI/8BHioDNg3TnFiq\n",
       "Io4fgVqBAAAADAGex3RH/wHEimKBQwAAABABnslqR/8BxYAHVgnt2NCBAAAAO0GazkmoQWyZTAhn\n",
       "//6eEABRsr44ArVKn4URMnYeuVK2fOSCvKN2L6t+ko3hG2cH1WMLOE72ezau9QIvAAAAE0Ge7EUV\n",
       "LCP/AR4qAzcqwr56FtEAAAAOAZ8LdEf/AcSKaXcpuUkAAAAPAZ8Nakf/AcWADVZfTmnpAAAAHkGb\n",
       "EkmoQWyZTAhn//6eEABRsOuAKPOTeP+j2iBiwAAAABFBnzBFFSwj/wEeKgBT/VB96QAAAAwBn090\n",
       "R/8BxIpigUMAAAAMAZ9Rakf/AcWAAQEbAAAAJkGbVkmoQWyZTAhf//6MsABScu7YA03r6iyMArgv\n",
       "BC2OjC4mGYRdAAAAEUGfdEUVLCP/AR4qAFP9UH3pAAAADAGfk3RH/wHEimKBQwAAAAwBn5VqR/8B\n",
       "xYABARsAAAAqQZuaSahBbJlMCF///oywAFJ18QYAdAxllKE07tisdYKD+xA37tvzGYRcAAAAE0Gf\n",
       "uEUVLCP/AR4qAzYMN31Vj+EAAAAMAZ/XdEf/AcSKYoFDAAAADAGf2WpH/wHFgAEBGwAAAENBm95J\n",
       "qEFsmUwIX//+jLAAVLPN4AOVyXs2sPLA5XahJVGCI+xnMTXNeQVqMLKNTFvouLMT076NpIv8X5q6\n",
       "3jjBD4EjAAAAFUGf/EUVLCP/AR4qA0sjy9TSJ4XcsAAAAAwBnht0R/8BxIpigUMAAAAXAZ4dakf/\n",
       "AcWADaeogAE4JSUmq7b4oIEAAABaQZofSahBbJlMCF///oywAKpvj4JO0ACorUY9Y3ow6gV86tXe\n",
       "oGeWBRnnEdI0imhB44bp88JUvDUx6WtDNF5pzrEFsnP7JIETm2w1BOB9uv2f9g/a57Y6ajFgAAAA\n",
       "U0GaIUnhClJlMFFSwz/+nhAAqO+/ln3aaAA6Bu99KZy5mhNUF0+4UbNjtcdAIIRanuisXi+Lwa4S\n",
       "ADKQ+mMfxECpvsD7ck9agPV0bLe+ptX79BQRAAAAEgGeQGpH/wBYsq5wm52mR1KMuAAAAFFBmkVJ\n",
       "4Q6JlMCGf/6eEACsVxvhl4AbcJN7AzrvVJgOD7ND4e8e996OSVyi/SrpIgp3jTkVZS8+GdewVTXj\n",
       "ON19p6Qh1iD1ycXhY26RFrTcEHEAAAAYQZ5jRRU8I/8ANz6pXOS8qe7nKVcdC5jhAAAAFgGegnRH\n",
       "/wBYvOakgAtwTiVP/CTUCNgAAAAMAZ6Eakf/AFiUAILiAAAAVkGaiUmoQWiZTAhn//6eEACsS2Rw\n",
       "Ca9c06SS9h23KjxxHD/1LmZdoxhgYC499pVnXO3owTdqOLCMtXvmrwBbVyaikDFBSwzg9PnXo45p\n",
       "OCdNUlr6rYVVAAAAE0Gep0URLCP/ADdTHfelHBl2cWAAAAANAZ7GdEf/ACxCuQuBGwAAAA0Bnshq\n",
       "R/8AWLLmgwEbAAAAOUGazUmoQWyZTAhn//6eEACsVuvWYcA1KpDQsy60iS+7TZsEP0wfvVKcZgmT\n",
       "31jFBjIIUPg7as4EvQAAAB5BnutFFSwj/wA3DgdOmriUAItUltPqWuOTKTeoBuEAAAAPAZ8KdEf/\n",
       "AFiAs4euxSBvAAAADQGfDGpH/wACw+8C9IEAAAA+QZsRSahBbJlMCGf//p4QAFYzj3ACuc4LTOkZ\n",
       "Qsi1dnyjzdjYFnsyLoYyxPeg4T5QD7uy1V1u6Y996H5MFBAAAAATQZ8vRRUsI/8AGwmQRU3qOH9A\n",
       "bgAAAAwBn050R/8ALF6MUaEAAAALAZ9Qakf/AAADA7oAAAAvQZtVSahBbJlMCGf//p4QAFP1ogUA\n",
       "Q+e5aa9w80ONvfdYxtnC5NX8HAPEne4sG9AAAAAZQZ9zRRUsI/8AGwUKTAC3e0QPxVYQmcO/cQAA\n",
       "AA8Bn5J0R/8AKyLliOQG/cEAAAANAZ+Uakf/AALD7wL0gQAAAC9Bm5lJqEFsmUwIZ//+nhAAVjN7\n",
       "wAR71znaasl5aZn+mJroYv2bzdNQZoufOfg3oAAAABNBn7dFFSwj/wAbCZBFTeo4f0BuAAAACwGf\n",
       "1nRH/wAAAwO7AAAACwGf2GpH/wAAAwO6AAAAJkGb3UmoQWyZTAhn//6eEABWM49wAjIozy+uXYdO\n",
       "EqnHgtMu8QLuAAAAD0Gf+0UVLCP/AAG63gBOIQAAAAsBnhp0R/8AAAMDugAAAAsBnhxqR/8AAAMD\n",
       "uwAAACRBmgFJqEFsmUwIZ//+nhAAU/WbgADaonKlXMiLc+rusZSTgm8AAAARQZ4/RRUsI/8AGwmQ\n",
       "Rkz+CBAAAAALAZ5edEf/AAADA7sAAAALAZ5Aakf/AAADA7oAAAAfQZpFSahBbJlMCF///oywAFbz\n",
       "tWAEUzDsDpiHszCDgQAAAA9BnmNFFSwj/wABut4ATiEAAAALAZ6CdEf/AAADA7oAAAALAZ6Eakf/\n",
       "AAADA7oAAAAtQZqJSahBbJlMCF///oywAFbzzeACHeL5Ybmkf9n6U08MJBnFxy+Q7Td8IYMXAAAA\n",
       "EUGep0UVLCP/ABuini/1QfegAAAADAGexnRH/wAsQuRRoQAAAAsBnshqR/8AAAMDugAAAC1Bms1J\n",
       "qEFsmUwIX//+jLAAqgd/6zQA3J04gCnC2/pagUT9Bejb0PEtxP6+B00AAAARQZ7rRRUsI/8AGwKe\n",
       "NXVB96EAAAAMAZ8KdEf/ACs+jFGrAAAACwGfDGpH/wAAAwO7AAAAIUGbEUmoQWyZTAhX//44QAKN\n",
       "cDAAF0FveDvxdxKf8OB4wAAAABFBny9FFSwj/wA2EyA+TP4IEAAAAAsBn050R/8AAAMDuwAAAAwB\n",
       "n1BqR/8AVlQAgvIAAAAhQZtVSahBbJlMCP/8hAAms6LBXACaq/uAQF8eLxVZWCggAAAAFEGfc0UV\n",
       "LCP/ADXm/FVQ1pDJxCv3AAAADgGfknRH/wBVQd55PBqRAAAAFgGflGpH/wBWMeDFTAC3UDo3q3WA\n",
       "kYEAABWKbW9vdgAAAGxtdmhkAAAAAAAAAAAAAAAAAAAD6AAAH0AAAQAAAQAAAAAAAAAAAAAAAAEA\n",
       "AAAAAAAAAAAAAAAAAAABAAAAAAAAAAAAAAAAAABAAAAAAAAAAAAAAAAAAAAAAAAAAAAAAAAAAAAA\n",
       "AAAAAgAAFLR0cmFrAAAAXHRraGQAAAADAAAAAAAAAAAAAAABAAAAAAAAH0AAAAAAAAAAAAAAAAAA\n",
       "AAAAAAEAAAAAAAAAAAAAAAAAAAABAAAAAAAAAAAAAAAAAABAAAAAAbAAAAEgAAAAAAAkZWR0cwAA\n",
       "ABxlbHN0AAAAAAAAAAEAAB9AAAACAAABAAAAABQsbWRpYQAAACBtZGhkAAAAAAAAAAAAAAAAAAAy\n",
       "AAABkABVxAAAAAAALWhkbHIAAAAAAAAAAHZpZGUAAAAAAAAAAAAAAABWaWRlb0hhbmRsZXIAAAAT\n",
       "121pbmYAAAAUdm1oZAAAAAEAAAAAAAAAAAAAACRkaW5mAAAAHGRyZWYAAAAAAAAAAQAAAAx1cmwg\n",
       "AAAAAQAAE5dzdGJsAAAAs3N0c2QAAAAAAAAAAQAAAKNhdmMxAAAAAAAAAAEAAAAAAAAAAAAAAAAA\n",
       "AAAAAbABIABIAAAASAAAAAAAAAABAAAAAAAAAAAAAAAAAAAAAAAAAAAAAAAAAAAAAAAAAAAAGP//\n",
       "AAAAMWF2Y0MBZAAe/+EAGGdkAB6s2UGwloQAAAMABAAAAwGQPFi2WAEABmjr48siwAAAABx1dWlk\n",
       "a2hA8l8kT8W6OaUbzwMj8wAAAAAAAAAYc3R0cwAAAAAAAAABAAABkAAAAQAAAAAYc3RzcwAAAAAA\n",
       "AAACAAAAAQAAAPsAAAwoY3R0cwAAAAAAAAGDAAAAAQAAAgAAAAABAAAEAAAAAAIAAAEAAAAAAQAA\n",
       "AwAAAAABAAABAAAAAAEAAAUAAAAAAQAAAgAAAAABAAAAAAAAAAEAAAEAAAAAAQAABAAAAAACAAAB\n",
       "AAAAAAEAAAUAAAAAAQAAAgAAAAABAAAAAAAAAAEAAAEAAAAAAQAAAwAAAAABAAABAAAAAAEAAAUA\n",
       "AAAAAQAAAgAAAAABAAAAAAAAAAEAAAEAAAAAAQAABQAAAAABAAACAAAAAAEAAAAAAAAAAQAAAQAA\n",
       "AAABAAACAAAAAAEAAAQAAAAAAgAAAQAAAAABAAACAAAAAAEAAAUAAAAAAQAAAgAAAAABAAAAAAAA\n",
       "AAEAAAEAAAAAAQAABQAAAAABAAACAAAAAAEAAAAAAAAAAQAAAQAAAAACAAACAAAAAAEAAAUAAAAA\n",
       "AQAAAgAAAAABAAAAAAAAAAEAAAEAAAAAAQAAAgAAAAABAAAFAAAAAAEAAAIAAAAAAQAAAAAAAAAB\n",
       "AAABAAAAAAEAAAUAAAAAAQAAAgAAAAABAAAAAAAAAAEAAAEAAAAAAQAABQAAAAABAAACAAAAAAEA\n",
       "AAAAAAAAAQAAAQAAAAABAAAEAAAAAAIAAAEAAAAAAQAABQAAAAABAAACAAAAAAEAAAAAAAAAAQAA\n",
       "AQAAAAABAAAFAAAAAAEAAAIAAAAAAQAAAAAAAAABAAABAAAAAAEAAAMAAAAAAQAAAQAAAAABAAAE\n",
       "AAAAAAIAAAEAAAAAAQAAAwAAAAABAAABAAAAAAEAAAUAAAAAAQAAAgAAAAABAAAAAAAAAAEAAAEA\n",
       "AAAAAQAABQAAAAABAAACAAAAAAEAAAAAAAAAAQAAAQAAAAABAAAEAAAAAAIAAAEAAAAAAQAABQAA\n",
       "AAABAAACAAAAAAEAAAAAAAAAAQAAAQAAAAABAAAFAAAAAAEAAAIAAAAAAQAAAAAAAAABAAABAAAA\n",
       "AAEAAAUAAAAAAQAAAgAAAAABAAAAAAAAAAEAAAEAAAAAAQAABQAAAAABAAACAAAAAAEAAAAAAAAA\n",
       "AQAAAQAAAAABAAAEAAAAAAIAAAEAAAAAAQAABQAAAAABAAACAAAAAAEAAAAAAAAAAQAAAQAAAAAB\n",
       "AAAFAAAAAAEAAAIAAAAAAQAAAAAAAAABAAABAAAAAAEAAAUAAAAAAQAAAgAAAAABAAAAAAAAAAEA\n",
       "AAEAAAAAAQAABQAAAAABAAACAAAAAAEAAAAAAAAAAQAAAQAAAAABAAADAAAAAAEAAAEAAAAAAQAA\n",
       "BAAAAAACAAABAAAAAAEAAAMAAAAAAQAAAQAAAAABAAAFAAAAAAEAAAIAAAAAAQAAAAAAAAABAAAB\n",
       "AAAAAAEAAAUAAAAAAQAAAgAAAAABAAAAAAAAAAEAAAEAAAAAAQAAAwAAAAABAAABAAAAAAEAAAUA\n",
       "AAAAAQAAAgAAAAABAAAAAAAAAAEAAAEAAAAAAQAAAgAAAAABAAAFAAAAAAEAAAIAAAAAAQAAAAAA\n",
       "AAABAAABAAAAAAEAAAUAAAAAAQAAAgAAAAABAAAAAAAAAAEAAAEAAAAAAQAABQAAAAABAAACAAAA\n",
       "AAEAAAAAAAAAAQAAAQAAAAABAAAFAAAAAAEAAAIAAAAAAQAAAAAAAAABAAABAAAAAAEAAAMAAAAA\n",
       "AQAAAQAAAAABAAAFAAAAAAEAAAIAAAAAAQAAAAAAAAABAAABAAAAAAEAAAUAAAAAAQAAAgAAAAAB\n",
       "AAAAAAAAAAEAAAEAAAAAAQAABQAAAAABAAACAAAAAAEAAAAAAAAAAQAAAQAAAAABAAAFAAAAAAEA\n",
       "AAIAAAAAAQAAAAAAAAABAAABAAAAAAEAAAUAAAAAAQAAAgAAAAABAAAAAAAAAAEAAAEAAAAAAQAA\n",
       "BQAAAAABAAACAAAAAAEAAAAAAAAAAQAAAQAAAAABAAAFAAAAAAEAAAIAAAAAAQAAAAAAAAABAAAB\n",
       "AAAAAAEAAAUAAAAAAQAAAgAAAAABAAAAAAAAAAEAAAEAAAAAAQAABQAAAAABAAACAAAAAAEAAAAA\n",
       "AAAAAQAAAQAAAAABAAAEAAAAAAIAAAEAAAAAAQAABQAAAAABAAACAAAAAAEAAAAAAAAAAQAAAQAA\n",
       "AAABAAAFAAAAAAEAAAIAAAAAAQAAAAAAAAABAAABAAAAAAEAAAUAAAAAAQAAAgAAAAABAAAAAAAA\n",
       "AAEAAAEAAAAAAQAABAAAAAACAAABAAAAAAEAAAUAAAAAAQAAAgAAAAABAAAAAAAAAAEAAAEAAAAA\n",
       "AQAABQAAAAABAAACAAAAAAEAAAAAAAAAAQAAAQAAAAABAAAFAAAAAAEAAAIAAAAAAQAAAAAAAAAB\n",
       "AAABAAAAAAEAAAUAAAAAAQAAAgAAAAABAAAAAAAAAAEAAAEAAAAAAQAABQAAAAABAAACAAAAAAEA\n",
       "AAAAAAAAAQAAAQAAAAABAAAEAAAAAAIAAAEAAAAAAQAAAgAAAAABAAAFAAAAAAEAAAIAAAAAAQAA\n",
       "AAAAAAABAAABAAAAAAEAAAUAAAAAAQAAAgAAAAABAAAAAAAAAAEAAAEAAAAAAgAAAgAAAAABAAAF\n",
       "AAAAAAEAAAIAAAAAAQAAAAAAAAABAAABAAAAAAEAAAUAAAAAAQAAAgAAAAABAAAAAAAAAAEAAAEA\n",
       "AAAAAQAABQAAAAABAAACAAAAAAEAAAAAAAAAAQAAAQAAAAABAAAFAAAAAAEAAAIAAAAAAQAAAAAA\n",
       "AAABAAABAAAAAAEAAAUAAAAAAQAAAgAAAAABAAAAAAAAAAEAAAEAAAAAAQAAAwAAAAABAAABAAAA\n",
       "AAEAAAUAAAAAAQAAAgAAAAABAAAAAAAAAAEAAAEAAAAAAQAABQAAAAABAAACAAAAAAEAAAAAAAAA\n",
       "AQAAAQAAAAABAAAFAAAAAAEAAAIAAAAAAQAAAAAAAAABAAABAAAAAAEAAAUAAAAAAQAAAgAAAAAB\n",
       "AAAAAAAAAAEAAAEAAAAAAQAABQAAAAABAAACAAAAAAEAAAAAAAAAAQAAAQAAAAABAAAFAAAAAAEA\n",
       "AAIAAAAAAQAAAAAAAAABAAABAAAAAAEAAAUAAAAAAQAAAgAAAAABAAAAAAAAAAEAAAEAAAAAAQAA\n",
       "BQAAAAABAAACAAAAAAEAAAAAAAAAAQAAAQAAAAABAAAFAAAAAAEAAAIAAAAAAQAAAAAAAAABAAAB\n",
       "AAAAAAEAAAUAAAAAAQAAAgAAAAABAAAAAAAAAAEAAAEAAAAAAQAABQAAAAABAAACAAAAAAEAAAAA\n",
       "AAAAAQAAAQAAAAABAAAFAAAAAAEAAAIAAAAAAQAAAAAAAAABAAABAAAAAAEAAAUAAAAAAQAAAgAA\n",
       "AAABAAAAAAAAAAEAAAEAAAAAAQAABQAAAAABAAACAAAAAAEAAAAAAAAAAQAAAQAAAAABAAAFAAAA\n",
       "AAEAAAIAAAAAAQAAAAAAAAABAAABAAAAAAEAAAUAAAAAAQAAAgAAAAABAAAAAAAAAAEAAAEAAAAA\n",
       "AQAABQAAAAABAAACAAAAAAEAAAAAAAAAAQAAAQAAAAABAAAFAAAAAAEAAAIAAAAAAQAAAAAAAAAB\n",
       "AAABAAAAAAEAAAIAAAAAAQAAAwAAAAABAAABAAAAAAEAAAUAAAAAAQAAAgAAAAABAAAAAAAAAAEA\n",
       "AAEAAAAAAQAABQAAAAABAAACAAAAAAEAAAAAAAAAAQAAAQAAAAABAAAFAAAAAAEAAAIAAAAAAQAA\n",
       "AAAAAAABAAABAAAAAAEAAAUAAAAAAQAAAgAAAAABAAAAAAAAAAEAAAEAAAAAAQAABQAAAAABAAAC\n",
       "AAAAAAEAAAAAAAAAAQAAAQAAAAABAAAFAAAAAAEAAAIAAAAAAQAAAAAAAAABAAABAAAAAAEAAAUA\n",
       "AAAAAQAAAgAAAAABAAAAAAAAAAEAAAEAAAAAAQAABQAAAAABAAACAAAAAAEAAAAAAAAAAQAAAQAA\n",
       "AAABAAAFAAAAAAEAAAIAAAAAAQAAAAAAAAABAAABAAAAAAEAAAUAAAAAAQAAAgAAAAABAAAAAAAA\n",
       "AAEAAAEAAAAAAQAABQAAAAABAAACAAAAAAEAAAAAAAAAAQAAAQAAAAABAAAFAAAAAAEAAAIAAAAA\n",
       "AQAAAAAAAAABAAABAAAAAAEAAAUAAAAAAQAAAgAAAAABAAAAAAAAAAEAAAEAAAAAHHN0c2MAAAAA\n",
       "AAAAAQAAAAEAAAGQAAAAAQAABlRzdHN6AAAAAAAAAAAAAAGQAAA1AgAAAsYAAABdAAAAMgAAAIcA\n",
       "AAA4AAAAlQAAADkAAAAmAAAAMAAAAFgAAAAzAAAAJQAAAIYAAAAwAAAAJAAAACIAAABUAAAAJgAA\n",
       "AHkAAAA3AAAAJQAAACYAAAB0AAAALwAAABsAAAAkAAAALgAAAFEAAAAwAAAAJQAAAEEAAABQAAAA\n",
       "LgAAACQAAAAaAAAAPwAAADAAAAAdAAAAJQAAAEMAAAA8AAAAegAAACsAAAAlAAAAHAAAAEMAAAB2\n",
       "AAAALwAAABsAAAAkAAAAdAAAADAAAAAYAAAAIgAAAEkAAAAhAAAAGAAAABYAAAA/AAAAKgAAABQA\n",
       "AABVAAAALQAAACMAAAAjAAAAUwAAACsAAAAYAAAAJAAAAEMAAAAiAAAAWgAAACgAAAAkAAAAPwAA\n",
       "AB8AAAB+AAAAMAAAAB0AAAAjAAAARwAAACoAAAAbAAAAGgAAAEcAAAAjAAAAHwAAADwAAAAsAAAA\n",
       "IAAAABYAAAA8AAAAJQAAABcAAAAgAAAANQAAACEAAAAZAAAAGAAAAEYAAAAyAAAAKAAAAB8AAABM\n",
       "AAAAJgAAACQAAAA9AAAAJgAAABoAAAAYAAAASwAAACwAAAAYAAAAIwAAADwAAAAoAAAAGwAAABgA\n",
       "AAAmAAAAIgAAABcAAAAZAAAAQwAAAB4AAABWAAAALQAAABoAAABJAAAAKgAAAFoAAAAwAAAAGwAA\n",
       "ABgAAAA0AAAAJwAAABYAAAAYAAAANgAAACMAAAAxAAAAKwAAABYAAAAVAAAAKgAAADoAAAAlAAAA\n",
       "GgAAABgAAABBAAAAKAAAABkAAAAWAAAAQAAAACsAAAAhAAAAIgAAADUAAAAnAAAAGAAAABYAAAA8\n",
       "AAAAJAAAADUAAAAnAAAAGQAAABYAAABHAAAAJwAAABgAAAAZAAAATgAAACQAAAAYAAAAGAAAAC8A\n",
       "AAAgAAAAGAAAABYAAAApAAAAIAAAABYAAAAWAAAATwAAACkAAAAWAAAAJAAAAHkAAAAlAAAAJAAA\n",
       "ABgAAABEAAAAIQAAABcAAAAhAAAASgAAACQAAAAYAAAAGAAAAHkAAAAqAAAAJAAAAFkAAAAuAAAA\n",
       "JQAAACIAAAAyAAAAJQAAABkAAAAYAAAAUgAAACkAAAAYAAAAIwAAAEAAAAArAAAAGgAAAE0AAAAt\n",
       "AAAAHAAAABgAAABJAAAAKAAAABsAAAAWAAAAKQAAACAAAAAYAAAAFgAAACwAAAAgAAAAFgAAABgA\n",
       "AAAzAAAAIgAAABcAAAAZAAAANwAAACIAAAAaAAAAOwAAAE8AAAAtAAAAGgAAABoAAAAiAAAAIAAA\n",
       "ABYAAAAWAAAAFgAAQZIAAAG/AAAAMAAAACgAAAAUAAAATQAAACwAAAAlAAAAJgAAAEIAAAAaAAAA\n",
       "FAAAABQAAAAvAAAAGwAAABMAAAASAAAAQgAAABkAAAAQAAAAFQAAAFMAAAAlAAAAOwAAACAAAAAW\n",
       "AAAAFQAAAFQAAAAhAAAAFgAAABQAAAA6AAAAGgAAABAAAAAQAAAAPgAAABcAAAASAAAAEgAAAEEA\n",
       "AAAbAAAAEgAAABoAAABEAAAAHwAAACAAAAAXAAAARQAAACEAAAAWAAAAEwAAAC4AAAAZAAAAEAAA\n",
       "ABAAAAA2AAAAFwAAABAAAAATAAAAOgAAAB8AAAAbAAAAEwAAAEoAAAAhAAAAFgAAABUAAABYAAAA\n",
       "HgAAABMAAAAcAAAARAAAABwAAAAQAAAAFAAAAD8AAAAXAAAAEgAAABMAAAAiAAAAFQAAABAAAAAQ\n",
       "AAAAKgAAABUAAAAQAAAAEAAAAC4AAAAXAAAAEAAAABAAAABHAAAAGQAAABAAAAAbAAAAXgAAAFcA\n",
       "AAAWAAAAVQAAABwAAAAaAAAAEAAAAFoAAAAXAAAAEQAAABEAAAA9AAAAIgAAABMAAAARAAAAQgAA\n",
       "ABcAAAAQAAAADwAAADMAAAAdAAAAEwAAABEAAAAzAAAAFwAAAA8AAAAPAAAAKgAAABMAAAAPAAAA\n",
       "DwAAACgAAAAVAAAADwAAAA8AAAAjAAAAEwAAAA8AAAAPAAAAMQAAABUAAAAQAAAADwAAADEAAAAV\n",
       "AAAAEAAAAA8AAAAlAAAAFQAAAA8AAAAQAAAAJQAAABgAAAASAAAAGgAAABRzdGNvAAAAAAAAAAEA\n",
       "AAAsAAAAYnVkdGEAAABabWV0YQAAAAAAAAAhaGRscgAAAAAAAAAAbWRpcmFwcGwAAAAAAAAAAAAA\n",
       "AAAtaWxzdAAAACWpdG9vAAAAHWRhdGEAAAABAAAAAExhdmY1OC4xMi4xMDA=\n",
       "\">\n",
       "  Your browser does not support the video tag.\n",
       "</video>"
      ]
     },
     "metadata": {},
     "output_type": "display_data"
    }
   ],
   "source": [
    "try:\n",
    "    display_html(HTML(anim.to_html5_video()))\n",
    "# In case the build-in renderers are unaviable, fall back to\n",
    "# a custom one, that doesn't require external libraries\n",
    "except RuntimeError:\n",
    "    anim.save(None, writer=matplotlib_utils.SimpleMovieWriter(0.001))"
   ]
  },
  {
   "cell_type": "code",
   "execution_count": 30,
   "metadata": {},
   "outputs": [
    {
     "data": {
      "text/plain": [
       "['ffmpeg', 'ffmpeg_file', 'html']"
      ]
     },
     "execution_count": 30,
     "metadata": {},
     "output_type": "execute_result"
    }
   ],
   "source": [
    "animation.writers.list()"
   ]
  },
  {
   "cell_type": "markdown",
   "metadata": {},
   "source": [
    "# Logistic regression\n",
    "Your assignment is to implement the logistic regression\n",
    "\n",
    "Plan:\n",
    "* Use a shared variable for weights\n",
    "* Use a matrix placeholder for `X`\n",
    " \n",
    "We shall train on a two-class MNIST dataset\n",
    "* please note that target `y` are `{0,1}` and not `{-1,1}` as in some formulae"
   ]
  },
  {
   "cell_type": "code",
   "execution_count": 31,
   "metadata": {},
   "outputs": [
    {
     "name": "stdout",
     "output_type": "stream",
     "text": [
      "y [shape - (360,)]: [0 1 0 1 0 1 0 0 1 1]\n",
      "X [shape - (360, 64)]:\n"
     ]
    }
   ],
   "source": [
    "from sklearn.datasets import load_digits\n",
    "mnist = load_digits(2)\n",
    "\n",
    "X, y = mnist.data, mnist.target\n",
    "\n",
    "print(\"y [shape - %s]:\" % (str(y.shape)), y[:10])\n",
    "print(\"X [shape - %s]:\" % (str(X.shape)))"
   ]
  },
  {
   "cell_type": "code",
   "execution_count": 32,
   "metadata": {},
   "outputs": [
    {
     "name": "stdout",
     "output_type": "stream",
     "text": [
      "X:\n",
      " [[ 0.  0.  5. 13.  9.  1.  0.  0.  0.  0.]\n",
      " [ 0.  0.  0. 12. 13.  5.  0.  0.  0.  0.]\n",
      " [ 0.  0.  1.  9. 15. 11.  0.  0.  0.  0.]]\n",
      "y:\n",
      " [0 1 0 1 0 1 0 0 1 1]\n"
     ]
    },
    {
     "data": {
      "image/png": "[encoded data removed]",
      "text/plain": [
       "<matplotlib.figure.Figure at 0x1a288950f0>"
      ]
     },
     "metadata": {},
     "output_type": "display_data"
    }
   ],
   "source": [
    "print('X:\\n',X[:3,:10])\n",
    "print('y:\\n',y[:10])\n",
    "plt.imshow(X[0].reshape([8,8]));"
   ]
  },
  {
   "cell_type": "markdown",
   "metadata": {},
   "source": [
    "It's your turn now!\n",
    "Just a small reminder of the relevant math:\n",
    "\n",
    "$$\n",
    "P(y=1|X) = \\sigma(X \\cdot W + b)\n",
    "$$\n",
    "$$\n",
    "\\text{loss} = -\\log\\left(P\\left(y_\\text{predicted} = 1\\right)\\right)\\cdot y_\\text{true} - \\log\\left(1 - P\\left(y_\\text{predicted} = 1\\right)\\right)\\cdot\\left(1 - y_\\text{true}\\right)\n",
    "$$\n",
    "\n",
    "$\\sigma(x)$ is available via `tf.nn.sigmoid` and matrix multiplication via `tf.matmul`"
   ]
  },
  {
   "cell_type": "code",
   "execution_count": 33,
   "metadata": {},
   "outputs": [],
   "source": [
    "from sklearn.model_selection import train_test_split\n",
    "X_train, X_test, y_train, y_test = train_test_split(\n",
    "    X, y, random_state=42)"
   ]
  },
  {
   "cell_type": "markdown",
   "metadata": {},
   "source": [
    "__Your code goes here.__ For the training and testing scaffolding to work, please stick to the names in comments."
   ]
  },
  {
   "cell_type": "code",
   "execution_count": 47,
   "metadata": {
    "collapsed": true
   },
   "outputs": [],
   "source": [
    "# Model parameters - weights and bias\n",
    "# weights = tf.Variable(...) shape should be (X.shape[1], 1)\n",
    "# b = tf.Variable(...)\n",
    "\n",
    "# weights = tf.Variable(tf.zeros((X_train.shape[1], 1), dtype=tf.float32))\n",
    "# b = tf.Variable(0.0, dtype=tf.float32)\n",
    "\n",
    "weights = tf.Variable(np.zeros((X.shape[1], 1)), dtype=\"float32\", name=\"weights\")\n",
    "b = tf.Variable(0.0, dtype=\"float32\", name=\"bias\")"
   ]
  },
  {
   "cell_type": "code",
   "execution_count": 48,
   "metadata": {
    "collapsed": true
   },
   "outputs": [],
   "source": [
    "# Placeholders for the input data\n",
    "# input_X = tf.placeholder(...)\n",
    "# input_y = tf.placeholder(...)\n",
    "\n",
    "input_X = tf.placeholder(\"float32\", shape=(None, X.shape[1]), name=\"input_x\")\n",
    "input_y = tf.placeholder(\"float32\", shape=(None,), name=\"input_y\")\n"
   ]
  },
  {
   "cell_type": "code",
   "execution_count": 52,
   "metadata": {
    "collapsed": true
   },
   "outputs": [],
   "source": [
    "# The model code\n",
    "\n",
    "# Compute a vector of predictions, resulting shape should be [input_X.shape[0],]\n",
    "# This is 1D, if you have extra dimensions, you can  get rid of them with tf.squeeze .\n",
    "# Don't forget the sigmoid.\n",
    "# predicted_y = <predicted probabilities for input_X>\n",
    "predicted_y = tf.nn.sigmoid(tf.squeeze(tf.matmul(input_X, weights)) + b)\n",
    "\n",
    "# Loss. Should be a scalar number - average loss over all the objects\n",
    "# tf.reduce_mean is your friend here\n",
    "# loss = <logistic loss (scalar, mean over sample)>\n",
    "loss = tf.reduce_mean(\n",
    "    -1 * tf.log(predicted_y) * input_y - \\\n",
    "    tf.log(1 - predicted_y) * (1 - input_y)\n",
    ")\n",
    "\n",
    "# See above for an example. tf.train.*Optimizer\n",
    "# optimizer = <optimizer that minimizes loss>\n",
    "optimizer = tf.train.MomentumOptimizer(0.01, 0.5).minimize(\n",
    "    loss, var_list=weights)"
   ]
  },
  {
   "cell_type": "markdown",
   "metadata": {},
   "source": [
    "A test to help with the debugging"
   ]
  },
  {
   "cell_type": "code",
   "execution_count": 54,
   "metadata": {
    "collapsed": true
   },
   "outputs": [],
   "source": [
    "validation_weights = 1e-3 * np.fromiter(map(lambda x:\n",
    "        s.run(weird_psychotic_function, {my_scalar:x, my_vector:[1, 0.1, 2]}),\n",
    "                                   0.15 * np.arange(1, X.shape[1] + 1)),\n",
    "                                   count=X.shape[1], dtype=np.float32)[:, np.newaxis]\n",
    "# Compute predictions for given weights and bias\n",
    "prediction_validation = s.run(\n",
    "    predicted_y, {\n",
    "    input_X: X,\n",
    "    weights: validation_weights,\n",
    "    b: 1e-1})\n",
    "\n",
    "# Load the reference values for the predictions\n",
    "validation_true_values = np.loadtxt(\"validation_predictons.txt\")\n",
    "\n",
    "\n",
    "assert prediction_validation.shape == (X.shape[0],),\\\n",
    "       \"Predictions must be a 1D array with length equal to the number \" \\\n",
    "       \"of examples in input_X\"\n",
    "assert np.allclose(validation_true_values, prediction_validation)\n",
    "loss_validation = s.run(\n",
    "        loss, {\n",
    "            input_X: X[:100],\n",
    "            input_y: y[-100:],\n",
    "            weights: validation_weights+1.21e-3,\n",
    "            b: -1e-1})\n",
    "assert np.allclose(loss_validation, 0.728689)"
   ]
  },
  {
   "cell_type": "code",
   "execution_count": 55,
   "metadata": {},
   "outputs": [
    {
     "name": "stdout",
     "output_type": "stream",
     "text": [
      "loss at iter 0:0.1252\n",
      "train auc: 0.9999451032059727\n",
      "test auc: 1.0\n",
      "loss at iter 1:0.0450\n",
      "train auc: 1.0\n",
      "test auc: 1.0\n",
      "loss at iter 2:0.0269\n",
      "train auc: 1.0\n",
      "test auc: 1.0\n",
      "loss at iter 3:0.0200\n",
      "train auc: 1.0\n",
      "test auc: 1.0\n",
      "loss at iter 4:0.0169\n",
      "train auc: 1.0\n",
      "test auc: 1.0\n"
     ]
    }
   ],
   "source": [
    "from sklearn.metrics import roc_auc_score\n",
    "s.run(tf.global_variables_initializer())\n",
    "for i in range(5):\n",
    "    s.run(optimizer, {input_X: X_train, input_y: y_train})\n",
    "    loss_i = s.run(loss, {input_X: X_train, input_y: y_train})\n",
    "    print(\"loss at iter %i:%.4f\" % (i, loss_i))\n",
    "    print(\"train auc:\", roc_auc_score(y_train, s.run(predicted_y, {input_X:X_train})))\n",
    "    print(\"test auc:\", roc_auc_score(y_test, s.run(predicted_y, {input_X:X_test})))"
   ]
  },
  {
   "cell_type": "markdown",
   "metadata": {},
   "source": [
    "### Coursera submission"
   ]
  },
  {
   "cell_type": "code",
   "execution_count": 56,
   "metadata": {
    "collapsed": true
   },
   "outputs": [],
   "source": [
    "grade_submitter = grading.Grader(\"BJCiiY8sEeeCnhKCj4fcOA\")"
   ]
  },
  {
   "cell_type": "code",
   "execution_count": 57,
   "metadata": {
    "collapsed": true
   },
   "outputs": [],
   "source": [
    "test_weights = 1e-3 * np.fromiter(map(lambda x:\n",
    "    s.run(weird_psychotic_function, {my_scalar:x, my_vector:[1, 2, 3]}),\n",
    "                               0.1 * np.arange(1, X.shape[1] + 1)),\n",
    "                               count=X.shape[1], dtype=np.float32)[:, np.newaxis]"
   ]
  },
  {
   "cell_type": "markdown",
   "metadata": {},
   "source": [
    "First, test prediction and loss computation. This part doesn't require a fitted model."
   ]
  },
  {
   "cell_type": "code",
   "execution_count": 58,
   "metadata": {
    "collapsed": true
   },
   "outputs": [],
   "source": [
    "prediction_test = s.run(\n",
    "    predicted_y, {\n",
    "    input_X: X,\n",
    "    weights: test_weights,\n",
    "    b: 1e-1})"
   ]
  },
  {
   "cell_type": "code",
   "execution_count": 59,
   "metadata": {
    "collapsed": true
   },
   "outputs": [],
   "source": [
    "assert prediction_test.shape == (X.shape[0],),\\\n",
    "       \"Predictions must be a 1D array with length equal to the number \" \\\n",
    "       \"of examples in X_test\""
   ]
  },
  {
   "cell_type": "code",
   "execution_count": 60,
   "metadata": {
    "collapsed": true
   },
   "outputs": [],
   "source": [
    "grade_submitter.set_answer(\"0ENlN\", prediction_test)"
   ]
  },
  {
   "cell_type": "code",
   "execution_count": 61,
   "metadata": {
    "collapsed": true
   },
   "outputs": [],
   "source": [
    "loss_test = s.run(\n",
    "    loss, {\n",
    "        input_X: X[:100],\n",
    "        input_y: y[-100:],\n",
    "        weights: test_weights+1.21e-3,\n",
    "        b: -1e-1})\n",
    "# Yes, the X/y indices mistmach is intentional"
   ]
  },
  {
   "cell_type": "code",
   "execution_count": 62,
   "metadata": {
    "collapsed": true
   },
   "outputs": [],
   "source": [
    "grade_submitter.set_answer(\"mMVpM\", loss_test)"
   ]
  },
  {
   "cell_type": "code",
   "execution_count": 63,
   "metadata": {
    "collapsed": true
   },
   "outputs": [],
   "source": [
    "grade_submitter.set_answer(\"D16Rc\", roc_auc_score(y_test, s.run(predicted_y, {input_X:X_test})))"
   ]
  },
  {
   "cell_type": "markdown",
   "metadata": {},
   "source": [
    "Please use the credentials obtained from the Coursera assignment page."
   ]
  },
  {
   "cell_type": "code",
   "execution_count": 64,
   "metadata": {},
   "outputs": [
    {
     "name": "stdout",
     "output_type": "stream",
     "text": [
      "Submitted to Coursera platform. See results on assignment page!\n"
     ]
    }
   ],
   "source": [
    "grade_submitter.submit('taremwaarnold@gmail.com', 'U0PoI2m1WU3lP2Dd')"
   ]
  },
  {
   "cell_type": "code",
   "execution_count": null,
   "metadata": {},
   "outputs": [],
   "source": []
  }
 ],
 "metadata": {
  "kernelspec": {
   "display_name": "Python 3",
   "language": "python",
   "name": "python3"
  },
  "language_info": {
   "codemirror_mode": {
    "name": "ipython",
    "version": 3
   },
   "file_extension": ".py",
   "mimetype": "text/x-python",
   "name": "python",
   "nbconvert_exporter": "python",
   "pygments_lexer": "ipython3",
   "version": "3.6.4"
  }
 },
 "nbformat": 4,
 "nbformat_minor": 2
}
